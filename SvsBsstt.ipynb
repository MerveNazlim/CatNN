{
  "cells": [
    {
      "cell_type": "markdown",
      "metadata": {
        "id": "view-in-github",
        "colab_type": "text"
      },
      "source": [
        "<a href=\"https://colab.research.google.com/github/MerveNazlim/CatNN/blob/main/SvsBsstt.ipynb\" target=\"_parent\"><img src=\"https://colab.research.google.com/assets/colab-badge.svg\" alt=\"Open In Colab\"/></a>"
      ]
    },
    {
      "cell_type": "code",
      "execution_count": 15,
      "metadata": {
        "id": "UBX6b4mvgT8T"
      },
      "outputs": [],
      "source": [
        "from google.colab import drive"
      ]
    },
    {
      "cell_type": "code",
      "execution_count": 16,
      "metadata": {
        "colab": {
          "base_uri": "https://localhost:8080/"
        },
        "id": "XAl30aMggYG2",
        "outputId": "810295e9-65e1-4d70-d355-a708f1f18417"
      },
      "outputs": [
        {
          "output_type": "stream",
          "name": "stdout",
          "text": [
            "Mounted at /content/gdrive\n"
          ]
        }
      ],
      "source": [
        "drive.mount(\"/content/gdrive\", force_remount=True)"
      ]
    },
    {
      "cell_type": "code",
      "execution_count": null,
      "metadata": {
        "colab": {
          "base_uri": "https://localhost:8080/",
          "height": 1000
        },
        "id": "7hc_Kyu8oYe6",
        "outputId": "0f366dfd-fcde-4ff7-e644-e4a2b4132430"
      },
      "outputs": [
        {
          "output_type": "stream",
          "name": "stdout",
          "text": [
            "Collecting tensorflow==2.4.1\n",
            "  Downloading tensorflow-2.4.1-cp37-cp37m-manylinux2010_x86_64.whl (394.3 MB)\n",
            "\u001b[K     |████████████████████████████████| 394.3 MB 13 kB/s \n",
            "\u001b[?25hCollecting flatbuffers~=1.12.0\n",
            "  Downloading flatbuffers-1.12-py2.py3-none-any.whl (15 kB)\n",
            "Requirement already satisfied: google-pasta~=0.2 in /usr/local/lib/python3.7/dist-packages (from tensorflow==2.4.1) (0.2.0)\n",
            "Collecting wrapt~=1.12.1\n",
            "  Downloading wrapt-1.12.1.tar.gz (27 kB)\n",
            "Requirement already satisfied: keras-preprocessing~=1.1.2 in /usr/local/lib/python3.7/dist-packages (from tensorflow==2.4.1) (1.1.2)\n",
            "Collecting absl-py~=0.10\n",
            "  Downloading absl_py-0.15.0-py3-none-any.whl (132 kB)\n",
            "\u001b[K     |████████████████████████████████| 132 kB 41.4 MB/s \n",
            "\u001b[?25hRequirement already satisfied: six~=1.15.0 in /usr/local/lib/python3.7/dist-packages (from tensorflow==2.4.1) (1.15.0)\n",
            "Collecting grpcio~=1.32.0\n",
            "  Downloading grpcio-1.32.0-cp37-cp37m-manylinux2014_x86_64.whl (3.8 MB)\n",
            "\u001b[K     |████████████████████████████████| 3.8 MB 41.0 MB/s \n",
            "\u001b[?25hCollecting gast==0.3.3\n",
            "  Downloading gast-0.3.3-py2.py3-none-any.whl (9.7 kB)\n",
            "Requirement already satisfied: astunparse~=1.6.3 in /usr/local/lib/python3.7/dist-packages (from tensorflow==2.4.1) (1.6.3)\n",
            "Requirement already satisfied: termcolor~=1.1.0 in /usr/local/lib/python3.7/dist-packages (from tensorflow==2.4.1) (1.1.0)\n",
            "Requirement already satisfied: protobuf>=3.9.2 in /usr/local/lib/python3.7/dist-packages (from tensorflow==2.4.1) (3.17.3)\n",
            "Requirement already satisfied: opt-einsum~=3.3.0 in /usr/local/lib/python3.7/dist-packages (from tensorflow==2.4.1) (3.3.0)\n",
            "Collecting typing-extensions~=3.7.4\n",
            "  Downloading typing_extensions-3.7.4.3-py3-none-any.whl (22 kB)\n",
            "Collecting tensorflow-estimator<2.5.0,>=2.4.0\n",
            "  Downloading tensorflow_estimator-2.4.0-py2.py3-none-any.whl (462 kB)\n",
            "\u001b[K     |████████████████████████████████| 462 kB 49.2 MB/s \n",
            "\u001b[?25hRequirement already satisfied: wheel~=0.35 in /usr/local/lib/python3.7/dist-packages (from tensorflow==2.4.1) (0.37.1)\n",
            "Collecting numpy~=1.19.2\n",
            "  Downloading numpy-1.19.5-cp37-cp37m-manylinux2010_x86_64.whl (14.8 MB)\n",
            "\u001b[K     |████████████████████████████████| 14.8 MB 43.3 MB/s \n",
            "\u001b[?25hCollecting h5py~=2.10.0\n",
            "  Downloading h5py-2.10.0-cp37-cp37m-manylinux1_x86_64.whl (2.9 MB)\n",
            "\u001b[K     |████████████████████████████████| 2.9 MB 43.9 MB/s \n",
            "\u001b[?25hRequirement already satisfied: tensorboard~=2.4 in /usr/local/lib/python3.7/dist-packages (from tensorflow==2.4.1) (2.8.0)\n",
            "Requirement already satisfied: tensorboard-plugin-wit>=1.6.0 in /usr/local/lib/python3.7/dist-packages (from tensorboard~=2.4->tensorflow==2.4.1) (1.8.1)\n",
            "Requirement already satisfied: markdown>=2.6.8 in /usr/local/lib/python3.7/dist-packages (from tensorboard~=2.4->tensorflow==2.4.1) (3.3.6)\n",
            "Requirement already satisfied: setuptools>=41.0.0 in /usr/local/lib/python3.7/dist-packages (from tensorboard~=2.4->tensorflow==2.4.1) (57.4.0)\n",
            "Requirement already satisfied: google-auth<3,>=1.6.3 in /usr/local/lib/python3.7/dist-packages (from tensorboard~=2.4->tensorflow==2.4.1) (1.35.0)\n",
            "Requirement already satisfied: tensorboard-data-server<0.7.0,>=0.6.0 in /usr/local/lib/python3.7/dist-packages (from tensorboard~=2.4->tensorflow==2.4.1) (0.6.1)\n",
            "Requirement already satisfied: google-auth-oauthlib<0.5,>=0.4.1 in /usr/local/lib/python3.7/dist-packages (from tensorboard~=2.4->tensorflow==2.4.1) (0.4.6)\n",
            "Requirement already satisfied: werkzeug>=0.11.15 in /usr/local/lib/python3.7/dist-packages (from tensorboard~=2.4->tensorflow==2.4.1) (1.0.1)\n",
            "Requirement already satisfied: requests<3,>=2.21.0 in /usr/local/lib/python3.7/dist-packages (from tensorboard~=2.4->tensorflow==2.4.1) (2.23.0)\n",
            "Requirement already satisfied: pyasn1-modules>=0.2.1 in /usr/local/lib/python3.7/dist-packages (from google-auth<3,>=1.6.3->tensorboard~=2.4->tensorflow==2.4.1) (0.2.8)\n",
            "Requirement already satisfied: cachetools<5.0,>=2.0.0 in /usr/local/lib/python3.7/dist-packages (from google-auth<3,>=1.6.3->tensorboard~=2.4->tensorflow==2.4.1) (4.2.4)\n",
            "Requirement already satisfied: rsa<5,>=3.1.4 in /usr/local/lib/python3.7/dist-packages (from google-auth<3,>=1.6.3->tensorboard~=2.4->tensorflow==2.4.1) (4.8)\n",
            "Requirement already satisfied: requests-oauthlib>=0.7.0 in /usr/local/lib/python3.7/dist-packages (from google-auth-oauthlib<0.5,>=0.4.1->tensorboard~=2.4->tensorflow==2.4.1) (1.3.1)\n",
            "Requirement already satisfied: importlib-metadata>=4.4 in /usr/local/lib/python3.7/dist-packages (from markdown>=2.6.8->tensorboard~=2.4->tensorflow==2.4.1) (4.11.2)\n",
            "Requirement already satisfied: zipp>=0.5 in /usr/local/lib/python3.7/dist-packages (from importlib-metadata>=4.4->markdown>=2.6.8->tensorboard~=2.4->tensorflow==2.4.1) (3.7.0)\n",
            "Requirement already satisfied: pyasn1<0.5.0,>=0.4.6 in /usr/local/lib/python3.7/dist-packages (from pyasn1-modules>=0.2.1->google-auth<3,>=1.6.3->tensorboard~=2.4->tensorflow==2.4.1) (0.4.8)\n",
            "Requirement already satisfied: idna<3,>=2.5 in /usr/local/lib/python3.7/dist-packages (from requests<3,>=2.21.0->tensorboard~=2.4->tensorflow==2.4.1) (2.10)\n",
            "Requirement already satisfied: urllib3!=1.25.0,!=1.25.1,<1.26,>=1.21.1 in /usr/local/lib/python3.7/dist-packages (from requests<3,>=2.21.0->tensorboard~=2.4->tensorflow==2.4.1) (1.24.3)\n",
            "Requirement already satisfied: certifi>=2017.4.17 in /usr/local/lib/python3.7/dist-packages (from requests<3,>=2.21.0->tensorboard~=2.4->tensorflow==2.4.1) (2021.10.8)\n",
            "Requirement already satisfied: chardet<4,>=3.0.2 in /usr/local/lib/python3.7/dist-packages (from requests<3,>=2.21.0->tensorboard~=2.4->tensorflow==2.4.1) (3.0.4)\n",
            "Requirement already satisfied: oauthlib>=3.0.0 in /usr/local/lib/python3.7/dist-packages (from requests-oauthlib>=0.7.0->google-auth-oauthlib<0.5,>=0.4.1->tensorboard~=2.4->tensorflow==2.4.1) (3.2.0)\n",
            "Building wheels for collected packages: wrapt\n",
            "  Building wheel for wrapt (setup.py) ... \u001b[?25l\u001b[?25hdone\n",
            "  Created wheel for wrapt: filename=wrapt-1.12.1-cp37-cp37m-linux_x86_64.whl size=68724 sha256=734342053765d2978dbe5c7406ef7ab8164f67548925604745dea2c753c1a72b\n",
            "  Stored in directory: /root/.cache/pip/wheels/62/76/4c/aa25851149f3f6d9785f6c869387ad82b3fd37582fa8147ac6\n",
            "Successfully built wrapt\n",
            "Installing collected packages: typing-extensions, numpy, grpcio, absl-py, wrapt, tensorflow-estimator, h5py, gast, flatbuffers, tensorflow\n",
            "  Attempting uninstall: typing-extensions\n",
            "    Found existing installation: typing-extensions 3.10.0.2\n",
            "    Uninstalling typing-extensions-3.10.0.2:\n",
            "      Successfully uninstalled typing-extensions-3.10.0.2\n",
            "  Attempting uninstall: numpy\n",
            "    Found existing installation: numpy 1.21.5\n",
            "    Uninstalling numpy-1.21.5:\n",
            "      Successfully uninstalled numpy-1.21.5\n",
            "  Attempting uninstall: grpcio\n",
            "    Found existing installation: grpcio 1.44.0\n",
            "    Uninstalling grpcio-1.44.0:\n",
            "      Successfully uninstalled grpcio-1.44.0\n",
            "  Attempting uninstall: absl-py\n",
            "    Found existing installation: absl-py 1.0.0\n",
            "    Uninstalling absl-py-1.0.0:\n",
            "      Successfully uninstalled absl-py-1.0.0\n",
            "  Attempting uninstall: wrapt\n",
            "    Found existing installation: wrapt 1.13.3\n",
            "    Uninstalling wrapt-1.13.3:\n",
            "      Successfully uninstalled wrapt-1.13.3\n",
            "  Attempting uninstall: tensorflow-estimator\n",
            "    Found existing installation: tensorflow-estimator 2.8.0\n",
            "    Uninstalling tensorflow-estimator-2.8.0:\n",
            "      Successfully uninstalled tensorflow-estimator-2.8.0\n",
            "  Attempting uninstall: h5py\n",
            "    Found existing installation: h5py 3.1.0\n",
            "    Uninstalling h5py-3.1.0:\n",
            "      Successfully uninstalled h5py-3.1.0\n",
            "  Attempting uninstall: gast\n",
            "    Found existing installation: gast 0.5.3\n",
            "    Uninstalling gast-0.5.3:\n",
            "      Successfully uninstalled gast-0.5.3\n",
            "  Attempting uninstall: flatbuffers\n",
            "    Found existing installation: flatbuffers 2.0\n",
            "    Uninstalling flatbuffers-2.0:\n",
            "      Successfully uninstalled flatbuffers-2.0\n",
            "  Attempting uninstall: tensorflow\n",
            "    Found existing installation: tensorflow 2.8.0\n",
            "    Uninstalling tensorflow-2.8.0:\n",
            "      Successfully uninstalled tensorflow-2.8.0\n",
            "\u001b[31mERROR: pip's dependency resolver does not currently take into account all the packages that are installed. This behaviour is the source of the following dependency conflicts.\n",
            "datascience 0.10.6 requires folium==0.2.1, but you have folium 0.8.3 which is incompatible.\n",
            "albumentations 0.1.12 requires imgaug<0.2.7,>=0.2.5, but you have imgaug 0.2.9 which is incompatible.\u001b[0m\n",
            "Successfully installed absl-py-0.15.0 flatbuffers-1.12 gast-0.3.3 grpcio-1.32.0 h5py-2.10.0 numpy-1.19.5 tensorflow-2.4.1 tensorflow-estimator-2.4.0 typing-extensions-3.7.4.3 wrapt-1.12.1\n"
          ]
        },
        {
          "output_type": "display_data",
          "data": {
            "application/vnd.colab-display-data+json": {
              "pip_warning": {
                "packages": [
                  "numpy"
                ]
              }
            }
          },
          "metadata": {}
        }
      ],
      "source": [
        "!pip install tensorflow==2.4.1"
      ]
    },
    {
      "cell_type": "code",
      "execution_count": null,
      "metadata": {
        "colab": {
          "base_uri": "https://localhost:8080/",
          "height": 633
        },
        "id": "2kfwh3FIiHfi",
        "outputId": "ff7ae7b1-626b-43d2-b998-e6cee9f06ae4"
      },
      "outputs": [
        {
          "output_type": "stream",
          "name": "stdout",
          "text": [
            "Collecting mplhep\n",
            "  Downloading mplhep-0.3.23-py3-none-any.whl (34 kB)\n",
            "Collecting mplhep-data\n",
            "  Downloading mplhep_data-0.0.3-py3-none-any.whl (5.8 MB)\n",
            "\u001b[K     |████████████████████████████████| 5.8 MB 5.8 MB/s \n",
            "\u001b[?25hRequirement already satisfied: packaging in /usr/local/lib/python3.7/dist-packages (from mplhep) (21.3)\n",
            "Collecting uhi>=0.2.0\n",
            "  Downloading uhi-0.3.1-py3-none-any.whl (9.8 kB)\n",
            "Collecting matplotlib>=3.4\n",
            "  Downloading matplotlib-3.5.1-cp37-cp37m-manylinux_2_5_x86_64.manylinux1_x86_64.whl (11.2 MB)\n",
            "\u001b[K     |████████████████████████████████| 11.2 MB 37.0 MB/s \n",
            "\u001b[?25hRequirement already satisfied: numpy>=1.16.0 in /usr/local/lib/python3.7/dist-packages (from mplhep) (1.19.5)\n",
            "Collecting fonttools>=4.22.0\n",
            "  Downloading fonttools-4.30.0-py3-none-any.whl (898 kB)\n",
            "\u001b[K     |████████████████████████████████| 898 kB 72.7 MB/s \n",
            "\u001b[?25hRequirement already satisfied: pyparsing>=2.2.1 in /usr/local/lib/python3.7/dist-packages (from matplotlib>=3.4->mplhep) (3.0.7)\n",
            "Requirement already satisfied: kiwisolver>=1.0.1 in /usr/local/lib/python3.7/dist-packages (from matplotlib>=3.4->mplhep) (1.3.2)\n",
            "Requirement already satisfied: pillow>=6.2.0 in /usr/local/lib/python3.7/dist-packages (from matplotlib>=3.4->mplhep) (7.1.2)\n",
            "Requirement already satisfied: cycler>=0.10 in /usr/local/lib/python3.7/dist-packages (from matplotlib>=3.4->mplhep) (0.11.0)\n",
            "Requirement already satisfied: python-dateutil>=2.7 in /usr/local/lib/python3.7/dist-packages (from matplotlib>=3.4->mplhep) (2.8.2)\n",
            "Requirement already satisfied: six>=1.5 in /usr/local/lib/python3.7/dist-packages (from python-dateutil>=2.7->matplotlib>=3.4->mplhep) (1.15.0)\n",
            "Requirement already satisfied: typing-extensions>=3.7 in /usr/local/lib/python3.7/dist-packages (from uhi>=0.2.0->mplhep) (3.7.4.3)\n",
            "Installing collected packages: fonttools, uhi, mplhep-data, matplotlib, mplhep\n",
            "  Attempting uninstall: matplotlib\n",
            "    Found existing installation: matplotlib 3.2.2\n",
            "    Uninstalling matplotlib-3.2.2:\n",
            "      Successfully uninstalled matplotlib-3.2.2\n",
            "\u001b[31mERROR: pip's dependency resolver does not currently take into account all the packages that are installed. This behaviour is the source of the following dependency conflicts.\n",
            "albumentations 0.1.12 requires imgaug<0.2.7,>=0.2.5, but you have imgaug 0.2.9 which is incompatible.\u001b[0m\n",
            "Successfully installed fonttools-4.30.0 matplotlib-3.5.1 mplhep-0.3.23 mplhep-data-0.0.3 uhi-0.3.1\n"
          ]
        },
        {
          "output_type": "display_data",
          "data": {
            "application/vnd.colab-display-data+json": {
              "pip_warning": {
                "packages": [
                  "matplotlib",
                  "mpl_toolkits"
                ]
              }
            }
          },
          "metadata": {}
        }
      ],
      "source": [
        "!pip install mplhep"
      ]
    },
    {
      "cell_type": "code",
      "execution_count": null,
      "metadata": {
        "colab": {
          "base_uri": "https://localhost:8080/"
        },
        "id": "ADDRgNi5zchp",
        "outputId": "18781c4a-3fab-4eb2-9749-96988db0166e"
      },
      "outputs": [
        {
          "output_type": "stream",
          "name": "stdout",
          "text": [
            "Requirement already satisfied: h5py==2.10.0 in /usr/local/lib/python3.7/dist-packages (2.10.0)\n",
            "Requirement already satisfied: six in /usr/local/lib/python3.7/dist-packages (from h5py==2.10.0) (1.15.0)\n",
            "Requirement already satisfied: numpy>=1.7 in /usr/local/lib/python3.7/dist-packages (from h5py==2.10.0) (1.19.5)\n"
          ]
        }
      ],
      "source": [
        "!pip install h5py==2.10.0"
      ]
    },
    {
      "cell_type": "code",
      "execution_count": 17,
      "metadata": {
        "id": "0gre5-mgubLb"
      },
      "outputs": [],
      "source": [
        "cp gdrive/MyDrive/sstt_h5/sstt_svsb.h5 ."
      ]
    },
    {
      "cell_type": "code",
      "execution_count": 18,
      "metadata": {
        "id": "lfWEOVqLGxGG"
      },
      "outputs": [],
      "source": [
        "import random as p\n",
        "\n",
        "p.seed(10)\n",
        "#!/usr/bin/env python\n",
        "\n",
        "import argparse\n",
        "import sys\n",
        "import os\n",
        "from time import time\n",
        "#from preprocess import mkdir_p, unique_filename\n",
        "import pickle\n",
        "import math\n",
        "\n",
        "\n",
        "# h5py\n",
        "import h5py\n",
        "import tensorflow as tf\n",
        "tf.random.set_seed(400)\n",
        "from tensorflow import keras\n",
        "# keras\n",
        "#from tensorflow.keras.models import Model\n",
        "#from tensorflow.keras.layers import Input, Dense, Dropout\n",
        "from tensorflow.keras import models as Km\n",
        "from tensorflow.keras import layers as Kl\n",
        "from tensorflow.keras.optimizers import SGD\n",
        "from tensorflow.keras import regularizers\n",
        "from tensorflow.keras import initializers\n",
        "from tensorflow.keras.callbacks import EarlyStopping, ModelCheckpoint, Callback\n",
        "import tensorflow.keras\n",
        "from tensorflow.keras.optimizers import Adam\n",
        "from sklearn.metrics import roc_auc_score,roc_curve, auc\n",
        "from sklearn.preprocessing import scale, normalize\n",
        "from sklearn.preprocessing import RobustScaler, StandardScaler,minmax_scale\n",
        "from sklearn.model_selection import KFold, StratifiedKFold,GroupKFold\n",
        "\n",
        "import seaborn as sns\n",
        "import matplotlib.pyplot as plt\n",
        "from tensorflow.keras.losses import binary_crossentropy\n",
        "from functools import partial\n",
        "from tensorflow.keras import initializers\n",
        "import numpy as np\n",
        "seed = 400\n",
        "np.random.seed(seed)\n",
        "import mplhep as hep\n"
      ]
    },
    {
      "cell_type": "code",
      "execution_count": 19,
      "metadata": {
        "id": "Sso62vCKCR9c"
      },
      "outputs": [],
      "source": [
        "tf.keras.backend.clear_session()\n"
      ]
    },
    {
      "cell_type": "code",
      "execution_count": 20,
      "metadata": {
        "id": "iKjYoU9RutdF"
      },
      "outputs": [],
      "source": [
        " def mkdir_p(path) :\n",
        "\n",
        "    import errno\n",
        "\n",
        "    \"\"\"\n",
        "    Make a directory, if it exists silence the exception\n",
        "\n",
        "    Args:\n",
        "        path : full directory path to be made\n",
        "    \"\"\"\n",
        "\n",
        "    try :\n",
        "        os.makedirs(path)\n",
        "    except OSError as exc :\n",
        "        if exc.errno == errno.EEXIST and os.path.isdir(path) :\n",
        "            pass\n",
        "        else :\n",
        "            raise"
      ]
    },
    {
      "cell_type": "code",
      "execution_count": 21,
      "metadata": {
        "id": "wNNxw-w7QUM7"
      },
      "outputs": [],
      "source": [
        "path_tosave = 'gdrive/MyDrive/'\n",
        "file_name = 'sstt'\n",
        "path_tosave = path_tosave + file_name\n",
        "mkdir_p(path_tosave)\n"
      ]
    },
    {
      "cell_type": "code",
      "execution_count": 22,
      "metadata": {
        "id": "eeOlYDqIJN5R"
      },
      "outputs": [],
      "source": [
        "class Sample :\n",
        "\n",
        "    \"\"\"\n",
        "    Sample\n",
        "\n",
        "    This class will hold the feature data for a given sample.\n",
        "    \"\"\"\n",
        "\n",
        "    def __init__(self, name = \"\", class_label = -1, input_data = None) :\n",
        "        \"\"\"\n",
        "        Sample constructor\n",
        "\n",
        "        Args :\n",
        "            name : descriptive name of the sample (obtained from the input\n",
        "                pre-processed file)\n",
        "            input_data : numpy array of the data from the pre-processed file\n",
        "                (expects an array of dtype = np.float64, not a structured array!)\n",
        "            class_label : input class label as found in the input pre-processed\n",
        "                file\n",
        "        \"\"\"\n",
        "\n",
        "        if input_data.dtype != np.float64 :\n",
        "            raise Exception(\"ERROR Sample input data must be type 'np.float64', input is '{}'\".format(input_data.dtype))\n",
        "\n",
        "        if class_label < 0 :\n",
        "            raise ValueError(\"ERROR Sample (={})class label is not set (<0)\".format(name, class_label))\n",
        "\n",
        "        print(\"Creating sample {} (label = {})\".format(name, class_label))\n",
        "\n",
        "        self._name = name\n",
        "        self._class_label = class_label\n",
        "        self._input_data = input_data\n",
        "        self._regression_inputs = None\n",
        "\n",
        "    def name(self) :\n",
        "        return self._name\n",
        "    def class_label(self) :\n",
        "        return self._class_label\n",
        "    def data(self) :\n",
        "        return self._input_data\n",
        "    @property\n",
        "    def regression_inputs(self) :\n",
        "        return self._regression_inputs\n",
        "    @regression_inputs.setter\n",
        "    def regression_inputs(self, data) :\n",
        "        self._regression_inputs = data\n",
        "        \n",
        "\n",
        "\n",
        "class DataScaler :\n",
        "\n",
        "    \"\"\"\n",
        "    DataScaler\n",
        "\n",
        "    This class will hold the scaling information needed for the training\n",
        "    features (variables) contained in the input, pre-processed file.\n",
        "    Its constructor takes as input the scaling data dataset object\n",
        "    contained in the pre-processed file and it builds the associated\n",
        "    feature-list and an associated dictionary to store the scaling\n",
        "    parameters for each of the input features.\n",
        "    \"\"\"\n",
        "\n",
        "    def __init__(self, scaling_dataset = None, ignore_features = []) :\n",
        "\n",
        "        \"\"\"\n",
        "        ScalingData constructor\n",
        "\n",
        "        Args:\n",
        "            scaling_dataset : input HDF5 dataset object which contains the\n",
        "                scaling data and feature-list\n",
        "        \"\"\"\n",
        "\n",
        "        self._raw_feature_list = []\n",
        "        self._feature_list = []\n",
        "        self._scaling_dict = {}\n",
        "        self._mean = []\n",
        "        self._scale = []\n",
        "        self._var = []\n",
        "        self.load(scaling_dataset, ignore_features)\n",
        "\n",
        "    def load(self, scaling_dataset = None, ignore_features = []) :\n",
        "\n",
        "        self._raw_feature_list = list( scaling_dataset['name'] )\n",
        "        self._feature_list = list( filter( lambda x : x not in ignore_features, self._raw_feature_list ) )\n",
        "\n",
        "        #self._mean = scaling_dataset['mean']\n",
        "        #self._scale = scaling_dataset['scale']\n",
        "        #self._var = scaling_dataset['var']\n",
        "\n",
        "\n",
        "        for x in scaling_dataset :\n",
        "            name, mean, scale, var = x['name'], x['mean'], x['scale'], x['var']\n",
        "            if name in ignore_features : continue\n",
        "            self._scaling_dict[name] = { 'mean' : mean, 'scale' : scale, 'var' : var }\n",
        "            self._mean.append(mean)\n",
        "            self._scale.append(scale)\n",
        "            self._var.append(var)\n",
        "\n",
        "        self._mean = np.array(self._mean, dtype = np.float64)\n",
        "        self._scale = np.array(self._scale, dtype = np.float64)\n",
        "        self._var = np.array(self._var, dtype = np.float64)\n",
        "\n",
        "    def raw_feature_list(self) :\n",
        "        return self._raw_feature_list\n",
        "\n",
        "    def feature_list(self) :\n",
        "        return self._feature_list\n",
        "\n",
        "    def scaling_dict(self) :\n",
        "        return self._scaling_dict\n",
        "\n",
        "    def get_params(self, feature = \"\") :\n",
        "        if feature in self._scaling_dict :\n",
        "            return self._scaling_dict[feature]\n",
        "        raise KeyError(\"requested feature (={}) not found in set of scaling features\".format(feature))\n",
        "\n",
        "    def mean(self) :\n",
        "        return self._mean\n",
        "    def scale(self) :\n",
        "        return self._scale\n",
        "    def var(self) :\n",
        "        return self._var\n",
        "\n",
        "def floatify(input_array, feature_list) :\n",
        "    ftype = [(name, float) for name in feature_list]\n",
        "    return input_array.astype(ftype).view(float).reshape(input_array.shape + (-1,))\n",
        "\n",
        "def load_input_file(args) :\n",
        "\n",
        "    \"\"\"\n",
        "    Check that the provided input HDF5 file is of the expected form\n",
        "    as defined by the pre-processing. Exits if this is not the case.\n",
        "    Returns a list of the sample names found in the file.\n",
        "\n",
        "    Args :\n",
        "        args : user input to the executable\n",
        "    \"\"\"\n",
        "\n",
        "    # check that the file can be found\n",
        "    if not os.path.isfile(args) :\n",
        "        print(\"ERROR provided input file (={}) is not found or is not a regular file\".format(args))\n",
        "        sys.exit()\n",
        "\n",
        "    samples_group_name = \"samples\"\n",
        "    scaling_group_name = \"scaling\"\n",
        "    scaling_data_name = \"scaling_data\"\n",
        "\n",
        "    found_samples = False\n",
        "    found_scalings = False\n",
        "    samples = []\n",
        "    data_scaler = None\n",
        "    #features_to_ignore = [\"Mll01\",\"Mll02\",\"Mll03\",\"Mll12\",\"Mll13\",\"Mll23\"]\n",
        "    features_to_ignore = [\"DeltaR_min_lep_bjet77\",\"DeltaR_max_lep_bjet77\"]\n",
        "    #features_to_ignore = [\"\"]\n",
        "\n",
        "    with h5py.File(args, 'r') as input_file :\n",
        "\n",
        "        # look up the scalings first, in order to build the feature list used for the Sample creation\n",
        "        if scaling_group_name in input_file :\n",
        "            found_scalings = True\n",
        "            scaling_group = input_file[scaling_group_name]\n",
        "            scaling_dataset = scaling_group[scaling_data_name]\n",
        "            data_scaler = DataScaler( scaling_dataset = scaling_dataset, ignore_features = features_to_ignore )\n",
        "            print(\"DataScaler found {} features to train on (there were {} total features in the input)\".format( len(data_scaler.feature_list()), len(data_scaler.raw_feature_list() )))\n",
        "        else :\n",
        "            print(\"scaling group (={}) not found in file\".format(scaling_group_name))\n",
        "            sys.exit()\n",
        "\n",
        "        # now build the samples\n",
        "        if samples_group_name in input_file :\n",
        "            found_samples = True\n",
        "            sample_group = input_file[samples_group_name]\n",
        "            for p in sample_group :\n",
        "                process_group = sample_group[p]\n",
        "                class_label = process_group.attrs['training_label']\n",
        "                s = Sample(name = p, class_label = int(class_label),\n",
        "                    input_data = floatify( process_group['train_features'][tuple(data_scaler.feature_list())], data_scaler.feature_list() ) )\n",
        "                #print(floatify( process_group['train_features'][tuple(data_scaler.feature_list())], data_scaler.feature_list() ))\n",
        "                samples.append(s)\n",
        "\n",
        "        else :\n",
        "            print(\"samples group (={}) not found in file\".format(samples_group_name))\n",
        "            sys.exit()\n",
        "\n",
        "    samples = sorted(samples, key = lambda x: x.class_label())\n",
        "\n",
        "    return samples, data_scaler\n",
        "\n",
        "def load_input_file_val(args) :\n",
        "\n",
        "    if not os.path.isfile(args) :\n",
        "        print(\"ERROR provided input file (={}) is not found or is not a regular file\".format(args))\n",
        "        sys.exit()\n",
        "\n",
        "    samples_group_name = \"samples\"\n",
        "    scaling_group_name = \"scaling\"\n",
        "    scaling_data_name = \"scaling_data\"\n",
        "\n",
        "    samples = []\n",
        "    data_scaler = None\n",
        "\n",
        "    with h5py.File(args, 'r', libver = 'latest') as input_file :\n",
        "\n",
        "        # look up the scaling first\n",
        "        if scaling_group_name in input_file :\n",
        "            scaling_group = input_file[scaling_group_name]\n",
        "            scaling_dataset = scaling_group[scaling_data_name]\n",
        "            data_scaler = DataScaler( scaling_dataset = scaling_dataset, ignore_features = [\"DeltaR_min_lep_bjet77\",\"DeltaR_max_lep_bjet77\"] )\n",
        "            print(\"DataScaler found {} features to use as inputs (there were {} total features in the input)\".format( len(data_scaler.feature_list()), len(data_scaler.raw_feature_list())))\n",
        "        else :\n",
        "            print(\"scaling group (={}) not found in file\".format(scaling_group_name))\n",
        "            sys.exit()\n",
        "\n",
        "        # build the samples\n",
        "        if samples_group_name in input_file :\n",
        "            sample_group = input_file[samples_group_name]\n",
        "            for p in sample_group :\n",
        "                process_group = sample_group[p]\n",
        "                class_label = process_group.attrs['training_label']\n",
        "                s = Sample(name = p, class_label = int(class_label),\n",
        "                    input_data = floatify( process_group['validation_features'][tuple(data_scaler.feature_list())], data_scaler.feature_list()))\n",
        "                samples.append(s)\n",
        "        else :\n",
        "            print(\"samples group (={}) not found in file\".format(samples_group_name))\n",
        "            sys.exit()\n",
        "\n",
        "    return samples, data_scaler\n",
        "\n",
        "def build_combined_input(training_samples, data_scaler = None, scale = True) :\n",
        "\n",
        "    targets = []\n",
        "    # used extended slicing to partition arbitrary number of samples\n",
        "    sample0, sample1, *other = training_samples\n",
        "\n",
        "    targets.extend( np.ones( sample0.data().shape[0] ) * sample0.class_label() )\n",
        "    targets.extend( np.ones( sample1.data().shape[0] ) * sample1.class_label() )\n",
        "\n",
        "    inputs = np.concatenate( (sample0.data(), sample1.data()), axis = 0)\n",
        "    for sample in other :\n",
        "        inputs = np.concatenate( (inputs, sample.data()) , axis = 0 )\n",
        "        targets.extend( np.ones( sample.data().shape[0] ) * sample.class_label() )\n",
        "\n",
        "    # perform scaling\n",
        "    input_notscale = inputs\n",
        "    if scale :\n",
        "        inputs = (inputs - data_scaler.mean()) / data_scaler.scale()\n",
        "        #print(inputs)\n",
        "\n",
        "    targets = np.array(targets, dtype = int )\n",
        "\n",
        "\n",
        "    return inputs, targets, input_notscale"
      ]
    },
    {
      "cell_type": "code",
      "execution_count": 23,
      "metadata": {
        "id": "j0Ntqz_s4mHl"
      },
      "outputs": [],
      "source": [
        "def make_nn_output_plots_oddeven( path_tosave, model = None, inputs = None, samples = None, targets = None, events=None) :\n",
        "\n",
        "    inputs_tek = inputs[events % 2==1]\n",
        "    inputs_cift = inputs[events % 2==0]\n",
        "    nn_scores = np.ones([targets.size,3])\n",
        "    nn_scores_tek = model[0].predict(inputs_tek,verbose = True)\n",
        "    nn_scores_cift = model[1].predict(inputs_cift,verbose = True)\n",
        "    nn_scores[events % 2==1] = nn_scores_tek\n",
        "    nn_scores[events % 2==0] = nn_scores_cift\n",
        "    class_labels = set(targets)\n",
        "    targets_list = list(targets)\n",
        "    nn_scores_dict = {}\n",
        "\n",
        "    # index the sample names by their class label\n",
        "    names = {}\n",
        "    for sample in samples :\n",
        "        names[sample.class_label()] = sample.name()\n",
        "\n",
        "    # break up the predicted scores by the class label\n",
        "    for ilabel, label in enumerate(class_labels) :\n",
        "        # left-most appearance of the label\n",
        "        left = targets_list.index(label)\n",
        "        # right-most appearance of the label\n",
        "        right = len(targets_list) - 1 - targets_list[::-1].index(label)\n",
        "        nn_scores_dict[label] = nn_scores[left:right+1]\n",
        "\n",
        "    # start plotting\n",
        "    for label in class_labels :\n",
        "        #fig, ax = plt.subplots(1,1)\n",
        "        fig = plt.figure()\n",
        "        plt.grid(color='k', which='both', linestyle='--', lw=0.5, alpha=0.1, zorder = 0)\n",
        "        plt.xlabel( \"NN output for label {}\".format(names[label]), horizontalalignment='right', x=1)\n",
        "        #ax.set_xlim([1e-2,1.0])\n",
        "        plt.xlim([0,1])\n",
        "        #plt.yscale('log')\n",
        "        histargs = {\"bins\":20, \"range\":(0,1.), \"density\":True, \"histtype\":'step'}\n",
        "        #binning = np.arange(0,1,0.02)\n",
        "        #centers = (binning[1:-2] + binning[2:-1])/2\n",
        "        #ax.set_xlim((centers[0]-0.1, centers[-1]+0.1)) \n",
        "        for sample_label in nn_scores_dict :\n",
        "            sample_scores_for_label = nn_scores_dict[sample_label][:]\n",
        "            print(sample_scores_for_label)\n",
        "            #sample_weights = sample_with_label(sample_label, samples).eventweights\n",
        "\n",
        "            #yields, _ = np.histogram(sample_scores_for_label, bins = binning)\n",
        "            plt.hist(sample_scores_for_label,label = names[sample_label], **histargs)\n",
        "            #yields = yields/yields.sum()\n",
        "            #ax.step(centers, yields[1:-1], label = names[sample_label], where = 'mid')\n",
        "            \n",
        "            #ax.hist(sample_scores_for_label, bins = binning, alpha = 0.3, label = names[sample_label], density = True)\n",
        "        plt.legend(loc='best', frameon = False)\n",
        "        savename = \"nn_outputs_class_{}.pdf\".format( names[label])\n",
        "\n",
        "        savename = \"{}/{}\".format(path_tosave, savename) \n",
        "        plt.savefig(savename, bbox_inches = 'tight', dpi = 200)\n",
        "       # savename = \"nn_outputs_{}_class_{}.pdf\".format(path_tosave, names[label])\n",
        "\n",
        "     #   savename = \"{}/{}\".format(path_tosave, savename) \n",
        "     #   plt.savefig(savename, bbox_inches = 'tight', dpi = 200)\n",
        "\n",
        "    return nn_scores"
      ]
    },
    {
      "cell_type": "code",
      "execution_count": 24,
      "metadata": {
        "id": "CfCXIMFm5rCV"
      },
      "outputs": [],
      "source": [
        "def make_nn_output_plots( model = None, inputs = None, samples = None, targets = None) :\n",
        "\n",
        "    # set of scores for each label: shape = (n_samples, n_outputs)\n",
        "    nn_scores = model.predict(inputs,verbose = True)\n",
        "\n",
        "    class_labels = set(targets)\n",
        "    targets_list = list(targets)\n",
        "    nn_scores_dict = {}\n",
        "\n",
        "    # index the sample names by their class label\n",
        "    names = {}\n",
        "    for sample in samples :\n",
        "        names[sample.class_label()] = sample.name()\n",
        "\n",
        "    # break up the predicted scores by the class label\n",
        "    for ilabel, label in enumerate(class_labels) :\n",
        "        # left-most appearance of the label\n",
        "        left = targets_list.index(label)\n",
        "        # right-most appearance of the label\n",
        "        right = len(targets_list) - 1 - targets_list[::-1].index(label)\n",
        "        nn_scores_dict[label] = nn_scores[left:right+1]\n",
        "\n",
        "    # start plotting\n",
        "    for label in class_labels :\n",
        "        #fig, ax = plt.subplots(1,1)\n",
        "        fig = plt.figure()\n",
        "        plt.grid(color='k', which='both', linestyle='--', lw=0.5, alpha=0.1, zorder = 0)\n",
        "        plt.xlabel( \"NN output for label {}\".format(names[label]), horizontalalignment='right', x=1)\n",
        "        #ax.set_xlim([1e-2,1.0])\n",
        "        plt.xlim([0,1])\n",
        "        #plt.yscale('log')\n",
        "        histargs = {\"bins\":20, \"range\":(0,1.), \"density\":True, \"histtype\":'step'}\n",
        "        #binning = np.arange(0,1,0.02)\n",
        "        #centers = (binning[1:-2] + binning[2:-1])/2\n",
        "        #ax.set_xlim((centers[0]-0.1, centers[-1]+0.1)) \n",
        "        for sample_label in nn_scores_dict :\n",
        "            sample_scores_for_label = nn_scores_dict[sample_label][:]\n",
        "            print(sample_scores_for_label)\n",
        "            #sample_weights = sample_with_label(sample_label, samples).eventweights\n",
        "\n",
        "            #yields, _ = np.histogram(sample_scores_for_label, bins = binning)\n",
        "            plt.hist(sample_scores_for_label,label = names[sample_label], **histargs)\n",
        "            #yields = yields/yields.sum()\n",
        "            #ax.step(centers, yields[1:-1], label = names[sample_label], where = 'mid')\n",
        "            \n",
        "            #ax.hist(sample_scores_for_label, bins = binning, alpha = 0.3, label = names[sample_label], density = True)\n",
        "        plt.legend(loc='best', frameon = False)\n",
        "        savename = \"nn_outputs_class_{}.pdf\".format( names[label])\n",
        "\n",
        "        savename = \"{}/{}\".format(path_tosave, savename) \n",
        "        plt.savefig(savename, bbox_inches = 'tight', dpi = 200)\n",
        "       # savename = \"nn_outputs_{}_class_{}.pdf\".format(path_tosave, names[label])\n",
        "\n",
        "     #   savename = \"{}/{}\".format(path_tosave, savename) \n",
        "     #   plt.savefig(savename, bbox_inches = 'tight', dpi = 200)\n",
        "\n",
        "    return nn_scores"
      ]
    },
    {
      "cell_type": "code",
      "execution_count": 25,
      "metadata": {
        "id": "Z7EMoV0kqBrt"
      },
      "outputs": [],
      "source": [
        "def ScaleWeights(y,w):\n",
        "    sum_wpos = sum( w[i] for i in range(len(y)) if y[i] == 1.0  )\n",
        "    sum_wneg = sum( w[i] for i in range(len(y)) if y[i] == 0.0  )\n",
        "\n",
        "    for i in range(len(w)):\n",
        "        if (y[i]==1.0):\n",
        "            w[i] = w[i] * (0.5/sum_wpos)\n",
        "        else:\n",
        "            w[i] = w[i] * (0.5/sum_wneg)\n",
        "\n",
        "    w_av = sum(w)/len(w)\n",
        "    w[:] = [x/w_av for x in w]\n",
        "     \n",
        "    sum_wpos_check = sum( w[i] for i in range(len(y)) if y[i] == 1.0  )\n",
        "    sum_wneg_check = sum( w[i] for i in range(len(y)) if y[i] == 0.0  )\n",
        "\n",
        "    print ('\\n======Weight Statistic========================================')\n",
        "    print ('Weights::        W(1)=%g, W(0)=%g' % (sum_wpos, sum_wneg))\n",
        "    print ('Scaled weights:: W(1)=%g, W(0)=%g' % (sum_wpos_check, sum_wneg_check))\n",
        "    print ('==============================================================')"
      ]
    },
    {
      "cell_type": "code",
      "execution_count": 26,
      "metadata": {
        "id": "SwFEXnfmNBw8"
      },
      "outputs": [],
      "source": [
        "def ScaleWeightsSignal(w,y):\n",
        "    sumi = sum( w[i] for i in range(len(y)) if y[i] == 1.0 )\n",
        "\n",
        "\n",
        "    for i in range(len(w)):\n",
        "      if (y[i]==1.0):\n",
        "        w[i] = sumi/len(w)\n",
        "      else: \n",
        "        w[i] = w[i]\n",
        "    "
      ]
    },
    {
      "cell_type": "code",
      "execution_count": 27,
      "metadata": {
        "colab": {
          "base_uri": "https://localhost:8080/"
        },
        "id": "vZCXsLg0en3t",
        "outputId": "e659225e-afc2-4d0d-e666-c2ea90fe261d"
      },
      "outputs": [
        {
          "output_type": "stream",
          "name": "stdout",
          "text": [
            "DataScaler found 12 features to train on (there were 12 total features in the input)\n",
            "Creating sample back (label = 0)\n",
            "Creating sample sig (label = 1)\n"
          ]
        }
      ],
      "source": [
        "training_samples, data_scaler = load_input_file('sstt_svsb.h5')"
      ]
    },
    {
      "cell_type": "code",
      "execution_count": 28,
      "metadata": {
        "id": "DZ3ejm3SffxD"
      },
      "outputs": [],
      "source": [
        "input_features, targets, inp_nonsc= build_combined_input(training_samples, data_scaler = data_scaler, scale = True)"
      ]
    },
    {
      "cell_type": "code",
      "execution_count": 29,
      "metadata": {
        "id": "ZmD_1WwHqUt_"
      },
      "outputs": [],
      "source": [
        "#2lSS\n",
        "weights=inp_nonsc[:,-1]\n",
        "weights[targets==1]\n",
        "inp_nonsc=inp_nonsc[:,0:-1]#14"
      ]
    },
    {
      "cell_type": "code",
      "execution_count": 30,
      "metadata": {
        "id": "yXRVL3vggmHE"
      },
      "outputs": [],
      "source": [
        "evtnum = inp_nonsc[:,-1]\n",
        "inp_nonsc = inp_nonsc[:,0:-1]"
      ]
    },
    {
      "cell_type": "code",
      "execution_count": 31,
      "metadata": {
        "colab": {
          "base_uri": "https://localhost:8080/"
        },
        "id": "XuvofYrHuPPL",
        "outputId": "737573ad-9c87-479e-dbe9-aad6f3316ddb"
      },
      "outputs": [
        {
          "output_type": "execute_result",
          "data": {
            "text/plain": [
              "array([ 71374.0546875 ,  34273.30859375,  74213.46875   , ...,\n",
              "       125017.328125  , 432889.875     , 382474.03125   ])"
            ]
          },
          "metadata": {},
          "execution_count": 31
        }
      ],
      "source": [
        "inp_nonsc[:,-1]"
      ]
    },
    {
      "cell_type": "code",
      "execution_count": null,
      "metadata": {
        "id": "IZA_QnzvfAKs"
      },
      "outputs": [],
      "source": [
        "#3l\n",
        "weights=inp_nonsc[:,-1]\n",
        "# weights[targets==1]\n",
        "inp_nonsc=inp_nonsc[:,0:16]#14#18"
      ]
    },
    {
      "cell_type": "code",
      "execution_count": null,
      "metadata": {
        "id": "srHR-sx8OyaN"
      },
      "outputs": [],
      "source": [
        "#4l\n",
        "weights=inp_nonsc[:,-1]\n",
        "# weights[targets==1]\n",
        "inp_nonsc=inp_nonsc[:,0:18]#14#18"
      ]
    },
    {
      "cell_type": "code",
      "execution_count": null,
      "metadata": {
        "id": "2RBA5MlSN3Cl"
      },
      "outputs": [],
      "source": [
        "inp_nonsc[:,17][np.where(targets==1)][0:200]"
      ]
    },
    {
      "cell_type": "code",
      "execution_count": null,
      "metadata": {
        "colab": {
          "base_uri": "https://localhost:8080/"
        },
        "id": "k76jbzoVwgTp",
        "outputId": "b87bbc03-0e06-48a6-f048-01af9baf3635"
      },
      "outputs": [
        {
          "data": {
            "text/plain": [
              "array([413023., 413023., 413023., ..., 312445., 312445., 312440.])"
            ]
          },
          "execution_count": 17,
          "metadata": {
            "tags": []
          },
          "output_type": "execute_result"
        }
      ],
      "source": [
        "inp_nonsc[:,-1]"
      ]
    },
    {
      "cell_type": "code",
      "execution_count": null,
      "metadata": {
        "colab": {
          "base_uri": "https://localhost:8080/"
        },
        "id": "SMLJxtqTRtS9",
        "outputId": "a426189b-ee8f-4828-e911-b467be93d236"
      },
      "outputs": [
        {
          "data": {
            "text/plain": [
              "array([0.00251864, 0.00277806, 0.00845589, ..., 0.00212432, 0.00616433,\n",
              "       0.00154379])"
            ]
          },
          "execution_count": 12,
          "metadata": {
            "tags": []
          },
          "output_type": "execute_result"
        }
      ],
      "source": [
        "#3l\n",
        "weights=inp_nonsc[:,18]\n",
        "weights[targets==1]"
      ]
    },
    {
      "cell_type": "code",
      "execution_count": null,
      "metadata": {
        "colab": {
          "base_uri": "https://localhost:8080/"
        },
        "id": "y6elqCd1ANKn",
        "outputId": "2f1f1f8e-c0fb-4909-904a-c2f615fc1215"
      },
      "outputs": [
        {
          "data": {
            "text/plain": [
              "array([0.00087273, 0.00723872, 0.00739071, ..., 0.00749735, 0.0076845 ,\n",
              "       0.00780777])"
            ]
          },
          "execution_count": 16,
          "metadata": {
            "tags": []
          },
          "output_type": "execute_result"
        }
      ],
      "source": [
        "#4l\n",
        "weights=inp_nonsc[:,20]\n",
        "weights[targets==1]"
      ]
    },
    {
      "cell_type": "code",
      "execution_count": 32,
      "metadata": {
        "id": "hKmPR0jL9afj"
      },
      "outputs": [],
      "source": [
        "targets = targets[np.where((weights<1) &(weights>0))]\n",
        "inp_nonsc = inp_nonsc[np.where((weights<1) &(weights>0))]\n",
        "evtnum =evtnum[np.where((weights<1) &(weights>0))]"
      ]
    },
    {
      "cell_type": "code",
      "execution_count": 33,
      "metadata": {
        "id": "40z1TOgGTmU1"
      },
      "outputs": [],
      "source": [
        "weights = weights[np.where((weights<1) &(weights>0))]"
      ]
    },
    {
      "cell_type": "code",
      "execution_count": 34,
      "metadata": {
        "colab": {
          "base_uri": "https://localhost:8080/",
          "height": 295
        },
        "id": "X4c_YDjX6aGT",
        "outputId": "af09acdc-0359-4907-ee49-2710cca897da"
      },
      "outputs": [
        {
          "output_type": "execute_result",
          "data": {
            "text/plain": [
              "[<matplotlib.lines.Line2D at 0x7fcbd0880990>]"
            ]
          },
          "metadata": {},
          "execution_count": 34
        },
        {
          "output_type": "display_data",
          "data": {
            "text/plain": [
              "<Figure size 432x288 with 1 Axes>"
            ],
            "image/png": "[encoded data removed]"
          },
          "metadata": {
            "needs_background": "light"
          }
        }
      ],
      "source": [
        "plt.plot((weights[targets==0]))"
      ]
    },
    {
      "cell_type": "code",
      "execution_count": 35,
      "metadata": {
        "colab": {
          "base_uri": "https://localhost:8080/",
          "height": 282
        },
        "id": "XK3npbmj6c7L",
        "outputId": "a064935d-71c3-4829-a52f-d8b66e1c4569"
      },
      "outputs": [
        {
          "output_type": "execute_result",
          "data": {
            "text/plain": [
              "[<matplotlib.lines.Line2D at 0x7fcbcff98d10>]"
            ]
          },
          "metadata": {},
          "execution_count": 35
        },
        {
          "output_type": "display_data",
          "data": {
            "text/plain": [
              "<Figure size 432x288 with 1 Axes>"
            ],
            "image/png": "[encoded data removed]"
          },
          "metadata": {
            "needs_background": "light"
          }
        }
      ],
      "source": [
        "plt.plot(weights[targets==1])"
      ]
    },
    {
      "cell_type": "code",
      "execution_count": 36,
      "metadata": {
        "colab": {
          "base_uri": "https://localhost:8080/"
        },
        "id": "hlqR90IBqi19",
        "outputId": "7a97fb4b-7a3d-440c-a094-15b059d26d2b"
      },
      "outputs": [
        {
          "output_type": "stream",
          "name": "stdout",
          "text": [
            "\n",
            "======Weight Statistic========================================\n",
            "Weights::        W(1)=1229.8, W(0)=1850.77\n",
            "Scaled weights:: W(1)=627209, W(0)=627208\n",
            "==============================================================\n"
          ]
        }
      ],
      "source": [
        "ScaleWeights(targets,weights)"
      ]
    },
    {
      "cell_type": "code",
      "execution_count": 37,
      "metadata": {
        "colab": {
          "base_uri": "https://localhost:8080/"
        },
        "id": "2COC1eAYCtEZ",
        "outputId": "34cae392-575d-4980-bf2b-fd63bb9fe0c3"
      },
      "outputs": [
        {
          "output_type": "stream",
          "name": "stdout",
          "text": [
            "Counter({0: 983568, 1: 270849})\n"
          ]
        }
      ],
      "source": [
        "from collections import Counter\n",
        "counter = Counter(targets)\n",
        "print(counter)\n"
      ]
    },
    {
      "cell_type": "code",
      "execution_count": 38,
      "metadata": {
        "colab": {
          "base_uri": "https://localhost:8080/"
        },
        "id": "6pQXJLfesdLZ",
        "outputId": "6651420a-d5d3-4900-9808-9ffd4b6dd2d1"
      },
      "outputs": [
        {
          "output_type": "stream",
          "name": "stdout",
          "text": [
            "[[4.00000000e+00 5.00000000e+00 1.00000000e+00 ... 1.43580828e+05\n",
            "  1.00000000e+01 7.13740547e+04]\n",
            " [5.00000000e+00 5.00000000e+00 1.00000000e+00 ... 1.23806992e+05\n",
            "  1.00000000e+01 3.42733086e+04]\n",
            " [7.00000000e+00 3.00000000e+00 1.00000000e+00 ... 5.93398516e+04\n",
            "  9.00000000e+00 7.42134688e+04]\n",
            " ...\n",
            " [2.00000000e+00 5.00000000e+00 5.00000000e+00 ... 7.38791125e+05\n",
            "  1.00000000e+01 1.25017328e+05]\n",
            " [4.00000000e+00 5.00000000e+00 1.00000000e+00 ... 3.08519281e+05\n",
            "  1.20000000e+01 4.32889875e+05]\n",
            " [4.00000000e+00 5.00000000e+00 1.00000000e+00 ... 2.54514594e+05\n",
            "  8.00000000e+00 3.82474031e+05]]\n",
            "[[-0.27196327  1.12727708 -0.97570968 ... -0.33959042 -0.2244649\n",
            "  -0.18711044]\n",
            " [ 0.23582626  1.12727708 -0.97570968 ... -0.42629705 -0.2244649\n",
            "  -0.33441896]\n",
            " [ 1.25140531  0.03687784 -0.97570968 ... -0.70898012 -0.4605043\n",
            "  -0.17583655]\n",
            " ...\n",
            " [-1.28754232  1.12727708  1.20059234 ...  2.27035738 -0.2244649\n",
            "   0.02588018]\n",
            " [-0.27196327  1.12727708 -0.97570968 ...  0.38365102  0.24761391\n",
            "   1.24828817]\n",
            " [-0.27196327  1.12727708 -0.97570968 ...  0.14684494 -0.69654371\n",
            "   1.04811206]]\n"
          ]
        }
      ],
      "source": [
        "#scale the input between 0-1\n",
        "#print(inp_nonsc)\n",
        "scaler = StandardScaler().fit(inp_nonsc)\n",
        "print(inp_nonsc)\n",
        "inp_nonsc = scaler.transform(inp_nonsc)\n",
        "print(inp_nonsc)\n",
        "#inp_nonsc.shape"
      ]
    },
    {
      "cell_type": "code",
      "execution_count": 39,
      "metadata": {
        "colab": {
          "base_uri": "https://localhost:8080/"
        },
        "id": "CbHZtFzk1Rw7",
        "outputId": "4f6592e8-4c82-492d-84c6-08d7026c097a"
      },
      "outputs": [
        {
          "output_type": "execute_result",
          "data": {
            "text/plain": [
              "(1254417, 10)"
            ]
          },
          "metadata": {},
          "execution_count": 39
        }
      ],
      "source": [
        "inp_nonsc.shape"
      ]
    },
    {
      "cell_type": "code",
      "execution_count": 40,
      "metadata": {
        "id": "D64hk_18vSe1"
      },
      "outputs": [],
      "source": [
        "import pickle\n",
        "scalerfile = path_tosave+'/scaler_standard.bin'\n",
        "pickle.dump(scaler, open(scalerfile, 'wb'))"
      ]
    },
    {
      "cell_type": "code",
      "execution_count": null,
      "metadata": {
        "id": "_bc7302zXGpX"
      },
      "outputs": [],
      "source": [
        "from tensorflow.python.framework.ops import disable_eager_execution\n",
        "\n",
        "disable_eager_execution()"
      ]
    },
    {
      "cell_type": "code",
      "execution_count": 41,
      "metadata": {
        "id": "aTZWhtxRUSVG"
      },
      "outputs": [],
      "source": [
        "def exponential_decay_fn(epoch): \n",
        "  return 0.05 * 0.1**(epoch / 20)"
      ]
    },
    {
      "cell_type": "code",
      "execution_count": 42,
      "metadata": {
        "id": "UTFalfU-YlbL"
      },
      "outputs": [],
      "source": [
        "def lr_step_decay(epoch) : #initial_lr, drop, epoch_to_drop) :\n",
        "\n",
        "    initial_lr = 0.01\n",
        "    drop = 0.9\n",
        "    epoch_to_drop = 3\n",
        "\n",
        "    if epoch >= 50 :\n",
        "        epoch == 50\n",
        "    elif epoch >= 25 :\n",
        "        epoch -= 25\n",
        "#        new_lr = initial_lr\n",
        "        print('INFO Setting learning rate back to initial LR (={})'.format(initial_lr))\n",
        "\n",
        "    new_lr = initial_lr * math.pow(drop, math.floor((1+epoch)/epoch_to_drop))\n",
        "    print('INFO LR Schedule: {}'.format(new_lr))\n",
        "    return new_lr"
      ]
    },
    {
      "cell_type": "code",
      "execution_count": 43,
      "metadata": {
        "id": "nEyuBu9pz_wY"
      },
      "outputs": [],
      "source": [
        "auc_scores = []\n",
        "auc_targets = []\n",
        "acc_per_fold = []\n",
        "loss_per_fold = []\n",
        "results = []\n",
        "model_history = []\n",
        "fitfull_history = []\n",
        "callbacks = []"
      ]
    },
    {
      "cell_type": "code",
      "execution_count": 44,
      "metadata": {
        "id": "OdVzc3rvvsRs"
      },
      "outputs": [],
      "source": [
        "    def fit_func2(n_classes, input_features_scale, targets, n_epochs = 400, batch_size = 2000, num_folds = 10) :\n",
        "        # Define the K-fold Cross Validator\n",
        "        kfold = GroupKFold(n_splits=2)\n",
        "       # kfold = StratifiedKFold(n_splits=2)\n",
        "        # Define per-fold score containers\n",
        "        acc_per_fold = []\n",
        "        loss_per_fold = []\n",
        "        number = int((targets.size)/2)\n",
        "        #group = [0,1]*number\n",
        "        group = evtnum % 2 ==0\n",
        "        targets_encoded=targets\n",
        "        # K-fold Cross Validation model evaluation\n",
        "        fold_no = 1\n",
        "        for train, test in kfold.split(input_features_scale, targets_encoded,group):\n",
        "            print(\"TRAIN:\", train, \"TEST:\", test)\n",
        "            layer_opts = dict( activation = 'sigmoid', kernel_initializer = initializers.glorot_normal(seed=seed))\n",
        "            input_layer = Kl.Input(shape = (inp_nonsc.shape[1],) )\n",
        "            x = Kl.Dense( 36, **layer_opts) (input_layer)\n",
        "            x = Kl.Dropout(0.4)(x)\n",
        "            x = Kl.Dense( 48, **layer_opts) (x)\n",
        "            y_pred = Kl.Dense( 1., activation = 'sigmoid', name = \"OutputLayer\" )(x)\n",
        "            model = Km.Model(inputs= input_layer, outputs=y_pred )\n",
        "            model_optimizer = Adam(lr=0.0001)\n",
        "            model.compile(optimizer=tf.keras.optimizers.Adam(),loss='binary_crossentropy', metrics = ['accuracy'])\n",
        "            model.summary() \n",
        "            lr_scheduler = tf.keras.callbacks.LearningRateScheduler(exponential_decay_fn)\n",
        "            lr_schedule = tf.keras.callbacks.LearningRateScheduler(lr_step_decay)\n",
        "            # Generate a print\n",
        "            print('------------------------------------------------------------------------')\n",
        "            print(f'Training for fold {fold_no} ...')\n",
        "              # Fit data to model\n",
        "            train_X, test_X = input_features_scale[train], input_features_scale[test]\n",
        "            train_y, test_y = targets_encoded[train], targets_encoded[test]\n",
        "            w_train = weights[train]\n",
        "            train_0, train_1 = len(train_y[train_y==0]), len(train_y[train_y==1])\n",
        "            test_0, test_1 = len(test_y[test_y==0]), len(test_y[test_y==1])\n",
        "            print('>Train: 0=%d, 1=%d, Test: 0=%d, 1=%d' % (train_0, train_1, test_0, test_1))\n",
        "            fit_history = model.fit(train_X, train_y, epochs = n_epochs, shuffle = True, batch_size = batch_size ,validation_data = (test_X,test_y), sample_weight=w_train,callbacks=[tf.keras.callbacks.EarlyStopping(monitor = 'val_loss', patience = 20, verbose = True, min_delta = 0.001),lr_schedule]) #\n",
        "            scores = model.evaluate(test_X, test_y,batch_size=batch_size, verbose=0)\n",
        "            nn_scores = model.predict(test_X,verbose = True)\n",
        "            print(f'Score for fold {fold_no}: {model.metrics_names[0]} of {scores[0]}; {model.metrics_names[1]} of {scores[1]*100}%')\n",
        "            acc_per_fold.append(scores[1] * 100)\n",
        "            loss_per_fold.append(scores[0])\n",
        "            results.append(scores)\n",
        "            model_history.append(model)\n",
        "            fitfull_history.append(fit_history)\n",
        "            auc_scores.append(nn_scores)\n",
        "            auc_targets.append(targets[test])\n",
        "\n",
        "              # Increase fold number\n",
        "            fold_no = fold_no + 1\n",
        "        #fit_history = model1.fit(x_train, y_train, epochs = n_epochs, batch_size = batch_size, shuffle = True, validation_data = (x_val, y_val),callbacks=callback)\n",
        "\n",
        "        #self._fit_history = self._model.fit(x_train, y_train, epochs = n_epochs, batch_size = batch_size, shuffle = True, validation_data = (x_val, y_val), callbacks = callbacks)\n",
        "        return model_history, fitfull_history, results"
      ]
    },
    {
      "cell_type": "code",
      "execution_count": 46,
      "metadata": {
        "id": "sUfVYkFYfck7",
        "colab": {
          "base_uri": "https://localhost:8080/",
          "height": 735
        },
        "outputId": "72fe31b2-8daa-42f5-e7ec-8220e300f1b2"
      },
      "outputs": [
        {
          "output_type": "stream",
          "name": "stdout",
          "text": [
            "TRAIN: [      0       4       5 ... 1254402 1254405 1254413] TEST: [      1       2       3 ... 1254414 1254415 1254416]\n",
            "Model: \"model_2\"\n",
            "_________________________________________________________________\n",
            "Layer (type)                 Output Shape              Param #   \n",
            "=================================================================\n",
            "input_3 (InputLayer)         [(None, 10)]              0         \n",
            "_________________________________________________________________\n",
            "dense_4 (Dense)              (None, 36)                396       \n",
            "_________________________________________________________________\n",
            "dropout_2 (Dropout)          (None, 36)                0         \n",
            "_________________________________________________________________\n",
            "dense_5 (Dense)              (None, 48)                1776      \n",
            "_________________________________________________________________\n",
            "OutputLayer (Dense)          (None, 1)                 49        \n",
            "=================================================================\n",
            "Total params: 2,221\n",
            "Trainable params: 2,221\n",
            "Non-trainable params: 0\n",
            "_________________________________________________________________\n",
            "------------------------------------------------------------------------\n",
            "Training for fold 1 ...\n",
            ">Train: 0=482226, 1=132750, Test: 0=501342, 1=138099\n"
          ]
        },
        {
          "output_type": "error",
          "ename": "KeyboardInterrupt",
          "evalue": "ignored",
          "traceback": [
            "\u001b[0;31m---------------------------------------------------------------------------\u001b[0m",
            "\u001b[0;31mKeyboardInterrupt\u001b[0m                         Traceback (most recent call last)",
            "\u001b[0;32m<ipython-input-46-c317382b063d>\u001b[0m in \u001b[0;36m<module>\u001b[0;34m()\u001b[0m\n\u001b[0;32m----> 1\u001b[0;31m \u001b[0mmy_model_fin_func\u001b[0m\u001b[0;34m,\u001b[0m \u001b[0mfit_history_func\u001b[0m\u001b[0;34m,\u001b[0m\u001b[0mresults\u001b[0m \u001b[0;34m=\u001b[0m \u001b[0mfit_func2\u001b[0m\u001b[0;34m(\u001b[0m \u001b[0mlen\u001b[0m\u001b[0;34m(\u001b[0m\u001b[0mtraining_samples\u001b[0m\u001b[0;34m)\u001b[0m\u001b[0;34m-\u001b[0m\u001b[0;36m1\u001b[0m\u001b[0;34m,\u001b[0m \u001b[0minp_nonsc\u001b[0m\u001b[0;34m,\u001b[0m \u001b[0mtargets\u001b[0m\u001b[0;34m,\u001b[0m \u001b[0mn_epochs\u001b[0m \u001b[0;34m=\u001b[0m \u001b[0;36m70\u001b[0m\u001b[0;34m,\u001b[0m \u001b[0mbatch_size\u001b[0m \u001b[0;34m=\u001b[0m \u001b[0;36m2000\u001b[0m\u001b[0;34m,\u001b[0m \u001b[0mnum_folds\u001b[0m \u001b[0;34m=\u001b[0m \u001b[0;36m2\u001b[0m\u001b[0;34m)\u001b[0m\u001b[0;34m\u001b[0m\u001b[0;34m\u001b[0m\u001b[0m\n\u001b[0m",
            "\u001b[0;32m<ipython-input-44-d8c52b34b8d6>\u001b[0m in \u001b[0;36mfit_func2\u001b[0;34m(n_classes, input_features_scale, targets, n_epochs, batch_size, num_folds)\u001b[0m\n\u001b[1;32m     36\u001b[0m         \u001b[0mtest_0\u001b[0m\u001b[0;34m,\u001b[0m \u001b[0mtest_1\u001b[0m \u001b[0;34m=\u001b[0m \u001b[0mlen\u001b[0m\u001b[0;34m(\u001b[0m\u001b[0mtest_y\u001b[0m\u001b[0;34m[\u001b[0m\u001b[0mtest_y\u001b[0m\u001b[0;34m==\u001b[0m\u001b[0;36m0\u001b[0m\u001b[0;34m]\u001b[0m\u001b[0;34m)\u001b[0m\u001b[0;34m,\u001b[0m \u001b[0mlen\u001b[0m\u001b[0;34m(\u001b[0m\u001b[0mtest_y\u001b[0m\u001b[0;34m[\u001b[0m\u001b[0mtest_y\u001b[0m\u001b[0;34m==\u001b[0m\u001b[0;36m1\u001b[0m\u001b[0;34m]\u001b[0m\u001b[0;34m)\u001b[0m\u001b[0;34m\u001b[0m\u001b[0;34m\u001b[0m\u001b[0m\n\u001b[1;32m     37\u001b[0m         \u001b[0mprint\u001b[0m\u001b[0;34m(\u001b[0m\u001b[0;34m'>Train: 0=%d, 1=%d, Test: 0=%d, 1=%d'\u001b[0m \u001b[0;34m%\u001b[0m \u001b[0;34m(\u001b[0m\u001b[0mtrain_0\u001b[0m\u001b[0;34m,\u001b[0m \u001b[0mtrain_1\u001b[0m\u001b[0;34m,\u001b[0m \u001b[0mtest_0\u001b[0m\u001b[0;34m,\u001b[0m \u001b[0mtest_1\u001b[0m\u001b[0;34m)\u001b[0m\u001b[0;34m)\u001b[0m\u001b[0;34m\u001b[0m\u001b[0;34m\u001b[0m\u001b[0m\n\u001b[0;32m---> 38\u001b[0;31m         \u001b[0mfit_history\u001b[0m \u001b[0;34m=\u001b[0m \u001b[0mmodel\u001b[0m\u001b[0;34m.\u001b[0m\u001b[0mfit\u001b[0m\u001b[0;34m(\u001b[0m\u001b[0mtrain_X\u001b[0m\u001b[0;34m,\u001b[0m \u001b[0mtrain_y\u001b[0m\u001b[0;34m,\u001b[0m \u001b[0mepochs\u001b[0m \u001b[0;34m=\u001b[0m \u001b[0mn_epochs\u001b[0m\u001b[0;34m,\u001b[0m \u001b[0mshuffle\u001b[0m \u001b[0;34m=\u001b[0m \u001b[0;32mTrue\u001b[0m\u001b[0;34m,\u001b[0m \u001b[0mbatch_size\u001b[0m \u001b[0;34m=\u001b[0m \u001b[0mbatch_size\u001b[0m \u001b[0;34m,\u001b[0m\u001b[0mvalidation_data\u001b[0m \u001b[0;34m=\u001b[0m \u001b[0;34m(\u001b[0m\u001b[0mtest_X\u001b[0m\u001b[0;34m,\u001b[0m\u001b[0mtest_y\u001b[0m\u001b[0;34m)\u001b[0m\u001b[0;34m,\u001b[0m \u001b[0msample_weight\u001b[0m\u001b[0;34m=\u001b[0m\u001b[0mw_train\u001b[0m\u001b[0;34m,\u001b[0m\u001b[0mcallbacks\u001b[0m\u001b[0;34m=\u001b[0m\u001b[0;34m[\u001b[0m\u001b[0mtf\u001b[0m\u001b[0;34m.\u001b[0m\u001b[0mkeras\u001b[0m\u001b[0;34m.\u001b[0m\u001b[0mcallbacks\u001b[0m\u001b[0;34m.\u001b[0m\u001b[0mEarlyStopping\u001b[0m\u001b[0;34m(\u001b[0m\u001b[0mmonitor\u001b[0m \u001b[0;34m=\u001b[0m \u001b[0;34m'val_loss'\u001b[0m\u001b[0;34m,\u001b[0m \u001b[0mpatience\u001b[0m \u001b[0;34m=\u001b[0m \u001b[0;36m20\u001b[0m\u001b[0;34m,\u001b[0m \u001b[0mverbose\u001b[0m \u001b[0;34m=\u001b[0m \u001b[0;32mTrue\u001b[0m\u001b[0;34m,\u001b[0m \u001b[0mmin_delta\u001b[0m \u001b[0;34m=\u001b[0m \u001b[0;36m0.001\u001b[0m\u001b[0;34m)\u001b[0m\u001b[0;34m,\u001b[0m\u001b[0mlr_schedule\u001b[0m\u001b[0;34m]\u001b[0m\u001b[0;34m)\u001b[0m \u001b[0;31m#\u001b[0m\u001b[0;34m\u001b[0m\u001b[0;34m\u001b[0m\u001b[0m\n\u001b[0m\u001b[1;32m     39\u001b[0m         \u001b[0mscores\u001b[0m \u001b[0;34m=\u001b[0m \u001b[0mmodel\u001b[0m\u001b[0;34m.\u001b[0m\u001b[0mevaluate\u001b[0m\u001b[0;34m(\u001b[0m\u001b[0mtest_X\u001b[0m\u001b[0;34m,\u001b[0m \u001b[0mtest_y\u001b[0m\u001b[0;34m,\u001b[0m\u001b[0mbatch_size\u001b[0m\u001b[0;34m=\u001b[0m\u001b[0mbatch_size\u001b[0m\u001b[0;34m,\u001b[0m \u001b[0mverbose\u001b[0m\u001b[0;34m=\u001b[0m\u001b[0;36m0\u001b[0m\u001b[0;34m)\u001b[0m\u001b[0;34m\u001b[0m\u001b[0;34m\u001b[0m\u001b[0m\n\u001b[1;32m     40\u001b[0m         \u001b[0mnn_scores\u001b[0m \u001b[0;34m=\u001b[0m \u001b[0mmodel\u001b[0m\u001b[0;34m.\u001b[0m\u001b[0mpredict\u001b[0m\u001b[0;34m(\u001b[0m\u001b[0mtest_X\u001b[0m\u001b[0;34m,\u001b[0m\u001b[0mverbose\u001b[0m \u001b[0;34m=\u001b[0m \u001b[0;32mTrue\u001b[0m\u001b[0;34m)\u001b[0m\u001b[0;34m\u001b[0m\u001b[0;34m\u001b[0m\u001b[0m\n",
            "\u001b[0;32m/usr/local/lib/python3.7/dist-packages/tensorflow/python/keras/engine/training.py\u001b[0m in \u001b[0;36mfit\u001b[0;34m(self, x, y, batch_size, epochs, verbose, callbacks, validation_split, validation_data, shuffle, class_weight, sample_weight, initial_epoch, steps_per_epoch, validation_steps, validation_batch_size, validation_freq, max_queue_size, workers, use_multiprocessing)\u001b[0m\n\u001b[1;32m   1062\u001b[0m           \u001b[0muse_multiprocessing\u001b[0m\u001b[0;34m=\u001b[0m\u001b[0muse_multiprocessing\u001b[0m\u001b[0;34m,\u001b[0m\u001b[0;34m\u001b[0m\u001b[0;34m\u001b[0m\u001b[0m\n\u001b[1;32m   1063\u001b[0m           \u001b[0mmodel\u001b[0m\u001b[0;34m=\u001b[0m\u001b[0mself\u001b[0m\u001b[0;34m,\u001b[0m\u001b[0;34m\u001b[0m\u001b[0;34m\u001b[0m\u001b[0m\n\u001b[0;32m-> 1064\u001b[0;31m           steps_per_execution=self._steps_per_execution)\n\u001b[0m\u001b[1;32m   1065\u001b[0m \u001b[0;34m\u001b[0m\u001b[0m\n\u001b[1;32m   1066\u001b[0m       \u001b[0;31m# Container that configures and calls `tf.keras.Callback`s.\u001b[0m\u001b[0;34m\u001b[0m\u001b[0;34m\u001b[0m\u001b[0;34m\u001b[0m\u001b[0m\n",
            "\u001b[0;32m/usr/local/lib/python3.7/dist-packages/tensorflow/python/keras/engine/data_adapter.py\u001b[0m in \u001b[0;36m__init__\u001b[0;34m(self, x, y, sample_weight, batch_size, steps_per_epoch, initial_epoch, epochs, shuffle, class_weight, max_queue_size, workers, use_multiprocessing, model, steps_per_execution)\u001b[0m\n\u001b[1;32m   1110\u001b[0m         \u001b[0muse_multiprocessing\u001b[0m\u001b[0;34m=\u001b[0m\u001b[0muse_multiprocessing\u001b[0m\u001b[0;34m,\u001b[0m\u001b[0;34m\u001b[0m\u001b[0;34m\u001b[0m\u001b[0m\n\u001b[1;32m   1111\u001b[0m         \u001b[0mdistribution_strategy\u001b[0m\u001b[0;34m=\u001b[0m\u001b[0mds_context\u001b[0m\u001b[0;34m.\u001b[0m\u001b[0mget_strategy\u001b[0m\u001b[0;34m(\u001b[0m\u001b[0;34m)\u001b[0m\u001b[0;34m,\u001b[0m\u001b[0;34m\u001b[0m\u001b[0;34m\u001b[0m\u001b[0m\n\u001b[0;32m-> 1112\u001b[0;31m         model=model)\n\u001b[0m\u001b[1;32m   1113\u001b[0m \u001b[0;34m\u001b[0m\u001b[0m\n\u001b[1;32m   1114\u001b[0m     \u001b[0mstrategy\u001b[0m \u001b[0;34m=\u001b[0m \u001b[0mds_context\u001b[0m\u001b[0;34m.\u001b[0m\u001b[0mget_strategy\u001b[0m\u001b[0;34m(\u001b[0m\u001b[0;34m)\u001b[0m\u001b[0;34m\u001b[0m\u001b[0;34m\u001b[0m\u001b[0m\n",
            "\u001b[0;32m/usr/local/lib/python3.7/dist-packages/tensorflow/python/keras/engine/data_adapter.py\u001b[0m in \u001b[0;36m__init__\u001b[0;34m(self, x, y, sample_weights, sample_weight_modes, batch_size, epochs, steps, shuffle, **kwargs)\u001b[0m\n\u001b[1;32m    267\u001b[0m     \u001b[0;31m# If sample_weights are not specified for an output use 1.0 as weights.\u001b[0m\u001b[0;34m\u001b[0m\u001b[0;34m\u001b[0m\u001b[0;34m\u001b[0m\u001b[0m\n\u001b[1;32m    268\u001b[0m     (sample_weights, _, _) = training_utils.handle_partial_sample_weights(\n\u001b[0;32m--> 269\u001b[0;31m         y, sample_weights, sample_weight_modes, check_all_flat=True)\n\u001b[0m\u001b[1;32m    270\u001b[0m \u001b[0;34m\u001b[0m\u001b[0m\n\u001b[1;32m    271\u001b[0m     \u001b[0minputs\u001b[0m \u001b[0;34m=\u001b[0m \u001b[0mpack_x_y_sample_weight\u001b[0m\u001b[0;34m(\u001b[0m\u001b[0mx\u001b[0m\u001b[0;34m,\u001b[0m \u001b[0my\u001b[0m\u001b[0;34m,\u001b[0m \u001b[0msample_weights\u001b[0m\u001b[0;34m)\u001b[0m\u001b[0;34m\u001b[0m\u001b[0;34m\u001b[0m\u001b[0m\n",
            "\u001b[0;32m/usr/local/lib/python3.7/dist-packages/tensorflow/python/keras/engine/training_utils.py\u001b[0m in \u001b[0;36mhandle_partial_sample_weights\u001b[0;34m(outputs, sample_weights, sample_weight_modes, check_all_flat)\u001b[0m\n\u001b[1;32m     81\u001b[0m       w is not None for w in sample_weights)\n\u001b[1;32m     82\u001b[0m   partial_sample_weight = any_sample_weight and any(\n\u001b[0;32m---> 83\u001b[0;31m       w is None for w in sample_weights)\n\u001b[0m\u001b[1;32m     84\u001b[0m \u001b[0;34m\u001b[0m\u001b[0m\n\u001b[1;32m     85\u001b[0m   \u001b[0;32mif\u001b[0m \u001b[0;32mnot\u001b[0m \u001b[0many_sample_weight\u001b[0m\u001b[0;34m:\u001b[0m\u001b[0;34m\u001b[0m\u001b[0;34m\u001b[0m\u001b[0m\n",
            "\u001b[0;32m/usr/local/lib/python3.7/dist-packages/tensorflow/python/keras/engine/training_utils.py\u001b[0m in \u001b[0;36m<genexpr>\u001b[0;34m(.0)\u001b[0m\n\u001b[1;32m     81\u001b[0m       w is not None for w in sample_weights)\n\u001b[1;32m     82\u001b[0m   partial_sample_weight = any_sample_weight and any(\n\u001b[0;32m---> 83\u001b[0;31m       w is None for w in sample_weights)\n\u001b[0m\u001b[1;32m     84\u001b[0m \u001b[0;34m\u001b[0m\u001b[0m\n\u001b[1;32m     85\u001b[0m   \u001b[0;32mif\u001b[0m \u001b[0;32mnot\u001b[0m \u001b[0many_sample_weight\u001b[0m\u001b[0;34m:\u001b[0m\u001b[0;34m\u001b[0m\u001b[0;34m\u001b[0m\u001b[0m\n",
            "\u001b[0;32m/usr/local/lib/python3.7/dist-packages/tensorflow/python/framework/ops.py\u001b[0m in \u001b[0;36m__next__\u001b[0;34m(self)\u001b[0m\n\u001b[1;32m   6949\u001b[0m     \u001b[0;32mif\u001b[0m \u001b[0mself\u001b[0m\u001b[0;34m.\u001b[0m\u001b[0m_index\u001b[0m \u001b[0;34m==\u001b[0m \u001b[0mself\u001b[0m\u001b[0;34m.\u001b[0m\u001b[0m_limit\u001b[0m\u001b[0;34m:\u001b[0m\u001b[0;34m\u001b[0m\u001b[0;34m\u001b[0m\u001b[0m\n\u001b[1;32m   6950\u001b[0m       \u001b[0;32mraise\u001b[0m \u001b[0mStopIteration\u001b[0m\u001b[0;34m\u001b[0m\u001b[0;34m\u001b[0m\u001b[0m\n\u001b[0;32m-> 6951\u001b[0;31m     \u001b[0mresult\u001b[0m \u001b[0;34m=\u001b[0m \u001b[0mself\u001b[0m\u001b[0;34m.\u001b[0m\u001b[0m_tensor\u001b[0m\u001b[0;34m[\u001b[0m\u001b[0mself\u001b[0m\u001b[0;34m.\u001b[0m\u001b[0m_index\u001b[0m\u001b[0;34m]\u001b[0m\u001b[0;34m\u001b[0m\u001b[0;34m\u001b[0m\u001b[0m\n\u001b[0m\u001b[1;32m   6952\u001b[0m     \u001b[0mself\u001b[0m\u001b[0;34m.\u001b[0m\u001b[0m_index\u001b[0m \u001b[0;34m+=\u001b[0m \u001b[0;36m1\u001b[0m\u001b[0;34m\u001b[0m\u001b[0;34m\u001b[0m\u001b[0m\n\u001b[1;32m   6953\u001b[0m     \u001b[0;32mreturn\u001b[0m \u001b[0mresult\u001b[0m\u001b[0;34m\u001b[0m\u001b[0;34m\u001b[0m\u001b[0m\n",
            "\u001b[0;32m/usr/local/lib/python3.7/dist-packages/tensorflow/python/util/dispatch.py\u001b[0m in \u001b[0;36mwrapper\u001b[0;34m(*args, **kwargs)\u001b[0m\n\u001b[1;32m    199\u001b[0m     \u001b[0;34m\"\"\"Call target, and fall back on dispatchers if there is a TypeError.\"\"\"\u001b[0m\u001b[0;34m\u001b[0m\u001b[0;34m\u001b[0m\u001b[0m\n\u001b[1;32m    200\u001b[0m     \u001b[0;32mtry\u001b[0m\u001b[0;34m:\u001b[0m\u001b[0;34m\u001b[0m\u001b[0;34m\u001b[0m\u001b[0m\n\u001b[0;32m--> 201\u001b[0;31m       \u001b[0;32mreturn\u001b[0m \u001b[0mtarget\u001b[0m\u001b[0;34m(\u001b[0m\u001b[0;34m*\u001b[0m\u001b[0margs\u001b[0m\u001b[0;34m,\u001b[0m \u001b[0;34m**\u001b[0m\u001b[0mkwargs\u001b[0m\u001b[0;34m)\u001b[0m\u001b[0;34m\u001b[0m\u001b[0;34m\u001b[0m\u001b[0m\n\u001b[0m\u001b[1;32m    202\u001b[0m     \u001b[0;32mexcept\u001b[0m \u001b[0;34m(\u001b[0m\u001b[0mTypeError\u001b[0m\u001b[0;34m,\u001b[0m \u001b[0mValueError\u001b[0m\u001b[0;34m)\u001b[0m\u001b[0;34m:\u001b[0m\u001b[0;34m\u001b[0m\u001b[0;34m\u001b[0m\u001b[0m\n\u001b[1;32m    203\u001b[0m       \u001b[0;31m# Note: convert_to_eager_tensor currently raises a ValueError, not a\u001b[0m\u001b[0;34m\u001b[0m\u001b[0;34m\u001b[0m\u001b[0;34m\u001b[0m\u001b[0m\n",
            "\u001b[0;32m/usr/local/lib/python3.7/dist-packages/tensorflow/python/ops/array_ops.py\u001b[0m in \u001b[0;36m_slice_helper\u001b[0;34m(tensor, slice_spec, var)\u001b[0m\n\u001b[1;32m   1020\u001b[0m       skip_on_eager=False) as name:\n\u001b[1;32m   1021\u001b[0m     \u001b[0;32mif\u001b[0m \u001b[0mbegin\u001b[0m\u001b[0;34m:\u001b[0m\u001b[0;34m\u001b[0m\u001b[0;34m\u001b[0m\u001b[0m\n\u001b[0;32m-> 1022\u001b[0;31m       packed_begin, packed_end, packed_strides = (stack(begin), stack(end),\n\u001b[0m\u001b[1;32m   1023\u001b[0m                                                   stack(strides))\n\u001b[1;32m   1024\u001b[0m       if (packed_begin.dtype == dtypes.int64 or\n",
            "\u001b[0;32m/usr/local/lib/python3.7/dist-packages/tensorflow/python/util/dispatch.py\u001b[0m in \u001b[0;36mwrapper\u001b[0;34m(*args, **kwargs)\u001b[0m\n\u001b[1;32m    199\u001b[0m     \u001b[0;34m\"\"\"Call target, and fall back on dispatchers if there is a TypeError.\"\"\"\u001b[0m\u001b[0;34m\u001b[0m\u001b[0;34m\u001b[0m\u001b[0m\n\u001b[1;32m    200\u001b[0m     \u001b[0;32mtry\u001b[0m\u001b[0;34m:\u001b[0m\u001b[0;34m\u001b[0m\u001b[0;34m\u001b[0m\u001b[0m\n\u001b[0;32m--> 201\u001b[0;31m       \u001b[0;32mreturn\u001b[0m \u001b[0mtarget\u001b[0m\u001b[0;34m(\u001b[0m\u001b[0;34m*\u001b[0m\u001b[0margs\u001b[0m\u001b[0;34m,\u001b[0m \u001b[0;34m**\u001b[0m\u001b[0mkwargs\u001b[0m\u001b[0;34m)\u001b[0m\u001b[0;34m\u001b[0m\u001b[0;34m\u001b[0m\u001b[0m\n\u001b[0m\u001b[1;32m    202\u001b[0m     \u001b[0;32mexcept\u001b[0m \u001b[0;34m(\u001b[0m\u001b[0mTypeError\u001b[0m\u001b[0;34m,\u001b[0m \u001b[0mValueError\u001b[0m\u001b[0;34m)\u001b[0m\u001b[0;34m:\u001b[0m\u001b[0;34m\u001b[0m\u001b[0;34m\u001b[0m\u001b[0m\n\u001b[1;32m    203\u001b[0m       \u001b[0;31m# Note: convert_to_eager_tensor currently raises a ValueError, not a\u001b[0m\u001b[0;34m\u001b[0m\u001b[0;34m\u001b[0m\u001b[0;34m\u001b[0m\u001b[0m\n",
            "\u001b[0;32m/usr/local/lib/python3.7/dist-packages/tensorflow/python/ops/array_ops.py\u001b[0m in \u001b[0;36mstack\u001b[0;34m(values, axis, name)\u001b[0m\n\u001b[1;32m   1399\u001b[0m     \u001b[0;32mtry\u001b[0m\u001b[0;34m:\u001b[0m\u001b[0;34m\u001b[0m\u001b[0;34m\u001b[0m\u001b[0m\n\u001b[1;32m   1400\u001b[0m       \u001b[0;31m# If the input is a constant list, it can be converted to a constant op\u001b[0m\u001b[0;34m\u001b[0m\u001b[0;34m\u001b[0m\u001b[0;34m\u001b[0m\u001b[0m\n\u001b[0;32m-> 1401\u001b[0;31m       \u001b[0;32mreturn\u001b[0m \u001b[0mops\u001b[0m\u001b[0;34m.\u001b[0m\u001b[0mconvert_to_tensor\u001b[0m\u001b[0;34m(\u001b[0m\u001b[0mvalues\u001b[0m\u001b[0;34m,\u001b[0m \u001b[0mname\u001b[0m\u001b[0;34m=\u001b[0m\u001b[0mname\u001b[0m\u001b[0;34m)\u001b[0m\u001b[0;34m\u001b[0m\u001b[0;34m\u001b[0m\u001b[0m\n\u001b[0m\u001b[1;32m   1402\u001b[0m     \u001b[0;32mexcept\u001b[0m \u001b[0;34m(\u001b[0m\u001b[0mTypeError\u001b[0m\u001b[0;34m,\u001b[0m \u001b[0mValueError\u001b[0m\u001b[0;34m)\u001b[0m\u001b[0;34m:\u001b[0m\u001b[0;34m\u001b[0m\u001b[0;34m\u001b[0m\u001b[0m\n\u001b[1;32m   1403\u001b[0m       \u001b[0;32mpass\u001b[0m  \u001b[0;31m# Input list contains non-constant tensors\u001b[0m\u001b[0;34m\u001b[0m\u001b[0;34m\u001b[0m\u001b[0m\n",
            "\u001b[0;32m/usr/local/lib/python3.7/dist-packages/tensorflow/python/profiler/trace.py\u001b[0m in \u001b[0;36mwrapped\u001b[0;34m(*args, **kwargs)\u001b[0m\n\u001b[1;32m    161\u001b[0m         \u001b[0;32mwith\u001b[0m \u001b[0mTrace\u001b[0m\u001b[0;34m(\u001b[0m\u001b[0mtrace_name\u001b[0m\u001b[0;34m,\u001b[0m \u001b[0;34m**\u001b[0m\u001b[0mtrace_kwargs\u001b[0m\u001b[0;34m)\u001b[0m\u001b[0;34m:\u001b[0m\u001b[0;34m\u001b[0m\u001b[0;34m\u001b[0m\u001b[0m\n\u001b[1;32m    162\u001b[0m           \u001b[0;32mreturn\u001b[0m \u001b[0mfunc\u001b[0m\u001b[0;34m(\u001b[0m\u001b[0;34m*\u001b[0m\u001b[0margs\u001b[0m\u001b[0;34m,\u001b[0m \u001b[0;34m**\u001b[0m\u001b[0mkwargs\u001b[0m\u001b[0;34m)\u001b[0m\u001b[0;34m\u001b[0m\u001b[0;34m\u001b[0m\u001b[0m\n\u001b[0;32m--> 163\u001b[0;31m       \u001b[0;32mreturn\u001b[0m \u001b[0mfunc\u001b[0m\u001b[0;34m(\u001b[0m\u001b[0;34m*\u001b[0m\u001b[0margs\u001b[0m\u001b[0;34m,\u001b[0m \u001b[0;34m**\u001b[0m\u001b[0mkwargs\u001b[0m\u001b[0;34m)\u001b[0m\u001b[0;34m\u001b[0m\u001b[0;34m\u001b[0m\u001b[0m\n\u001b[0m\u001b[1;32m    164\u001b[0m \u001b[0;34m\u001b[0m\u001b[0m\n\u001b[1;32m    165\u001b[0m     \u001b[0;32mreturn\u001b[0m \u001b[0mwrapped\u001b[0m\u001b[0;34m\u001b[0m\u001b[0;34m\u001b[0m\u001b[0m\n",
            "\u001b[0;32m/usr/local/lib/python3.7/dist-packages/tensorflow/python/framework/ops.py\u001b[0m in \u001b[0;36mconvert_to_tensor\u001b[0;34m(value, dtype, name, as_ref, preferred_dtype, dtype_hint, ctx, accepted_result_types)\u001b[0m\n\u001b[1;32m   1519\u001b[0m     \u001b[0;32mreturn\u001b[0m \u001b[0moverload\u001b[0m\u001b[0;34m(\u001b[0m\u001b[0mvalue\u001b[0m\u001b[0;34m,\u001b[0m \u001b[0mdtype\u001b[0m\u001b[0;34m,\u001b[0m \u001b[0mname\u001b[0m\u001b[0;34m)\u001b[0m\u001b[0;34m\u001b[0m\u001b[0;34m\u001b[0m\u001b[0m\n\u001b[1;32m   1520\u001b[0m \u001b[0;34m\u001b[0m\u001b[0m\n\u001b[0;32m-> 1521\u001b[0;31m   \u001b[0;32mfor\u001b[0m \u001b[0mbase_type\u001b[0m\u001b[0;34m,\u001b[0m \u001b[0mconversion_func\u001b[0m \u001b[0;32min\u001b[0m \u001b[0mtensor_conversion_registry\u001b[0m\u001b[0;34m.\u001b[0m\u001b[0mget\u001b[0m\u001b[0;34m(\u001b[0m\u001b[0mtype\u001b[0m\u001b[0;34m(\u001b[0m\u001b[0mvalue\u001b[0m\u001b[0;34m)\u001b[0m\u001b[0;34m)\u001b[0m\u001b[0;34m:\u001b[0m\u001b[0;34m\u001b[0m\u001b[0;34m\u001b[0m\u001b[0m\n\u001b[0m\u001b[1;32m   1522\u001b[0m     \u001b[0;31m# If dtype is None but preferred_dtype is not None, we try to\u001b[0m\u001b[0;34m\u001b[0m\u001b[0;34m\u001b[0m\u001b[0;34m\u001b[0m\u001b[0m\n\u001b[1;32m   1523\u001b[0m     \u001b[0;31m# cast to preferred_dtype first.\u001b[0m\u001b[0;34m\u001b[0m\u001b[0;34m\u001b[0m\u001b[0;34m\u001b[0m\u001b[0m\n",
            "\u001b[0;31mKeyboardInterrupt\u001b[0m: "
          ]
        }
      ],
      "source": [
        "my_model_fin_func, fit_history_func,results = fit_func2( len(training_samples)-1, inp_nonsc, targets, n_epochs = 70, batch_size = 2000, num_folds = 2)"
      ]
    },
    {
      "cell_type": "code",
      "execution_count": 47,
      "metadata": {
        "colab": {
          "base_uri": "https://localhost:8080/",
          "height": 297
        },
        "id": "T-20FxuymeZj",
        "outputId": "35ee3260-a5b0-4eaa-b78c-0003244332d5"
      },
      "outputs": [
        {
          "output_type": "display_data",
          "data": {
            "text/plain": [
              "<Figure size 432x288 with 1 Axes>"
            ],
            "image/png": "[encoded data removed]"
          },
          "metadata": {
            "needs_background": "light"
          }
        }
      ],
      "source": [
        "for x in range(0,2):\n",
        "    plt.plot(fit_history_func[x].history['loss'], label='Train. fold-'+str(x))\n",
        "    plt.plot(fit_history_func[x].history['val_loss'], label='Val. fold-'+str(x))\n",
        "    plt.title('DNN ($D_{in}$=7, $D_{hidden}$=2, 0.2Drop)')\n",
        "    plt.xlabel('epoch')\n",
        "    plt.ylabel('loss')\n",
        "    plt.legend(loc='upper right')\n",
        "\n",
        "saveit = \"{}/{}\".format(path_tosave, \"dnn_lossepo.png\") \n",
        "plt.savefig(saveit)\n",
        "plt.show()"
      ]
    },
    {
      "cell_type": "code",
      "execution_count": 48,
      "metadata": {
        "colab": {
          "base_uri": "https://localhost:8080/",
          "height": 297
        },
        "id": "nrUmodWPsH_J",
        "outputId": "9f622150-77db-47d5-a6d5-58ab567fbbf3"
      },
      "outputs": [
        {
          "output_type": "display_data",
          "data": {
            "text/plain": [
              "<Figure size 432x288 with 1 Axes>"
            ],
            "image/png": "[encoded data removed]"
          },
          "metadata": {
            "needs_background": "light"
          }
        }
      ],
      "source": [
        "for x in range(0,2):\n",
        "    plt.plot(fit_history_func[x].history['accuracy'], label='Train. fold-'+str(x))\n",
        "    plt.plot(fit_history_func[x].history['val_accuracy'], label='Val. fold-'+str(x))\n",
        "    plt.title('DNN ($D_{in}$=7, $D_{hidden}$=2, 0.2Drop)')\n",
        "    plt.xlabel('epoch')\n",
        "    plt.ylabel('accuracy')\n",
        "    plt.legend(loc='lower right')\n",
        "\n",
        "saveit = \"{}/{}\".format(path_tosave, \"dnn_accepo.png\") \n",
        "plt.savefig(saveit)\n",
        "plt.show()"
      ]
    },
    {
      "cell_type": "code",
      "execution_count": 49,
      "metadata": {
        "colab": {
          "base_uri": "https://localhost:8080/"
        },
        "id": "fZoElcyiKvl3",
        "outputId": "e7032ad5-b209-46ca-dfea-51e266bee5d2"
      },
      "outputs": [
        {
          "output_type": "stream",
          "name": "stdout",
          "text": [
            "Saving architecture to: /content/gdrive/MyDrive/sstt/architecture_cift_2hdm.json\n",
            "Saving weights to     : /content/gdrive/MyDrive/sstt/weights_cift_2hdm.h5\n"
          ]
        }
      ],
      "source": [
        "output_dir = path_tosave\n",
        "file_name = \"2hdm\"\n",
        "job_suff = \"_{}\".format(file_name)\n",
        "arch_name = \"architecture_cift{}.json\".format(job_suff)\n",
        "weights_name = \"weights_cift{}.h5\".format(job_suff)\n",
        "\n",
        "mkdir_p(output_dir)\n",
        "arch_name = \"{}/{}\".format(output_dir, arch_name)\n",
        "weights_name = \"{}/{}\".format(output_dir, weights_name)\n",
        "\n",
        "print(\"Saving architecture to: {}\".format(os.path.abspath(arch_name)))\n",
        "print(\"Saving weights to     : {}\".format(os.path.abspath(weights_name)))\n",
        "with open(arch_name, 'w') as arch_file :\n",
        "    arch_file.write(my_model_fin_func[0].to_json())\n",
        "my_model_fin_func[0].save_weights(weights_name)"
      ]
    },
    {
      "cell_type": "code",
      "execution_count": 50,
      "metadata": {
        "colab": {
          "base_uri": "https://localhost:8080/"
        },
        "id": "6pHSmDQU3kfe",
        "outputId": "494f2ab7-b35d-48bd-e3d1-50bbcdc86c2b"
      },
      "outputs": [
        {
          "output_type": "stream",
          "name": "stdout",
          "text": [
            "Saving architecture to: /content/gdrive/MyDrive/sstt/architecture_tek_2hdm.json\n",
            "Saving weights to     : /content/gdrive/MyDrive/sstt/weights_tek_2hdm.h5\n"
          ]
        }
      ],
      "source": [
        "output_dir = path_tosave\n",
        "file_name = \"2hdm\"\n",
        "job_suff = \"_{}\".format(file_name)\n",
        "arch_name = \"architecture_tek{}.json\".format(job_suff)\n",
        "weights_name = \"weights_tek{}.h5\".format(job_suff)\n",
        "\n",
        "mkdir_p(output_dir)\n",
        "arch_name = \"{}/{}\".format(output_dir, arch_name)\n",
        "weights_name = \"{}/{}\".format(output_dir, weights_name)\n",
        "\n",
        "print(\"Saving architecture to: {}\".format(os.path.abspath(arch_name)))\n",
        "print(\"Saving weights to     : {}\".format(os.path.abspath(weights_name)))\n",
        "with open(arch_name, 'w') as arch_file :\n",
        "    arch_file.write(my_model_fin_func[1].to_json())\n",
        "my_model_fin_func[1].save_weights(weights_name)"
      ]
    },
    {
      "cell_type": "code",
      "execution_count": 51,
      "metadata": {
        "id": "oxNjLvpNL8Ey"
      },
      "outputs": [],
      "source": [
        "#load the model\n",
        "def load_model(arch_path, weights_path) :\n",
        "    #arch_name = \"/home/jovyan/test2/architecture_test2.json\"\n",
        "    #weights_name = \"/home/jovyan/test2/weights_test2.h5\"\n",
        "    print(os.path.abspath(arch_path))\n",
        "    print(\"Loading model architecture and weights (%, %)\".format(os.path.abspath(arch_path), os.path.abspath(weights_path)))\n",
        "    from tensorflow.keras.models import model_from_json\n",
        "    json_file = open(os.path.abspath(arch_path), 'r')\n",
        "    loaded_model = json_file.read()\n",
        "    json_file.close()\n",
        "    loaded_model = model_from_json(loaded_model)\n",
        "    loaded_model.load_weights(os.path.abspath(weights_path))\n",
        "    return loaded_model"
      ]
    },
    {
      "cell_type": "code",
      "execution_count": 52,
      "metadata": {
        "colab": {
          "base_uri": "https://localhost:8080/"
        },
        "id": "DM1fYymh4Cap",
        "outputId": "95dd63dc-b15f-4a99-e8f6-5d6838b6e28f"
      },
      "outputs": [
        {
          "output_type": "stream",
          "name": "stdout",
          "text": [
            "/content/gdrive/MyDrive/sstt/architecture_cift_2hdm.json\n",
            "Loading model architecture and weights (%, %)\n"
          ]
        }
      ],
      "source": [
        "arch_path = \"{}/architecture_cift_2hdm.json\".format(path_tosave)\n",
        "weights_path = \"{}/weights_cift_2hdm.h5\".format(path_tosave)\n",
        "my_model_loaded_cift = load_model(arch_path, weights_path)"
      ]
    },
    {
      "cell_type": "code",
      "execution_count": 53,
      "metadata": {
        "colab": {
          "base_uri": "https://localhost:8080/"
        },
        "id": "LlDtNWcw4JHD",
        "outputId": "af56f23c-c0a7-486f-d3ac-dde419fdcdc4"
      },
      "outputs": [
        {
          "output_type": "stream",
          "name": "stdout",
          "text": [
            "/content/gdrive/MyDrive/sstt/architecture_tek_2hdm.json\n",
            "Loading model architecture and weights (%, %)\n"
          ]
        }
      ],
      "source": [
        "arch_path = \"{}/architecture_tek_2hdm.json\".format(path_tosave)\n",
        "weights_path = \"{}/weights_tek_2hdm.h5\".format(path_tosave)\n",
        "my_model_loaded_tek = load_model(arch_path, weights_path)"
      ]
    },
    {
      "cell_type": "code",
      "execution_count": 55,
      "metadata": {
        "id": "_mDE9lkY5jAU",
        "colab": {
          "base_uri": "https://localhost:8080/",
          "height": 1000
        },
        "outputId": "ef92fdff-3b0a-4e23-9fd0-b66e02d1b93c"
      },
      "outputs": [
        {
          "output_type": "stream",
          "name": "stdout",
          "text": [
            "19983/19983 [==============================] - 30s 2ms/step\n",
            "19218/19218 [==============================] - 16s 817us/step\n",
            "[[0.1308904  0.1308904  0.1308904 ]\n",
            " [0.03790209 0.03790209 0.03790209]\n",
            " [0.0085994  0.0085994  0.0085994 ]\n",
            " ...\n",
            " [0.01277563 0.01277563 0.01277563]\n",
            " [0.02939421 0.02939421 0.02939421]\n",
            " [0.09109306 0.09109306 0.09109306]]\n",
            "[[0.98001409 0.98001409 0.98001409]\n",
            " [0.93652886 0.93652886 0.93652886]\n",
            " [0.7924999  0.7924999  0.7924999 ]\n",
            " ...\n",
            " [0.99647021 0.99647021 0.99647021]\n",
            " [0.93522197 0.93522197 0.93522197]\n",
            " [0.96146649 0.96146649 0.96146649]]\n",
            "[[0.1308904  0.1308904  0.1308904 ]\n",
            " [0.03790209 0.03790209 0.03790209]\n",
            " [0.0085994  0.0085994  0.0085994 ]\n",
            " ...\n",
            " [0.01277563 0.01277563 0.01277563]\n",
            " [0.02939421 0.02939421 0.02939421]\n",
            " [0.09109306 0.09109306 0.09109306]]\n",
            "[[0.98001409 0.98001409 0.98001409]\n",
            " [0.93652886 0.93652886 0.93652886]\n",
            " [0.7924999  0.7924999  0.7924999 ]\n",
            " ...\n",
            " [0.99647021 0.99647021 0.99647021]\n",
            " [0.93522197 0.93522197 0.93522197]\n",
            " [0.96146649 0.96146649 0.96146649]]\n"
          ]
        },
        {
          "output_type": "display_data",
          "data": {
            "text/plain": [
              "<Figure size 432x288 with 1 Axes>"
            ],
            "image/png": "[encoded data removed]"
          },
          "metadata": {
            "needs_background": "light"
          }
        },
        {
          "output_type": "display_data",
          "data": {
            "text/plain": [
              "<Figure size 432x288 with 1 Axes>"
            ],
            "image/png": "[encoded data removed]"
          },
          "metadata": {
            "needs_background": "light"
          }
        }
      ],
      "source": [
        "nn_scores_2 = make_nn_output_plots_oddeven( path_tosave, [my_model_loaded_cift,my_model_loaded_tek], inputs = inp_nonsc, samples = training_samples,  targets = targets, events=evtnum)"
      ]
    },
    {
      "cell_type": "code",
      "execution_count": 60,
      "metadata": {
        "id": "4jkN0DGfUxVR"
      },
      "outputs": [],
      "source": [
        "def plot_roc_curve(pred,truth,label):\n",
        "    fpr, tpr, thr = roc_curve(truth, pred)\n",
        "    roc_auc = auc(fpr, tpr)\n",
        "\n",
        "    fig = plt.figure()\n",
        "    plt.plot(fpr, tpr, color='darkorange',\n",
        "             label='ROC curve (area = {:.2f})'.format(roc_auc))\n",
        "    plt.plot([0, 1], [0, 1], color='navy', lw=2, linestyle='--')\n",
        "    plt.xlim([0.0, 1.0])\n",
        "    plt.ylim([0.0, 1.05])\n",
        "    plt.xlabel('False Positive Rate')\n",
        "    plt.ylabel('True Positive Rate')\n",
        "    plt.legend(loc=\"lower right\")\n",
        "    plt.savefig(path_tosave+\"/roc{}.png\".format(label))\n",
        "    plt.show()"
      ]
    },
    {
      "cell_type": "code",
      "source": [
        "nn_scores = nn_scores_2[:,0]"
      ],
      "metadata": {
        "id": "3xH9j7ftKb9E"
      },
      "execution_count": 62,
      "outputs": []
    },
    {
      "cell_type": "code",
      "execution_count": 65,
      "metadata": {
        "colab": {
          "base_uri": "https://localhost:8080/",
          "height": 279
        },
        "id": "43TF9vxAUyRV",
        "outputId": "0629d30b-10b8-46b3-da73-45cbcadf2086"
      },
      "outputs": [
        {
          "output_type": "display_data",
          "data": {
            "text/plain": [
              "<Figure size 432x288 with 1 Axes>"
            ],
            "image/png": "[encoded data removed]"
          },
          "metadata": {
            "needs_background": "light"
          }
        }
      ],
      "source": [
        "plot_roc_curve(nn_scores,targets,\"all\")"
      ]
    },
    {
      "cell_type": "code",
      "execution_count": null,
      "metadata": {
        "colab": {
          "base_uri": "https://localhost:8080/"
        },
        "id": "r6cH3oqn9hLW",
        "outputId": "9fb4a4f8-8303-459e-9047-84b7daad1343"
      },
      "outputs": [
        {
          "name": "stdout",
          "output_type": "stream",
          "text": [
            "area = 153267.5\n"
          ]
        }
      ],
      "source": [
        "import numpy as np\n",
        "from scipy.integrate import simps\n",
        "from numpy import trapz\n",
        "area = trapz(targets, dx=5)\n",
        "print(\"area =\", area)"
      ]
    },
    {
      "cell_type": "code",
      "execution_count": null,
      "metadata": {
        "colab": {
          "base_uri": "https://localhost:8080/",
          "height": 576
        },
        "id": "Hv3Onfauzg6y",
        "outputId": "18e81ef8-38d1-489f-caea-e492bfd2d823"
      },
      "outputs": [
        {
          "data": {
            "text/plain": [
              "<matplotlib.legend.Legend at 0x7f24a0ba3e90>"
            ]
          },
          "execution_count": 50,
          "metadata": {
            "tags": []
          },
          "output_type": "execute_result"
        },
        {
          "data": {
            "text/plain": [
              "<Figure size 640x480 with 0 Axes>"
            ]
          },
          "metadata": {
            "tags": []
          },
          "output_type": "display_data"
        },
        {
          "data": {
            "image/png": "[encoded data removed]",
            "text/plain": [
              "<Figure size 800x600 with 1 Axes>"
            ]
          },
          "metadata": {
            "tags": []
          },
          "output_type": "display_data"
        }
      ],
      "source": [
        "plt.figure(0).clf()\n",
        "plt.style.use('default')\n",
        "plt.figure(figsize=[8,6])\n",
        "color = ['blue', 'orange', 'red', 'green', 'coral',\n",
        "             'grey', 'indigo', 'gold', 'lime', 'olive',\n",
        "             'pink', 'navy', 'magenta', 'yellow', 'tomato',\n",
        "             'turquoise', 'yellowgreen', 'maroon', 'lightblue']\n",
        "\n",
        "\n",
        "fpr, tpr, thr = roc_curve(targets,nn_scores_2)\n",
        "roc_auc = auc(fpr, tpr)\n",
        "plt.plot(fpr, tpr, color=color[0], lw=1,\n",
        "             label='ROC curve w/ dCorr train (area = {:.2f})'.format(roc_auc),linestyle='dashed')\n",
        "plt.plot([0, 1], [0, 1], color='navy', lw=2, linestyle='--')\n",
        "plt.xlim([0.0, 1.0])\n",
        "plt.ylim([0.0, 1.05])\n",
        "plt.xlabel('False Positive Rate')\n",
        "plt.ylabel('True Positive Rate')\n",
        "plt.legend(loc=\"lower right\")\n",
        "\n",
        "fpr, tpr, thr = roc_curve(targets_val,nn_scores_val)\n",
        "roc_auc = auc(fpr, tpr)\n",
        "plt.plot(fpr, tpr, color=color[1], lw=1,\n",
        "             label='ROC curve w/ dCorr val (area = {:.2f})'.format(roc_auc),linestyle='solid')\n",
        "plt.legend(loc=\"lower right\")"
      ]
    },
    {
      "cell_type": "code",
      "execution_count": null,
      "metadata": {
        "id": "o_1MQw0JUTJL"
      },
      "outputs": [],
      "source": [
        "import mplhep as hep"
      ]
    },
    {
      "cell_type": "code",
      "execution_count": null,
      "metadata": {
        "id": "QBVZH0xJUWat"
      },
      "outputs": [],
      "source": [
        "input_features2, targets2, inp_nonsc2= build_combined_input(training_samples, data_scaler = data_scaler, scale = True)"
      ]
    },
    {
      "cell_type": "code",
      "execution_count": null,
      "metadata": {
        "colab": {
          "base_uri": "https://localhost:8080/",
          "height": 447
        },
        "id": "a5kDaNGgUbS0",
        "outputId": "e28eaa18-86cd-44c6-e3a8-f939e463726f"
      },
      "outputs": [
        {
          "data": {
            "text/plain": [
              "<matplotlib.legend.Legend at 0x7f6c06db8950>"
            ]
          },
          "execution_count": 27,
          "metadata": {
            "tags": []
          },
          "output_type": "execute_result"
        },
        {
          "data": {
            "image/png": "[encoded data removed]",
            "text/plain": [
              "<Figure size 640x480 with 1 Axes>"
            ]
          },
          "metadata": {
            "tags": []
          },
          "output_type": "display_data"
        }
      ],
      "source": [
        "plt.style.use('default')\n",
        "\n",
        "bins = np.arange(0,800,10)\n",
        "bins2 = np.arange(0.0,1.0,0.1)\n",
        "f, ax = plt.subplots()\n",
        "h4 = np.array([])\n",
        "h5 = np.array([])\n",
        "h6 = np.array([])\n",
        "#for i, j in df44.iterrows(): \n",
        "#    h4 = np.append(h4, j[df4['ptnames2'][i]]/1000)\n",
        "\n",
        "#for i, j in df55.iterrows(): \n",
        "#    h5 = np.append(h5, j[df5['ptnames2'][i]]/1000)\n",
        "#print(h)\n",
        "#for i, j in df66.iterrows(): \n",
        "#    h6 = np.append(h6, j[df6['ptnames2'][i]]/1000)\n",
        "pt = inp_nonsc2[:,6]/1000\n",
        "signalpt = pt[targets==1]\n",
        "backpt = pt[targets==0]\n",
        "signal_sc = nn_scores_2[targets==1]\n",
        "back_sc = nn_scores_2[targets==0]\n",
        "h44, bins = np.histogram(signalpt, bins)\n",
        "h55, bins = np.histogram(backpt, bins)\n",
        "#h66, bins = np.histogram(h6, bins)\n",
        "h1,bins2 = np.histogram(signal_sc, bins2)\n",
        "h2,bins2 = np.histogram(back_sc, bins2)\n",
        "\n",
        "hep.histplot([h44 ,h55], bins ,label=['signal','back'], linewidth=2.0, density=True)\n",
        "\n",
        "#    print() \n",
        "#row = next(df2.iterrows())[1]\n",
        "#print(row)\n",
        "ax.legend()\n",
        "#ax.set_xlabel(\"$p_T$ of the c-jet\", fontsize=12)"
      ]
    },
    {
      "cell_type": "code",
      "execution_count": null,
      "metadata": {
        "colab": {
          "base_uri": "https://localhost:8080/",
          "height": 450
        },
        "id": "LJkMtXj0Ut_D",
        "outputId": "a4ad2a06-6fa0-4616-a3e3-8732d18999c1"
      },
      "outputs": [
        {
          "data": {
            "text/plain": [
              "<matplotlib.legend.Legend at 0x7f8a05bfba90>"
            ]
          },
          "execution_count": 22,
          "metadata": {
            "tags": []
          },
          "output_type": "execute_result"
        },
        {
          "data": {
            "image/png": "[encoded data removed]",
            "text/plain": [
              "<Figure size 640x480 with 1 Axes>"
            ]
          },
          "metadata": {
            "tags": []
          },
          "output_type": "display_data"
        }
      ],
      "source": [
        "plt.style.use('default')\n",
        "f1, ax1 = plt.subplots()\n",
        "h1,bins2 = np.histogram(signal_sc, bins2)\n",
        "h2,bins2 = np.histogram(back_sc, bins2)\n",
        "hep.histplot([h1 ,h2], bins2 ,label=['signal','back'], linewidth=2.0, density=True)\n",
        "ax1.legend()"
      ]
    }
  ],
  "metadata": {
    "colab": {
      "collapsed_sections": [],
      "name": "SvsBsstt.ipynb",
      "provenance": [],
      "include_colab_link": true
    },
    "kernelspec": {
      "display_name": "Python 3",
      "name": "python3"
    }
  },
  "nbformat": 4,
  "nbformat_minor": 0
}