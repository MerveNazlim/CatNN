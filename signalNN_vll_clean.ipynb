{
 "cells": [
  {
   "cell_type": "markdown",
   "metadata": {
    "colab_type": "text",
    "id": "view-in-github"
   },
   "source": [
    "<a href=\"https://colab.research.google.com/github/MerveNazlim/CatNN/blob/main/signalNN_vll_clean.ipynb\" target=\"_parent\"><img src=\"https://colab.research.google.com/assets/colab-badge.svg\" alt=\"Open In Colab\"/></a>"
   ]
  },
  {
   "cell_type": "code",
   "execution_count": null,
   "metadata": {
    "id": "dQ12Bqh9HwJO"
   },
   "outputs": [],
   "source": [
    "from google.colab import drive"
   ]
  },
  {
   "cell_type": "code",
   "execution_count": null,
   "metadata": {
    "colab": {
     "base_uri": "https://localhost:8080/"
    },
    "id": "uP7dtvU3JALF",
    "outputId": "c77ffe17-8962-4391-d2c5-91061929bda7"
   },
   "outputs": [
    {
     "name": "stdout",
     "output_type": "stream",
     "text": [
      "Mounted at /content/gdrive\n"
     ]
    }
   ],
   "source": [
    "drive.mount('/content/gdrive')"
   ]
  },
  {
   "cell_type": "code",
   "execution_count": null,
   "metadata": {
    "colab": {
     "base_uri": "https://localhost:8080/",
     "height": 633
    },
    "id": "iid0u4ZJQrwU",
    "outputId": "14f735d8-2639-4a26-e3f2-5ee9bc6a3864"
   },
   "outputs": [
    {
     "name": "stdout",
     "output_type": "stream",
     "text": [
      "Collecting mplhep\n",
      "  Downloading mplhep-0.3.20-py3-none-any.whl (34 kB)\n",
      "Requirement already satisfied: numpy>=1.16.0 in /usr/local/lib/python3.7/dist-packages (from mplhep) (1.19.5)\n",
      "Collecting matplotlib>=3.4\n",
      "  Downloading matplotlib-3.5.1-cp37-cp37m-manylinux_2_5_x86_64.manylinux1_x86_64.whl (11.2 MB)\n",
      "\u001b[K     |████████████████████████████████| 11.2 MB 7.7 MB/s \n",
      "\u001b[?25hCollecting mplhep-data\n",
      "  Downloading mplhep_data-0.0.3-py3-none-any.whl (5.8 MB)\n",
      "\u001b[K     |████████████████████████████████| 5.8 MB 16.2 MB/s \n",
      "\u001b[?25hCollecting uhi>=0.2.0\n",
      "  Downloading uhi-0.3.1-py3-none-any.whl (9.8 kB)\n",
      "Requirement already satisfied: packaging in /usr/local/lib/python3.7/dist-packages (from mplhep) (21.3)\n",
      "Requirement already satisfied: python-dateutil>=2.7 in /usr/local/lib/python3.7/dist-packages (from matplotlib>=3.4->mplhep) (2.8.2)\n",
      "Requirement already satisfied: kiwisolver>=1.0.1 in /usr/local/lib/python3.7/dist-packages (from matplotlib>=3.4->mplhep) (1.3.2)\n",
      "Requirement already satisfied: cycler>=0.10 in /usr/local/lib/python3.7/dist-packages (from matplotlib>=3.4->mplhep) (0.11.0)\n",
      "Requirement already satisfied: pyparsing>=2.2.1 in /usr/local/lib/python3.7/dist-packages (from matplotlib>=3.4->mplhep) (3.0.7)\n",
      "Requirement already satisfied: pillow>=6.2.0 in /usr/local/lib/python3.7/dist-packages (from matplotlib>=3.4->mplhep) (7.1.2)\n",
      "Collecting fonttools>=4.22.0\n",
      "  Downloading fonttools-4.29.0-py3-none-any.whl (895 kB)\n",
      "\u001b[K     |████████████████████████████████| 895 kB 52.7 MB/s \n",
      "\u001b[?25hRequirement already satisfied: six>=1.5 in /usr/local/lib/python3.7/dist-packages (from python-dateutil>=2.7->matplotlib>=3.4->mplhep) (1.15.0)\n",
      "Requirement already satisfied: typing-extensions>=3.7 in /usr/local/lib/python3.7/dist-packages (from uhi>=0.2.0->mplhep) (3.10.0.2)\n",
      "Installing collected packages: fonttools, uhi, mplhep-data, matplotlib, mplhep\n",
      "  Attempting uninstall: matplotlib\n",
      "    Found existing installation: matplotlib 3.2.2\n",
      "    Uninstalling matplotlib-3.2.2:\n",
      "      Successfully uninstalled matplotlib-3.2.2\n",
      "\u001b[31mERROR: pip's dependency resolver does not currently take into account all the packages that are installed. This behaviour is the source of the following dependency conflicts.\n",
      "albumentations 0.1.12 requires imgaug<0.2.7,>=0.2.5, but you have imgaug 0.2.9 which is incompatible.\u001b[0m\n",
      "Successfully installed fonttools-4.29.0 matplotlib-3.5.1 mplhep-0.3.20 mplhep-data-0.0.3 uhi-0.3.1\n"
     ]
    },
    {
     "data": {
      "application/vnd.colab-display-data+json": {
       "pip_warning": {
        "packages": [
         "matplotlib",
         "mpl_toolkits"
        ]
       }
      }
     },
     "metadata": {},
     "output_type": "display_data"
    }
   ],
   "source": [
    "!pip install mplhep"
   ]
  },
  {
   "cell_type": "code",
   "execution_count": null,
   "metadata": {
    "colab": {
     "base_uri": "https://localhost:8080/"
    },
    "id": "0FuEJf4WoAR3",
    "outputId": "c19db9c3-6b45-4bdb-dc05-4d939850ef29"
   },
   "outputs": [
    {
     "name": "stdout",
     "output_type": "stream",
     "text": [
      "Collecting tensorflow==2.4.1\n",
      "  Downloading tensorflow-2.4.1-cp37-cp37m-manylinux2010_x86_64.whl (394.3 MB)\n",
      "\u001b[K     |████████████████████████████████| 394.3 MB 10 kB/s \n",
      "\u001b[?25hRequirement already satisfied: keras-preprocessing~=1.1.2 in /usr/local/lib/python3.7/dist-packages (from tensorflow==2.4.1) (1.1.2)\n",
      "Collecting grpcio~=1.32.0\n",
      "  Downloading grpcio-1.32.0-cp37-cp37m-manylinux2014_x86_64.whl (3.8 MB)\n",
      "\u001b[K     |████████████████████████████████| 3.8 MB 23.3 MB/s \n",
      "\u001b[?25hRequirement already satisfied: protobuf>=3.9.2 in /usr/local/lib/python3.7/dist-packages (from tensorflow==2.4.1) (3.17.3)\n",
      "Requirement already satisfied: termcolor~=1.1.0 in /usr/local/lib/python3.7/dist-packages (from tensorflow==2.4.1) (1.1.0)\n",
      "Requirement already satisfied: astunparse~=1.6.3 in /usr/local/lib/python3.7/dist-packages (from tensorflow==2.4.1) (1.6.3)\n",
      "Collecting gast==0.3.3\n",
      "  Downloading gast-0.3.3-py2.py3-none-any.whl (9.7 kB)\n",
      "Collecting h5py~=2.10.0\n",
      "  Downloading h5py-2.10.0-cp37-cp37m-manylinux1_x86_64.whl (2.9 MB)\n",
      "\u001b[K     |████████████████████████████████| 2.9 MB 9.0 MB/s \n",
      "\u001b[?25hRequirement already satisfied: tensorboard~=2.4 in /usr/local/lib/python3.7/dist-packages (from tensorflow==2.4.1) (2.7.0)\n",
      "Collecting typing-extensions~=3.7.4\n",
      "  Downloading typing_extensions-3.7.4.3-py3-none-any.whl (22 kB)\n",
      "Collecting absl-py~=0.10\n",
      "  Downloading absl_py-0.15.0-py3-none-any.whl (132 kB)\n",
      "\u001b[K     |████████████████████████████████| 132 kB 45.9 MB/s \n",
      "\u001b[?25hCollecting tensorflow-estimator<2.5.0,>=2.4.0\n",
      "  Downloading tensorflow_estimator-2.4.0-py2.py3-none-any.whl (462 kB)\n",
      "\u001b[K     |████████████████████████████████| 462 kB 46.5 MB/s \n",
      "\u001b[?25hRequirement already satisfied: six~=1.15.0 in /usr/local/lib/python3.7/dist-packages (from tensorflow==2.4.1) (1.15.0)\n",
      "Requirement already satisfied: opt-einsum~=3.3.0 in /usr/local/lib/python3.7/dist-packages (from tensorflow==2.4.1) (3.3.0)\n",
      "Collecting flatbuffers~=1.12.0\n",
      "  Downloading flatbuffers-1.12-py2.py3-none-any.whl (15 kB)\n",
      "Collecting wrapt~=1.12.1\n",
      "  Downloading wrapt-1.12.1.tar.gz (27 kB)\n",
      "Requirement already satisfied: google-pasta~=0.2 in /usr/local/lib/python3.7/dist-packages (from tensorflow==2.4.1) (0.2.0)\n",
      "Requirement already satisfied: numpy~=1.19.2 in /usr/local/lib/python3.7/dist-packages (from tensorflow==2.4.1) (1.19.5)\n",
      "Requirement already satisfied: wheel~=0.35 in /usr/local/lib/python3.7/dist-packages (from tensorflow==2.4.1) (0.37.1)\n",
      "Requirement already satisfied: markdown>=2.6.8 in /usr/local/lib/python3.7/dist-packages (from tensorboard~=2.4->tensorflow==2.4.1) (3.3.6)\n",
      "Requirement already satisfied: google-auth<3,>=1.6.3 in /usr/local/lib/python3.7/dist-packages (from tensorboard~=2.4->tensorflow==2.4.1) (1.35.0)\n",
      "Requirement already satisfied: setuptools>=41.0.0 in /usr/local/lib/python3.7/dist-packages (from tensorboard~=2.4->tensorflow==2.4.1) (57.4.0)\n",
      "Requirement already satisfied: tensorboard-data-server<0.7.0,>=0.6.0 in /usr/local/lib/python3.7/dist-packages (from tensorboard~=2.4->tensorflow==2.4.1) (0.6.1)\n",
      "Requirement already satisfied: requests<3,>=2.21.0 in /usr/local/lib/python3.7/dist-packages (from tensorboard~=2.4->tensorflow==2.4.1) (2.23.0)\n",
      "Requirement already satisfied: werkzeug>=0.11.15 in /usr/local/lib/python3.7/dist-packages (from tensorboard~=2.4->tensorflow==2.4.1) (1.0.1)\n",
      "Requirement already satisfied: tensorboard-plugin-wit>=1.6.0 in /usr/local/lib/python3.7/dist-packages (from tensorboard~=2.4->tensorflow==2.4.1) (1.8.1)\n",
      "Requirement already satisfied: google-auth-oauthlib<0.5,>=0.4.1 in /usr/local/lib/python3.7/dist-packages (from tensorboard~=2.4->tensorflow==2.4.1) (0.4.6)\n",
      "Requirement already satisfied: pyasn1-modules>=0.2.1 in /usr/local/lib/python3.7/dist-packages (from google-auth<3,>=1.6.3->tensorboard~=2.4->tensorflow==2.4.1) (0.2.8)\n",
      "Requirement already satisfied: cachetools<5.0,>=2.0.0 in /usr/local/lib/python3.7/dist-packages (from google-auth<3,>=1.6.3->tensorboard~=2.4->tensorflow==2.4.1) (4.2.4)\n",
      "Requirement already satisfied: rsa<5,>=3.1.4 in /usr/local/lib/python3.7/dist-packages (from google-auth<3,>=1.6.3->tensorboard~=2.4->tensorflow==2.4.1) (4.8)\n",
      "Requirement already satisfied: requests-oauthlib>=0.7.0 in /usr/local/lib/python3.7/dist-packages (from google-auth-oauthlib<0.5,>=0.4.1->tensorboard~=2.4->tensorflow==2.4.1) (1.3.0)\n",
      "Requirement already satisfied: importlib-metadata>=4.4 in /usr/local/lib/python3.7/dist-packages (from markdown>=2.6.8->tensorboard~=2.4->tensorflow==2.4.1) (4.10.1)\n",
      "Requirement already satisfied: zipp>=0.5 in /usr/local/lib/python3.7/dist-packages (from importlib-metadata>=4.4->markdown>=2.6.8->tensorboard~=2.4->tensorflow==2.4.1) (3.7.0)\n",
      "Requirement already satisfied: pyasn1<0.5.0,>=0.4.6 in /usr/local/lib/python3.7/dist-packages (from pyasn1-modules>=0.2.1->google-auth<3,>=1.6.3->tensorboard~=2.4->tensorflow==2.4.1) (0.4.8)\n",
      "Requirement already satisfied: urllib3!=1.25.0,!=1.25.1,<1.26,>=1.21.1 in /usr/local/lib/python3.7/dist-packages (from requests<3,>=2.21.0->tensorboard~=2.4->tensorflow==2.4.1) (1.24.3)\n",
      "Requirement already satisfied: certifi>=2017.4.17 in /usr/local/lib/python3.7/dist-packages (from requests<3,>=2.21.0->tensorboard~=2.4->tensorflow==2.4.1) (2021.10.8)\n",
      "Requirement already satisfied: idna<3,>=2.5 in /usr/local/lib/python3.7/dist-packages (from requests<3,>=2.21.0->tensorboard~=2.4->tensorflow==2.4.1) (2.10)\n",
      "Requirement already satisfied: chardet<4,>=3.0.2 in /usr/local/lib/python3.7/dist-packages (from requests<3,>=2.21.0->tensorboard~=2.4->tensorflow==2.4.1) (3.0.4)\n",
      "Requirement already satisfied: oauthlib>=3.0.0 in /usr/local/lib/python3.7/dist-packages (from requests-oauthlib>=0.7.0->google-auth-oauthlib<0.5,>=0.4.1->tensorboard~=2.4->tensorflow==2.4.1) (3.1.1)\n",
      "Building wheels for collected packages: wrapt\n",
      "  Building wheel for wrapt (setup.py) ... \u001b[?25l\u001b[?25hdone\n",
      "  Created wheel for wrapt: filename=wrapt-1.12.1-cp37-cp37m-linux_x86_64.whl size=68720 sha256=d88b99a3730681acff861f269a5b68f12436c5d95dbc892f95347dd56b53d573\n",
      "  Stored in directory: /root/.cache/pip/wheels/62/76/4c/aa25851149f3f6d9785f6c869387ad82b3fd37582fa8147ac6\n",
      "Successfully built wrapt\n",
      "Installing collected packages: typing-extensions, grpcio, absl-py, wrapt, tensorflow-estimator, h5py, gast, flatbuffers, tensorflow\n",
      "  Attempting uninstall: typing-extensions\n",
      "    Found existing installation: typing-extensions 3.10.0.2\n",
      "    Uninstalling typing-extensions-3.10.0.2:\n",
      "      Successfully uninstalled typing-extensions-3.10.0.2\n",
      "  Attempting uninstall: grpcio\n",
      "    Found existing installation: grpcio 1.43.0\n",
      "    Uninstalling grpcio-1.43.0:\n",
      "      Successfully uninstalled grpcio-1.43.0\n",
      "  Attempting uninstall: absl-py\n",
      "    Found existing installation: absl-py 1.0.0\n",
      "    Uninstalling absl-py-1.0.0:\n",
      "      Successfully uninstalled absl-py-1.0.0\n",
      "  Attempting uninstall: wrapt\n",
      "    Found existing installation: wrapt 1.13.3\n",
      "    Uninstalling wrapt-1.13.3:\n",
      "      Successfully uninstalled wrapt-1.13.3\n",
      "  Attempting uninstall: tensorflow-estimator\n",
      "    Found existing installation: tensorflow-estimator 2.7.0\n",
      "    Uninstalling tensorflow-estimator-2.7.0:\n",
      "      Successfully uninstalled tensorflow-estimator-2.7.0\n",
      "  Attempting uninstall: h5py\n",
      "    Found existing installation: h5py 3.1.0\n",
      "    Uninstalling h5py-3.1.0:\n",
      "      Successfully uninstalled h5py-3.1.0\n",
      "  Attempting uninstall: gast\n",
      "    Found existing installation: gast 0.4.0\n",
      "    Uninstalling gast-0.4.0:\n",
      "      Successfully uninstalled gast-0.4.0\n",
      "  Attempting uninstall: flatbuffers\n",
      "    Found existing installation: flatbuffers 2.0\n",
      "    Uninstalling flatbuffers-2.0:\n",
      "      Successfully uninstalled flatbuffers-2.0\n",
      "  Attempting uninstall: tensorflow\n",
      "    Found existing installation: tensorflow 2.7.0\n",
      "    Uninstalling tensorflow-2.7.0:\n",
      "      Successfully uninstalled tensorflow-2.7.0\n",
      "Successfully installed absl-py-0.15.0 flatbuffers-1.12 gast-0.3.3 grpcio-1.32.0 h5py-2.10.0 tensorflow-2.4.1 tensorflow-estimator-2.4.0 typing-extensions-3.7.4.3 wrapt-1.12.1\n"
     ]
    }
   ],
   "source": [
    "!pip install tensorflow==2.4.1"
   ]
  },
  {
   "cell_type": "code",
   "execution_count": null,
   "metadata": {
    "colab": {
     "base_uri": "https://localhost:8080/"
    },
    "id": "ws2n99lVQuW8",
    "outputId": "54cd7fbb-8ada-4969-b277-d07fba926e49"
   },
   "outputs": [
    {
     "name": "stdout",
     "output_type": "stream",
     "text": [
      "Requirement already satisfied: h5py==2.10.0 in /usr/local/lib/python3.7/dist-packages (2.10.0)\n",
      "Requirement already satisfied: six in /usr/local/lib/python3.7/dist-packages (from h5py==2.10.0) (1.15.0)\n",
      "Requirement already satisfied: numpy>=1.7 in /usr/local/lib/python3.7/dist-packages (from h5py==2.10.0) (1.19.5)\n"
     ]
    }
   ],
   "source": [
    "!pip install h5py==2.10.0"
   ]
  },
  {
   "cell_type": "code",
   "execution_count": null,
   "metadata": {
    "colab": {
     "base_uri": "https://localhost:8080/",
     "height": 429
    },
    "id": "EBeSxgRJRLBF",
    "outputId": "6baeddf3-0eaa-4cf1-eb77-415923656f63"
   },
   "outputs": [
    {
     "name": "stdout",
     "output_type": "stream",
     "text": [
      "Collecting matplotlib==3.2.2\n",
      "  Downloading matplotlib-3.2.2-cp37-cp37m-manylinux1_x86_64.whl (12.4 MB)\n",
      "\u001b[K     |████████████████████████████████| 12.4 MB 4.4 MB/s \n",
      "\u001b[?25hRequirement already satisfied: pyparsing!=2.0.4,!=2.1.2,!=2.1.6,>=2.0.1 in /usr/local/lib/python3.7/dist-packages (from matplotlib==3.2.2) (3.0.7)\n",
      "Requirement already satisfied: python-dateutil>=2.1 in /usr/local/lib/python3.7/dist-packages (from matplotlib==3.2.2) (2.8.2)\n",
      "Requirement already satisfied: kiwisolver>=1.0.1 in /usr/local/lib/python3.7/dist-packages (from matplotlib==3.2.2) (1.3.2)\n",
      "Requirement already satisfied: numpy>=1.11 in /usr/local/lib/python3.7/dist-packages (from matplotlib==3.2.2) (1.19.5)\n",
      "Requirement already satisfied: cycler>=0.10 in /usr/local/lib/python3.7/dist-packages (from matplotlib==3.2.2) (0.11.0)\n",
      "Requirement already satisfied: six>=1.5 in /usr/local/lib/python3.7/dist-packages (from python-dateutil>=2.1->matplotlib==3.2.2) (1.15.0)\n",
      "Installing collected packages: matplotlib\n",
      "  Attempting uninstall: matplotlib\n",
      "    Found existing installation: matplotlib 3.5.1\n",
      "    Uninstalling matplotlib-3.5.1:\n",
      "      Successfully uninstalled matplotlib-3.5.1\n",
      "\u001b[31mERROR: pip's dependency resolver does not currently take into account all the packages that are installed. This behaviour is the source of the following dependency conflicts.\n",
      "mplhep 0.3.20 requires matplotlib>=3.4, but you have matplotlib 3.2.2 which is incompatible.\n",
      "albumentations 0.1.12 requires imgaug<0.2.7,>=0.2.5, but you have imgaug 0.2.9 which is incompatible.\u001b[0m\n",
      "Successfully installed matplotlib-3.2.2\n"
     ]
    },
    {
     "data": {
      "application/vnd.colab-display-data+json": {
       "pip_warning": {
        "packages": [
         "matplotlib",
         "mpl_toolkits"
        ]
       }
      }
     },
     "metadata": {},
     "output_type": "display_data"
    }
   ],
   "source": [
    "!pip install matplotlib==3.2.2"
   ]
  },
  {
   "cell_type": "code",
   "execution_count": null,
   "metadata": {
    "id": "3QbD_sqGJEXX"
   },
   "outputs": [],
   "source": [
    "cp gdrive/MyDrive/VLL_h5/vll2lOS_signals_2lcat3.h5 ."
   ]
  },
  {
   "cell_type": "code",
   "execution_count": null,
   "metadata": {
    "id": "MjTfyLRsJqsx"
   },
   "outputs": [],
   "source": [
    "#!/usr/bin/env python\n",
    "\n",
    "import argparse\n",
    "import sys\n",
    "import os\n",
    "from time import time\n",
    "#from preprocess import mkdir_p, unique_filename\n",
    "import pickle\n",
    "import math\n",
    "\n",
    "# h5py\n",
    "import h5py\n",
    "import tensorflow as tf\n",
    "tf.random.set_seed(400)\n",
    "from tensorflow import keras\n",
    "# keras\n",
    "#from tensorflow.keras.models import Model\n",
    "#from tensorflow.keras.layers import Input, Dense, Dropout\n",
    "from tensorflow.keras import models as Km\n",
    "from tensorflow.keras import layers as Kl\n",
    "from tensorflow.keras.optimizers import SGD\n",
    "from tensorflow.keras import regularizers\n",
    "from tensorflow.keras import initializers\n",
    "from tensorflow.keras.callbacks import EarlyStopping, ModelCheckpoint, Callback\n",
    "import tensorflow.keras\n",
    "from tensorflow.keras.optimizers import Adam\n",
    "from sklearn.metrics import roc_auc_score,roc_curve, auc\n",
    "from sklearn.preprocessing import scale, normalize\n",
    "from sklearn.preprocessing import RobustScaler, StandardScaler,minmax_scale,MinMaxScaler,MaxAbsScaler\n",
    "from sklearn.model_selection import KFold, StratifiedKFold,GroupKFold\n",
    "\n",
    "import seaborn as sns\n",
    "import matplotlib.pyplot as plt\n",
    "from tensorflow.keras.losses import binary_crossentropy, categorical_crossentropy\n",
    "from functools import partial\n",
    "from tensorflow.keras import initializers\n",
    "import numpy as np\n",
    "seed = 400\n",
    "np.random.seed(seed)\n",
    "#import mplhep as hep\n"
   ]
  },
  {
   "cell_type": "code",
   "execution_count": null,
   "metadata": {
    "id": "Sso62vCKCR9c"
   },
   "outputs": [],
   "source": [
    "tf.keras.backend.clear_session()\n"
   ]
  },
  {
   "cell_type": "code",
   "execution_count": null,
   "metadata": {
    "id": "YeB3h4AeJrPb"
   },
   "outputs": [],
   "source": [
    "def mkdir_p(path) :\n",
    "\n",
    "    import errno\n",
    "\n",
    "    \"\"\"\n",
    "    Make a directory, if it exists silence the exception\n",
    "\n",
    "    Args:\n",
    "        path : full directory path to be made\n",
    "    \"\"\"\n",
    "\n",
    "    try :\n",
    "        os.makedirs(path)\n",
    "    except OSError as exc :\n",
    "        if exc.errno == errno.EEXIST and os.path.isdir(path) :\n",
    "            pass\n",
    "        else :\n",
    "            raise"
   ]
  },
  {
   "cell_type": "code",
   "execution_count": null,
   "metadata": {
    "id": "5TGZOzbnJtHV"
   },
   "outputs": [],
   "source": [
    "#define the folder name\n",
    "path_tosave = 'gdrive/MyDrive/vll_2LOS_cat3_lessvariable2methtjetsmtlep'\n",
    "mkdir_p(path_tosave)"
   ]
  },
  {
   "cell_type": "code",
   "execution_count": null,
   "metadata": {
    "id": "jd4P2hnmJ1gj"
   },
   "outputs": [],
   "source": [
    "class Sample :\n",
    "\n",
    "    \"\"\"\n",
    "    Sample\n",
    "\n",
    "    This class will hold the feature data for a given sample.\n",
    "    \"\"\"\n",
    "\n",
    "    def __init__(self, name = \"\", class_label = -1, input_data = None) :\n",
    "        \"\"\"\n",
    "        Sample constructor\n",
    "\n",
    "        Args :\n",
    "            name : descriptive name of the sample (obtained from the input\n",
    "                pre-processed file)\n",
    "            input_data : numpy array of the data from the pre-processed file\n",
    "                (expects an array of dtype = np.float64, not a structured array!)\n",
    "            class_label : input class label as found in the input pre-processed\n",
    "                file\n",
    "        \"\"\"\n",
    "\n",
    "        if input_data.dtype != np.float64 :\n",
    "            raise Exception(\"ERROR Sample input data must be type 'np.float64', input is '{}'\".format(input_data.dtype))\n",
    "\n",
    "        if class_label < 0 :\n",
    "            raise ValueError(\"ERROR Sample (={})class label is not set (<0)\".format(name, class_label))\n",
    "\n",
    "        print(\"Creating sample {} (label = {})\".format(name, class_label))\n",
    "\n",
    "        self._name = name\n",
    "        self._class_label = class_label\n",
    "        self._input_data = input_data\n",
    "        self._regression_inputs = None\n",
    "\n",
    "    def name(self) :\n",
    "        return self._name\n",
    "    def class_label(self) :\n",
    "        return self._class_label\n",
    "    def data(self) :\n",
    "        return self._input_data\n",
    "    @property\n",
    "    def regression_inputs(self) :\n",
    "        return self._regression_inputs\n",
    "    @regression_inputs.setter\n",
    "    def regression_inputs(self, data) :\n",
    "        self._regression_inputs = data\n",
    "        \n",
    "\n",
    "\n",
    "class DataScaler :\n",
    "\n",
    "    \"\"\"\n",
    "    DataScaler\n",
    "\n",
    "    This class will hold the scaling information needed for the training\n",
    "    features (variables) contained in the input, pre-processed file.\n",
    "    Its constructor takes as input the scaling data dataset object\n",
    "    contained in the pre-processed file and it builds the associated\n",
    "    feature-list and an associated dictionary to store the scaling\n",
    "    parameters for each of the input features.\n",
    "    \"\"\"\n",
    "\n",
    "    def __init__(self, scaling_dataset = None, ignore_features = []) :\n",
    "\n",
    "        \"\"\"\n",
    "        ScalingData constructor\n",
    "\n",
    "        Args:\n",
    "            scaling_dataset : input HDF5 dataset object which contains the\n",
    "                scaling data and feature-list\n",
    "        \"\"\"\n",
    "\n",
    "        self._raw_feature_list = []\n",
    "        self._feature_list = []\n",
    "        self._scaling_dict = {}\n",
    "        self._mean = []\n",
    "        self._scale = []\n",
    "        self._var = []\n",
    "        self.load(scaling_dataset, ignore_features)\n",
    "\n",
    "    def load(self, scaling_dataset = None, ignore_features = []) :\n",
    "\n",
    "        self._raw_feature_list = list( scaling_dataset['name'] )\n",
    "        self._feature_list = list( filter( lambda x : x not in ignore_features, self._raw_feature_list ) )\n",
    "\n",
    "        #self._mean = scaling_dataset['mean']\n",
    "        #self._scale = scaling_dataset['scale']\n",
    "        #self._var = scaling_dataset['var']\n",
    "\n",
    "\n",
    "        for x in scaling_dataset :\n",
    "            name, mean, scale, var = x['name'], x['mean'], x['scale'], x['var']\n",
    "            if name in ignore_features : continue\n",
    "            self._scaling_dict[name] = { 'mean' : mean, 'scale' : scale, 'var' : var }\n",
    "            self._mean.append(mean)\n",
    "            self._scale.append(scale)\n",
    "            self._var.append(var)\n",
    "\n",
    "        self._mean = np.array(self._mean, dtype = np.float64)\n",
    "        self._scale = np.array(self._scale, dtype = np.float64)\n",
    "        self._var = np.array(self._var, dtype = np.float64)\n",
    "\n",
    "    def raw_feature_list(self) :\n",
    "        return self._raw_feature_list\n",
    "\n",
    "    def feature_list(self) :\n",
    "        return self._feature_list\n",
    "\n",
    "    def scaling_dict(self) :\n",
    "        return self._scaling_dict\n",
    "\n",
    "    def get_params(self, feature = \"\") :\n",
    "        if feature in self._scaling_dict :\n",
    "            return self._scaling_dict[feature]\n",
    "        raise KeyError(\"requested feature (={}) not found in set of scaling features\".format(feature))\n",
    "\n",
    "    def mean(self) :\n",
    "        return self._mean\n",
    "    def scale(self) :\n",
    "        return self._scale\n",
    "    def var(self) :\n",
    "        return self._var\n",
    "\n",
    "def floatify(input_array, feature_list) :\n",
    "    ftype = [(name, float) for name in feature_list]\n",
    "    return input_array.astype(ftype).view(float).reshape(input_array.shape + (-1,))\n",
    "\n",
    "def load_input_file(args) :\n",
    "\n",
    "    \"\"\"\n",
    "    Check that the provided input HDF5 file is of the expected form\n",
    "    as defined by the pre-processing. Exits if this is not the case.\n",
    "    Returns a list of the sample names found in the file.\n",
    "\n",
    "    Args :\n",
    "        args : user input to the executable\n",
    "    \"\"\"\n",
    "\n",
    "    # check that the file can be found\n",
    "    if not os.path.isfile(args) :\n",
    "        print(\"ERROR provided input file (={}) is not found or is not a regular file\".format(args))\n",
    "        sys.exit()\n",
    "\n",
    "    samples_group_name = \"samples\"\n",
    "    scaling_group_name = \"scaling\"\n",
    "    scaling_data_name = \"scaling_data\"\n",
    "\n",
    "    found_samples = False\n",
    "    found_scalings = False\n",
    "    samples = []\n",
    "    data_scaler = None\n",
    "    features_to_ignore = [\"xs\",\"total_charge\",\"DeltaR_min_lep_bjet77\",\"DeltaR_max_lep_bjet77\",\"jet_pt0_nofwd\",\"MtLepMet\",\"HT_lep\"]\n",
    "    #features_to_ignore = [\"eventweight\", \"eventNumber\"]\n",
    "\n",
    "    with h5py.File(args, 'r') as input_file :\n",
    "\n",
    "        # look up the scalings first, in order to build the feature list used for the Sample creation\n",
    "        if scaling_group_name in input_file :\n",
    "            found_scalings = True\n",
    "            scaling_group = input_file[scaling_group_name]\n",
    "            scaling_dataset = scaling_group[scaling_data_name]\n",
    "            data_scaler = DataScaler( scaling_dataset = scaling_dataset, ignore_features = features_to_ignore )\n",
    "            print(\"DataScaler found {} features to train on (there were {} total features in the input)\".format( len(data_scaler.feature_list()), len(data_scaler.raw_feature_list() )))\n",
    "        else :\n",
    "            print(\"scaling group (={}) not found in file\".format(scaling_group_name))\n",
    "            sys.exit()\n",
    "\n",
    "        # now build the samples\n",
    "        if samples_group_name in input_file :\n",
    "            found_samples = True\n",
    "            sample_group = input_file[samples_group_name]\n",
    "            for p in sample_group :\n",
    "                process_group = sample_group[p]\n",
    "                class_label = process_group.attrs['training_label']\n",
    "                s = Sample(name = p, class_label = int(class_label),\n",
    "                    input_data = floatify( process_group['train_features'][tuple(data_scaler.feature_list())], data_scaler.feature_list() ) )\n",
    "                #print(floatify( process_group['train_features'][tuple(data_scaler.feature_list())], data_scaler.feature_list() ))\n",
    "                samples.append(s)\n",
    "\n",
    "        else :\n",
    "            print(\"samples group (={}) not found in file\".format(samples_group_name))\n",
    "            sys.exit()\n",
    "\n",
    "    samples = sorted(samples, key = lambda x: x.class_label())\n",
    "\n",
    "    return samples, data_scaler\n",
    "\n",
    "def load_input_file_val(args) :\n",
    "\n",
    "    if not os.path.isfile(args) :\n",
    "        print(\"ERROR provided input file (={}) is not found or is not a regular file\".format(args))\n",
    "        sys.exit()\n",
    "\n",
    "    samples_group_name = \"samples\"\n",
    "    scaling_group_name = \"scaling\"\n",
    "    scaling_data_name = \"scaling_data\"\n",
    "\n",
    "    samples = []\n",
    "    data_scaler = None\n",
    "    features_to_ignore = [\"xs\",\"total_charge\",\"DeltaR_min_lep_bjet77\",\"DeltaR_max_lep_bjet77\",\"HT_jets\",\"jet_pt0_nofwd\",\"HT_lep\"]\n",
    "\n",
    "    with h5py.File(args, 'r', libver = 'latest') as input_file :\n",
    "\n",
    "        # look up the scaling first\n",
    "        if scaling_group_name in input_file :\n",
    "            scaling_group = input_file[scaling_group_name]\n",
    "            scaling_dataset = scaling_group[scaling_data_name]\n",
    "            data_scaler = DataScaler( scaling_dataset = scaling_dataset, ignore_features = features_to_ignore )\n",
    "            print(\"DataScaler found {} features to use as inputs (there were {} total features in the input)\".format( len(data_scaler.feature_list()), len(data_scaler.raw_feature_list())))\n",
    "        else :\n",
    "            print(\"scaling group (={}) not found in file\".format(scaling_group_name))\n",
    "            sys.exit()\n",
    "\n",
    "        # build the samples\n",
    "        if samples_group_name in input_file :\n",
    "            sample_group = input_file[samples_group_name]\n",
    "            for p in sample_group :\n",
    "                process_group = sample_group[p]\n",
    "                class_label = process_group.attrs['training_label']\n",
    "                s = Sample(name = p, class_label = int(class_label),\n",
    "                    input_data = floatify( process_group['validation_features'][tuple(data_scaler.feature_list())], data_scaler.feature_list()))\n",
    "                samples.append(s)\n",
    "        else :\n",
    "            print(\"samples group (={}) not found in file\".format(samples_group_name))\n",
    "            sys.exit()\n",
    "\n",
    "    return samples, data_scaler\n",
    "\n",
    "def build_combined_input(training_samples, data_scaler = None, scale = True) :\n",
    "\n",
    "    targets = []\n",
    "    # used extended slicing to partition arbitrary number of samples\n",
    "    sample0, sample1, *other = training_samples\n",
    "\n",
    "    targets.extend( np.ones( sample0.data().shape[0] ) * sample0.class_label() )\n",
    "    targets.extend( np.ones( sample1.data().shape[0] ) * sample1.class_label() )\n",
    "\n",
    "    inputs = np.concatenate( (sample0.data(), sample1.data()), axis = 0)\n",
    "    for sample in other :\n",
    "        inputs = np.concatenate( (inputs, sample.data()) , axis = 0 )\n",
    "        targets.extend( np.ones( sample.data().shape[0] ) * sample.class_label() )\n",
    "\n",
    "    # perform scaling\n",
    "    input_notscale = inputs\n",
    "    if scale :\n",
    "        inputs = (inputs - data_scaler.mean()) / data_scaler.scale()\n",
    "        #print(inputs)\n",
    "\n",
    "    targets = np.array(targets, dtype = int )\n",
    "\n",
    "\n",
    "    return inputs, targets, input_notscale\n"
   ]
  },
  {
   "cell_type": "code",
   "execution_count": null,
   "metadata": {
    "id": "CzXNduOY43OI"
   },
   "outputs": [],
   "source": [
    "def sample_with_label(label, samples) :\n",
    "\n",
    "    for s in samples :\n",
    "        if s.class_label() == label :\n",
    "            return s\n",
    "    return None\n",
    "def make_nn_roc_curve( path_tosave, output_scores = None, samples = [], inputs = None, targets = None, signal_class = 0) :\n",
    "    class_labels = set(targets)\n",
    "    targets_list = list(targets)\n",
    "    nn_scores_dict = {}\n",
    "    signal_class=0\n",
    "    names = {}\n",
    "    for sample in validation_samples :\n",
    "        names[sample.class_label()] = sample.name()\n",
    "\n",
    "    for ilabel, label in enumerate(class_labels) :\n",
    "        left = targets_list.index(label)\n",
    "        right = len(targets_list) - 1 - targets_list[::-1].index(label)\n",
    "        nn_scores_dict[label] = output_scores[left:right+1]\n",
    "        print(nn_scores_dict)\n",
    "        \n",
    "    lowbin = 0\n",
    "    highbin = 1\n",
    "\n",
    "\n",
    "    edges = np.concatenate([[-np.inf], np.linspace(lowbin,highbin,500), [np.inf]]) \n",
    "    sample_eff = {}\n",
    "    h_total = []\n",
    "    w_total = []\n",
    "    for label in nn_scores_dict :\n",
    "        # select out the scores for class 'label' for NN output 'signal_class'\n",
    "        scores = nn_scores_dict[label][:,signal_class]\n",
    "        print(scores)\n",
    "        #weights = sample_with_label(label, samples).eventweights\n",
    "        h_nn, _ = np.histogram( scores, bins = edges )\n",
    "        if label != signal_class :\n",
    "            h_total.append(h_nn)\n",
    "        eff = np.cumsum( h_nn[::-1] )[::-1] / h_nn.sum()\n",
    "        sample_eff[label] = eff\n",
    "    \n",
    "    summed_bkg = h_total[0]\n",
    "    for h in h_total[1:] :\n",
    "        summed_bkg += h\n",
    "    #summed_weights = w_total[0]\n",
    "    #for h in w_total[1:] :\n",
    "    #    summed_weights += h\n",
    "    eff_total_bkg = np.cumsum( summed_bkg[::-1] )[::-1]/summed_bkg.sum()\n",
    "\n",
    "    signal_eff = None\n",
    "    bkg_eff = {}\n",
    "    for e in sample_eff :\n",
    "        if e == signal_class :\n",
    "            signal_eff = sample_eff[e]\n",
    "        else :\n",
    "            bkg_eff[e] = sample_eff[e]\n",
    "\n",
    "\n",
    "    fig, ax = plt.subplots(1,1)\n",
    "    for bkg_label in bkg_eff :\n",
    "    \n",
    "        bkg = bkg_eff[bkg_label]\n",
    "        valid_rej = bkg > 0\n",
    "        sig = np.array(signal_eff[:])\n",
    "\n",
    "        valid_sig = (sig != 1.0)\n",
    "        valid = valid_rej & valid_sig\n",
    "\n",
    "        bkg = bkg[valid]\n",
    "        sig = sig[valid]\n",
    "\n",
    "        bkg_rej = 1/bkg\n",
    "        ax.plot(sig, bkg_rej, label = names[bkg_label])\n",
    "\n",
    "    valid_rej_total = eff_total_bkg > 0\n",
    "    sig = np.array(signal_eff[:])\n",
    "    valid_sig_total = sig != 1.0\n",
    "    valid_total = valid_rej_total & valid_sig_total\n",
    "\n",
    "    bkg_total = eff_total_bkg[valid_total]\n",
    "    sig_total = sig[valid_total]\n",
    "    bkg_rej_total = 1/bkg_total\n",
    "    ax.plot(sig_total, bkg_rej_total, label = \"Total Bkg\")\n",
    "\n",
    "    ax.set_yscale('log')\n",
    "    ax.set_xlabel('signal efficiency', horizontalalignment='right', x=1)\n",
    "    ax.set_ylabel('Background rejection, $1/\\\\epsilon_{bkg}$', horizontalalignment='right', y=1)\n",
    "    ax.legend(loc='best', frameon = False)\n",
    "\n",
    "    # save\n",
    "    savename = \"nn_output_ROC_{}.pdf\".format(path_tosave)\n",
    "    #if args.outdir != \"\" :\n",
    "    #    mkdir_p(args.outdir)\n",
    "    savename = \"{}/{}\".format(path_tosave, savename)\n",
    "    fig.savefig(savename, bbox_inches = 'tight', dpi = 200)"
   ]
  },
  {
   "cell_type": "code",
   "execution_count": null,
   "metadata": {
    "id": "UANbVmi3J68F"
   },
   "outputs": [],
   "source": [
    "def sample_with_label(label, samples) :\n",
    "\n",
    "    for s in samples :\n",
    "        if s.class_label() == label :\n",
    "            return s\n",
    "    return None\n",
    "def make_nn_roc_curve( path_tosave, output_scores = None, samples = [], inputs = None, targets = None, signal_class = 0) :\n",
    "    class_labels = set(targets)\n",
    "    targets_list = list(targets)\n",
    "    nn_scores_dict = {}\n",
    "    signal_class=0\n",
    "    names = {}\n",
    "    for sample in validation_samples :\n",
    "        names[sample.class_label()] = sample.name()\n",
    "\n",
    "    for ilabel, label in enumerate(class_labels) :\n",
    "        left = targets_list.index(label)\n",
    "        right = len(targets_list) - 1 - targets_list[::-1].index(label)\n",
    "        nn_scores_dict[label] = output_scores[left:right+1]\n",
    "        print(nn_scores_dict)\n",
    "        \n",
    "    lowbin = 0\n",
    "    highbin = 1\n",
    "\n",
    "\n",
    "    edges = np.concatenate([[-np.inf], np.linspace(lowbin,highbin,500), [np.inf]]) \n",
    "    sample_eff = {}\n",
    "    h_total = []\n",
    "    w_total = []\n",
    "    for label in nn_scores_dict :\n",
    "        # select out the scores for class 'label' for NN output 'signal_class'\n",
    "        scores = nn_scores_dict[label][:,signal_class]\n",
    "        print(scores)\n",
    "        #weights = sample_with_label(label, samples).eventweights\n",
    "        h_nn, _ = np.histogram( scores, bins = edges )\n",
    "        if label != signal_class :\n",
    "            h_total.append(h_nn)\n",
    "        eff = np.cumsum( h_nn[::-1] )[::-1] / h_nn.sum()\n",
    "        sample_eff[label] = eff\n",
    "    \n",
    "    summed_bkg = h_total[0]\n",
    "    for h in h_total[1:] :\n",
    "        summed_bkg += h\n",
    "    #summed_weights = w_total[0]\n",
    "    #for h in w_total[1:] :\n",
    "    #    summed_weights += h\n",
    "    eff_total_bkg = np.cumsum( summed_bkg[::-1] )[::-1]/summed_bkg.sum()\n",
    "\n",
    "    signal_eff = None\n",
    "    bkg_eff = {}\n",
    "    for e in sample_eff :\n",
    "        if e == signal_class :\n",
    "            signal_eff = sample_eff[e]\n",
    "        else :\n",
    "            bkg_eff[e] = sample_eff[e]\n",
    "\n",
    "\n",
    "    fig, ax = plt.subplots(1,1)\n",
    "    for bkg_label in bkg_eff :\n",
    "    \n",
    "        bkg = bkg_eff[bkg_label]\n",
    "        valid_rej = bkg > 0\n",
    "        sig = np.array(signal_eff[:])\n",
    "\n",
    "        valid_sig = (sig != 1.0)\n",
    "        valid = valid_rej & valid_sig\n",
    "\n",
    "        bkg = bkg[valid]\n",
    "        sig = sig[valid]\n",
    "\n",
    "        bkg_rej = 1/bkg\n",
    "        ax.plot(sig, bkg_rej, label = names[bkg_label])\n",
    "\n",
    "    valid_rej_total = eff_total_bkg > 0\n",
    "    sig = np.array(signal_eff[:])\n",
    "    valid_sig_total = sig != 1.0\n",
    "    valid_total = valid_rej_total & valid_sig_total\n",
    "\n",
    "    bkg_total = eff_total_bkg[valid_total]\n",
    "    sig_total = sig[valid_total]\n",
    "    bkg_rej_total = 1/bkg_total\n",
    "    ax.plot(sig_total, bkg_rej_total, label = \"Total Bkg\")\n",
    "\n",
    "    ax.set_yscale('log')\n",
    "    ax.set_xlabel('$hh$ efficiency', horizontalalignment='right', x=1)\n",
    "    ax.set_ylabel('Background rejection, $1/\\\\epsilon_{bkg}$', horizontalalignment='right', y=1)\n",
    "    ax.legend(loc='best', frameon = False)\n",
    "\n",
    "    # save\n",
    "   # savename = \"nn_output_ROC_{}.pdf\".format(path_tosave)\n",
    "    #if args.outdir != \"\" :\n",
    "    #    mkdir_p(args.outdir)\n",
    "    savename = \"{}/{}\".format(path_tosave, savename)\n",
    "    fig.savefig(savename, bbox_inches = 'tight', dpi = 200)"
   ]
  },
  {
   "cell_type": "code",
   "execution_count": null,
   "metadata": {
    "id": "qUV5HZAw5939"
   },
   "outputs": [],
   "source": [
    "def make_nn_output_plots_tekcift( path_tosave, model = None, inputs = None, samples = None, targets = None, events=None) :\n",
    "\n",
    "    # set of scores for each label: shape = (n_samples, n_outputs)\n",
    "    # inputs_tek=inputs[1::2]\n",
    "    # inputs_cift=inputs[::2]\n",
    "    inputs_tek = inputs[events % 2==1]\n",
    "    inputs_cift = inputs[events % 2==0]\n",
    "    # evtnum % 2 == 0\n",
    "    nn_scores = np.ones([targets.size,len(training_samples)])\n",
    "    #nn_scores = model.predict(inputs,verbose = True)\n",
    "    nn_scores_tek = model[0].predict(inputs_tek,verbose = True)\n",
    "    nn_scores_cift = model[1].predict(inputs_cift,verbose = True)\n",
    "    nn_scores[events % 2==1] = nn_scores_tek\n",
    "    nn_scores[events % 2==0] = nn_scores_cift\n",
    "    class_labels = set(targets)\n",
    "    targets_list = list(targets)\n",
    "    nn_scores_dict = {}\n",
    "\n",
    "    # index the sample names by their class label\n",
    "    names = {}\n",
    "    for sample in samples :\n",
    "        names[sample.class_label()] = sample.name()\n",
    "\n",
    "    # break up the predicted scores by the class label\n",
    "    for ilabel, label in enumerate(class_labels) :\n",
    "        # left-most appearance of the label\n",
    "        left = targets_list.index(label)\n",
    "        # right-most appearance of the label\n",
    "        right = len(targets_list) - 1 - targets_list[::-1].index(label)\n",
    "        nn_scores_dict[label] = nn_scores[left:right+1]\n",
    "\n",
    "    # start plotting\n",
    "    for label in class_labels :\n",
    "        #fig, ax = plt.subplots(1,1)\n",
    "        fig = plt.figure()\n",
    "        plt.grid(color='k', which='both', linestyle='--', lw=0.5, alpha=0.1, zorder = 0)\n",
    "        plt.xlabel( \"NN output for label {}\".format(names[label]), horizontalalignment='right', x=1)\n",
    "        #ax.set_xlim([1e-2,1.0])\n",
    "        plt.xlim([0,1])\n",
    "        plt.yscale('log')\n",
    "        histargs = {\"bins\":20, \"range\":(0,1.), \"density\":True, \"histtype\":'step'}\n",
    "        #binning = np.arange(0,1,0.02)\n",
    "        #centers = (binning[1:-2] + binning[2:-1])/2\n",
    "        #ax.set_xlim((centers[0]-0.1, centers[-1]+0.1)) \n",
    "        for sample_label in nn_scores_dict :\n",
    "            sample_scores_for_label = nn_scores_dict[sample_label][:,label]\n",
    "            print(sample_scores_for_label)\n",
    "            #sample_weights = sample_with_label(sample_label, samples).eventweights\n",
    "\n",
    "            #yields, _ = np.histogram(sample_scores_for_label, bins = binning)\n",
    "            plt.hist(sample_scores_for_label,label = names[sample_label], **histargs)\n",
    "            #yields = yields/yields.sum()\n",
    "            #ax.step(centers, yields[1:-1], label = names[sample_label], where = 'mid')\n",
    "            \n",
    "            #ax.hist(sample_scores_for_label, bins = binning, alpha = 0.3, label = names[sample_label], density = True)\n",
    "        plt.legend(loc='best', frameon = False)\n",
    "        \n",
    "        savename = \"nn_outputs_class_{}.pdf\".format( names[label])\n",
    "\n",
    "        savename = \"{}/{}\".format(path_tosave, savename) \n",
    "        plt.savefig(savename, bbox_inches = 'tight', dpi = 200)\n",
    "\n",
    "    return nn_scores"
   ]
  },
  {
   "cell_type": "code",
   "execution_count": null,
   "metadata": {
    "id": "zzTuhAGcJ8-N"
   },
   "outputs": [],
   "source": [
    "def make_nn_output_plots( path_tosave, model = None, inputs = None, samples = None, targets = None) :\n",
    "\n",
    "    # set of scores for each label: shape = (n_samples, n_outputs)\n",
    "    nn_scores = model.predict(inputs,verbose = True)\n",
    "\n",
    "    class_labels = set(targets)\n",
    "    targets_list = list(targets)\n",
    "    nn_scores_dict = {}\n",
    "\n",
    "    # index the sample names by their class label\n",
    "    names = {}\n",
    "    for sample in samples :\n",
    "        names[sample.class_label()] = sample.name()\n",
    "\n",
    "    # break up the predicted scores by the class label\n",
    "    for ilabel, label in enumerate(class_labels) :\n",
    "        # left-most appearance of the label\n",
    "        left = targets_list.index(label)\n",
    "        # right-most appearance of the label\n",
    "        right = len(targets_list) - 1 - targets_list[::-1].index(label)\n",
    "        nn_scores_dict[label] = nn_scores[left:right+1]\n",
    "\n",
    "    # start plotting\n",
    "    for label in class_labels :\n",
    "        #fig, ax = plt.subplots(1,1)\n",
    "        fig = plt.figure()\n",
    "        plt.grid(color='k', which='both', linestyle='--', lw=0.5, alpha=0.1, zorder = 0)\n",
    "        plt.xlabel( \"NN output for label {}\".format(names[label]), horizontalalignment='right', x=1)\n",
    "        #ax.set_xlim([1e-2,1.0])\n",
    "        plt.xlim([0,1])\n",
    "        plt.yscale('log')\n",
    "        histargs = {\"bins\":20, \"range\":(0,1.), \"density\":True, \"histtype\":'step'}\n",
    "        #binning = np.arange(0,1,0.02)\n",
    "        #centers = (binning[1:-2] + binning[2:-1])/2\n",
    "        #ax.set_xlim((centers[0]-0.1, centers[-1]+0.1)) \n",
    "        for sample_label in nn_scores_dict :\n",
    "            sample_scores_for_label = nn_scores_dict[sample_label][:,label]\n",
    "            print(sample_scores_for_label)\n",
    "            #sample_weights = sample_with_label(sample_label, samples).eventweights\n",
    "\n",
    "            #yields, _ = np.histogram(sample_scores_for_label, bins = binning)\n",
    "            plt.hist(sample_scores_for_label,label = names[sample_label], **histargs)\n",
    "            #yields = yields/yields.sum()\n",
    "            #ax.step(centers, yields[1:-1], label = names[sample_label], where = 'mid')\n",
    "            \n",
    "            #ax.hist(sample_scores_for_label, bins = binning, alpha = 0.3, label = names[sample_label], density = True)\n",
    "        plt.legend(loc='best', frameon = False)\n",
    "        \n",
    "        savename = \"nn_outputs_class_{}.pdf\".format( names[label])\n",
    "\n",
    "        savename = \"{}/{}\".format(path_tosave, savename) \n",
    "        plt.savefig(savename, bbox_inches = 'tight', dpi = 200)\n",
    "\n",
    "    return nn_scores"
   ]
  },
  {
   "cell_type": "code",
   "execution_count": null,
   "metadata": {
    "id": "GRIdNa8cJ-5T"
   },
   "outputs": [],
   "source": [
    "class roc_callback(Callback) :\n",
    "    def on_train_begin(self, logs = {}) :\n",
    "        self.val_aucs = []\n",
    "        self.val_losses = []\n",
    "\n",
    "    def on_train_end(self, logs = {}) :\n",
    "        return\n",
    "\n",
    "    def on_epoch_begin(self, epoch, logs = {}) :\n",
    "        return\n",
    "\n",
    "    def on_epoch_end(self, epoch, logs = {}) :\n",
    "\n",
    "        self.val_losses.append(logs.get('val_loss'))\n",
    "\n",
    "        y_pred = self.model.predict(self.validation_data[0])\n",
    "        y_true = self.validation_data[1]\n",
    "        val_auc = roc_auc_score(y_true, y_pred)\n",
    "        print('val_roc_auc = %s' % ( str(round(val_auc,4)) ))\n",
    "        self.val_aucs.append(val_auc)\n",
    "        logs['val_roc_auc'] = self.val_aucs\n",
    "\n",
    "        return\n",
    "\n",
    "    def on_batch_begin(self, batch, logs = {}) :\n",
    "        return\n",
    "\n",
    "def lr_step_decay(epoch) :\n",
    "\n",
    "    initial_lr = 0.5\n",
    "    drop = 0.9\n",
    "    epoch_to_drop = 3\n",
    "\n",
    "    if epoch >= 50 :\n",
    "        epoch == 50\n",
    "    elif epoch >= 25 :\n",
    "        epoch -= 25\n",
    "        print('INFO Setting learning rate back to initial LR (={})'.format(initial_lr))\n",
    "\n",
    "    new_lr = initial_lr * math.pow(drop, math.floor((1+epoch)/epoch_to_drop))\n",
    "    print('INFO LR Schedule: {}'.format(new_lr))\n",
    "    return new_lr"
   ]
  },
  {
   "cell_type": "code",
   "execution_count": null,
   "metadata": {
    "id": "Nn-STw0dvSaG"
   },
   "outputs": [],
   "source": [
    "file = \"vll2lOS_signals_2lcat3.h5\""
   ]
  },
  {
   "cell_type": "code",
   "execution_count": null,
   "metadata": {
    "colab": {
     "base_uri": "https://localhost:8080/"
    },
    "id": "m6pwVlWvKDDg",
    "outputId": "2c06c077-05a7-43bb-8ac7-0f783b65e675"
   },
   "outputs": [
    {
     "name": "stdout",
     "output_type": "stream",
     "text": [
      "DataScaler found 8 features to train on (there were 13 total features in the input)\n",
      "Creating sample HH (label = 0)\n",
      "Creating sample HV (label = 1)\n",
      "Creating sample VV (label = 2)\n"
     ]
    }
   ],
   "source": [
    "#read input pre-processed file for training\n",
    "training_samples, data_scaler = load_input_file(file)"
   ]
  },
  {
   "cell_type": "code",
   "execution_count": null,
   "metadata": {
    "id": "NYoPqZqVKczW"
   },
   "outputs": [],
   "source": [
    "input_features, targets, inp_nonsc= build_combined_input(training_samples, data_scaler = data_scaler, scale = True)"
   ]
  },
  {
   "cell_type": "code",
   "execution_count": 2,
   "metadata": {
    "colab": {
     "base_uri": "https://localhost:8080/",
     "height": 198
    },
    "id": "4kYNVZBG78rd",
    "outputId": "fc76a599-49e9-4e1c-cf9d-d8025a1f2345"
   },
   "outputs": [
    {
     "ename": "NameError",
     "evalue": "ignored",
     "output_type": "error",
     "traceback": [
      "\u001b[0;31m---------------------------------------------------------------------------\u001b[0m",
      "\u001b[0;31mNameError\u001b[0m                                 Traceback (most recent call last)",
      "\u001b[0;32m<ipython-input-2-0f5d3593e1aa>\u001b[0m in \u001b[0;36m<module>\u001b[0;34m()\u001b[0m\n\u001b[0;32m----> 1\u001b[0;31m \u001b[0mweights\u001b[0m\u001b[0;34m=\u001b[0m\u001b[0minp_nonsc\u001b[0m\u001b[0;34m[\u001b[0m\u001b[0;34m:\u001b[0m\u001b[0;34m,\u001b[0m\u001b[0;34m-\u001b[0m\u001b[0;36m1\u001b[0m\u001b[0;34m]\u001b[0m\u001b[0;34m\u001b[0m\u001b[0;34m\u001b[0m\u001b[0m\n\u001b[0m\u001b[1;32m      2\u001b[0m \u001b[0mweights\u001b[0m\u001b[0;34m[\u001b[0m\u001b[0mtargets\u001b[0m\u001b[0;34m==\u001b[0m\u001b[0;36m1\u001b[0m\u001b[0;34m]\u001b[0m\u001b[0;34m\u001b[0m\u001b[0;34m\u001b[0m\u001b[0m\n\u001b[1;32m      3\u001b[0m \u001b[0minp_nonsc\u001b[0m\u001b[0;34m=\u001b[0m\u001b[0minp_nonsc\u001b[0m\u001b[0;34m[\u001b[0m\u001b[0;34m:\u001b[0m\u001b[0;34m,\u001b[0m\u001b[0;36m0\u001b[0m\u001b[0;34m:\u001b[0m\u001b[0;34m-\u001b[0m\u001b[0;36m1\u001b[0m\u001b[0;34m]\u001b[0m\u001b[0;31m#14\u001b[0m\u001b[0;34m\u001b[0m\u001b[0;34m\u001b[0m\u001b[0m\n",
      "\u001b[0;31mNameError\u001b[0m: name 'inp_nonsc' is not defined"
     ]
    }
   ],
   "source": [
    "#event weights if exists\n",
    "weights=inp_nonsc[:,-1]\n",
    "weights[targets==1]\n",
    "inp_nonsc=inp_nonsc[:,0:-1]#14"
   ]
  },
  {
   "cell_type": "code",
   "execution_count": null,
   "metadata": {
    "id": "TOtY-ak7NRXg"
   },
   "outputs": [],
   "source": [
    "#event numbers \n",
    "evtnum = inp_nonsc[:,-1]\n",
    "inp_nonsc = inp_nonsc[:,0:-1]"
   ]
  },
  {
   "cell_type": "code",
   "execution_count": 1,
   "metadata": {
    "colab": {
     "base_uri": "https://localhost:8080/",
     "height": 164
    },
    "id": "GH70L49e4_VA",
    "outputId": "75d9e2b1-b53f-4cf6-fcd4-7b8c85413546"
   },
   "outputs": [
    {
     "ename": "NameError",
     "evalue": "ignored",
     "output_type": "error",
     "traceback": [
      "\u001b[0;31m---------------------------------------------------------------------------\u001b[0m",
      "\u001b[0;31mNameError\u001b[0m                                 Traceback (most recent call last)",
      "\u001b[0;32m<ipython-input-1-5bb98c7843b1>\u001b[0m in \u001b[0;36m<module>\u001b[0;34m()\u001b[0m\n\u001b[0;32m----> 1\u001b[0;31m \u001b[0minp_nonsc\u001b[0m \u001b[0;34m=\u001b[0m \u001b[0minp_nonsc\u001b[0m\u001b[0;34m[\u001b[0m\u001b[0;34m:\u001b[0m\u001b[0;34m,\u001b[0m\u001b[0;36m0\u001b[0m\u001b[0;34m:\u001b[0m\u001b[0;34m-\u001b[0m\u001b[0;36m1\u001b[0m\u001b[0;34m]\u001b[0m\u001b[0;34m\u001b[0m\u001b[0;34m\u001b[0m\u001b[0m\n\u001b[0m",
      "\u001b[0;31mNameError\u001b[0m: name 'inp_nonsc' is not defined"
     ]
    }
   ],
   "source": [
    "#DSIDs \n",
    "mass = inp_nonsc[:,-1]\n",
    "inp_nonsc = inp_nonsc[:,0:-1]"
   ]
  },
  {
   "cell_type": "code",
   "execution_count": null,
   "metadata": {
    "id": "tuQ52SZel5lW"
   },
   "outputs": [],
   "source": [
    "#remove negative weights\n",
    "targets = targets[np.where((weights<1) &(weights>0))]\n",
    "inp_nonsc = inp_nonsc[np.where((weights<1) &(weights>0))]\n",
    "evtnum =evtnum[np.where((weights<1) &(weights>0))]"
   ]
  },
  {
   "cell_type": "code",
   "execution_count": null,
   "metadata": {
    "id": "PDbhELPKBY97"
   },
   "outputs": [],
   "source": [
    "#3L for sum of DR\n",
    "sum_dr= inp_nonsc[:,1]+inp_nonsc[:,2]+inp_nonsc[:,3]\n",
    "asd=sum_dr.reshape(len(sum_dr),1)\n",
    "asd2 = np.append(inp_nonsc,asd,axis=1)\n"
   ]
  },
  {
   "cell_type": "code",
   "execution_count": null,
   "metadata": {
    "id": "dL7taZI0BY99"
   },
   "outputs": [],
   "source": [
    "inp_nonsc=asd2[:,[0,4,5,6,7,8,9,10,11,12,13,14,15,16]]"
   ]
  },
  {
   "cell_type": "code",
   "execution_count": null,
   "metadata": {
    "colab": {
     "base_uri": "https://localhost:8080/"
    },
    "id": "2COC1eAYCtEZ",
    "outputId": "7c823ef2-fd86-4faf-f624-e9fe5dbc49e3"
   },
   "outputs": [
    {
     "name": "stdout",
     "output_type": "stream",
     "text": [
      "Counter({2: 194896, 1: 176461, 0: 18435})\n"
     ]
    }
   ],
   "source": [
    "from collections import Counter\n",
    "counter = Counter(targets)\n",
    "print(counter)\n"
   ]
  },
  {
   "cell_type": "code",
   "execution_count": null,
   "metadata": {
    "colab": {
     "base_uri": "https://localhost:8080/"
    },
    "id": "xg8jCuZjBjMS",
    "outputId": "50c6dc4c-ac2d-42f3-acfc-0082899435d8"
   },
   "outputs": [
    {
     "name": "stdout",
     "output_type": "stream",
     "text": [
      "Weight for class 0: 10.57\n",
      "Weight for class 1: 1.10\n",
      "Weight for class 2: 1.00\n"
     ]
    }
   ],
   "source": [
    "#class reweighting \n",
    "weight_for_0 = (1 / 18435)*(389792)/2.0 \n",
    "weight_for_1 = (1 / 176461)*(389792)/2.0\n",
    "weight_for_2 = (1 / 194896)*(389792)/2.0\n",
    "\n",
    "# weight_for_3 = (1 / 32959)*(389792)/2.0 \n",
    "# weight_for_4 = (1 / 48082)*(389792)/2.0\n",
    "# weight_for_5 = (1 / 2088)*(389792)/2.0\n",
    "\n",
    "# class_weight = {0: weight_for_0, 1: weight_for_1, 2:weight_for_2, 3: weight_for_3, 4: weight_for_4, 5:weight_for_5}\n",
    "class_weight = {0: weight_for_0, 1: weight_for_1, 2: weight_for_2}\n",
    "print('Weight for class 0: {:.2f}'.format(weight_for_0))\n",
    "print('Weight for class 1: {:.2f}'.format(weight_for_1))\n",
    "print('Weight for class 2: {:.2f}'.format(weight_for_2))\n",
    "\n",
    "# print('Weight for class 3: {:.2f}'.format(weight_for_3))\n",
    "# print('Weight for class 4: {:.2f}'.format(weight_for_4))\n",
    "# print('Weight for class 5: {:.2f}'.format(weight_for_5))"
   ]
  },
  {
   "cell_type": "code",
   "execution_count": null,
   "metadata": {
    "id": "CL5hscMPBQtM"
   },
   "outputs": [],
   "source": [
    "# # n_per_sample = int(input_features.shape[0] / n_classes)\n",
    "# randomize = np.arange(len(inp_nonsc))\n",
    "# np.random.shuffle(randomize)\n",
    "# inp_nonsc = inp_nonsc[randomize]\n",
    "# evtnum = evtnum[randomize]\n",
    "# targets = targets[randomize]\n",
    "# weights = weights[randomize]"
   ]
  },
  {
   "cell_type": "code",
   "execution_count": null,
   "metadata": {
    "id": "5PjOkSStzftA"
   },
   "outputs": [],
   "source": [
    "# inp_nonsc =np.where(inp_nonsc==-99, 0 , inp_nonsc)\n",
    "# inp_nonsc =np.where(inp_nonsc==-9999, 0 , inp_nonsc)\n",
    "# inp_nonsc =np.where(inp_nonsc==9999, 0 , inp_nonsc)"
   ]
  },
  {
   "cell_type": "code",
   "execution_count": null,
   "metadata": {
    "colab": {
     "base_uri": "https://localhost:8080/"
    },
    "id": "CNSY9pPjKfUl",
    "outputId": "3c4943bf-81ae-46da-9414-c352d57381c6"
   },
   "outputs": [
    {
     "name": "stdout",
     "output_type": "stream",
     "text": [
      "[[3.00000000e+00 1.10000000e+01 4.15028906e+05 2.36407344e+05\n",
      "  0.00000000e+00 0.00000000e+00]\n",
      " [2.00000000e+00 7.00000000e+00 1.99796234e+05 3.82410625e+05\n",
      "  0.00000000e+00 1.00000000e+00]\n",
      " [4.00000000e+00 1.20000000e+01 6.17417625e+05 5.96502852e+04\n",
      "  0.00000000e+00 1.00000000e+00]\n",
      " ...\n",
      " [3.00000000e+00 3.00000000e+00 1.73705875e+05 3.52407344e+04\n",
      "  1.00000000e+00 0.00000000e+00]\n",
      " [3.00000000e+00 3.00000000e+00 1.67898500e+05 1.25279625e+05\n",
      "  1.00000000e+00 0.00000000e+00]\n",
      " [3.00000000e+00 1.50000000e+01 2.24640312e+05 9.12427109e+04\n",
      "  1.00000000e+00 0.00000000e+00]]\n",
      "[[-0.38148219  1.25437271 -0.50121248  0.34403154 -1.37791939 -0.47293618]\n",
      " [-1.07597896  0.20998616 -0.98920508  0.80723829 -1.37791939  2.0605521 ]\n",
      " [ 0.31301459  1.51546935 -0.04234071 -0.21674396 -1.37791939  2.0605521 ]\n",
      " ...\n",
      " [-0.38148219 -0.8344004  -1.04835922 -0.29418516 -0.07932954 -0.47293618]\n",
      " [-0.38148219 -0.8344004  -1.06152616 -0.00852978 -0.07932954 -0.47293618]\n",
      " [-0.38148219  2.29875926 -0.93287662 -0.11651454 -0.07932954 -0.47293618]]\n"
     ]
    }
   ],
   "source": [
    "#scale the input between 0-1\n",
    "scaler = StandardScaler().fit(inp_nonsc)\n",
    "print(inp_nonsc)\n",
    "inp_nonsc = scaler.transform(inp_nonsc)\n",
    "print(inp_nonsc)\n",
    "#inp_nonsc.shape"
   ]
  },
  {
   "cell_type": "code",
   "execution_count": null,
   "metadata": {
    "id": "s6Qki7eBKhHs"
   },
   "outputs": [],
   "source": [
    "#save the scaling \n",
    "import pickle\n",
    "scalerfile = path_tosave + '/scaler_standard.bin'\n",
    "pickle.dump(scaler, open(scalerfile, 'wb'))"
   ]
  },
  {
   "cell_type": "code",
   "execution_count": null,
   "metadata": {
    "id": "aTZWhtxRUSVG"
   },
   "outputs": [],
   "source": [
    "def exponential_decay_fn(epoch): \n",
    "  return 0.05 * 0.1**(epoch / 20)"
   ]
  },
  {
   "cell_type": "code",
   "execution_count": null,
   "metadata": {
    "id": "UTFalfU-YlbL"
   },
   "outputs": [],
   "source": [
    "def lr_step_decay(epoch) : #initial_lr, drop, epoch_to_drop) :\n",
    "\n",
    "    initial_lr = 0.01\n",
    "    drop = 0.9\n",
    "    epoch_to_drop = 3\n",
    "\n",
    "    if epoch >= 50 :\n",
    "        epoch == 50\n",
    "    elif epoch >= 25 :\n",
    "        epoch -= 25\n",
    "#        new_lr = initial_lr\n",
    "        print('INFO Setting learning rate back to initial LR (={})'.format(initial_lr))\n",
    "\n",
    "    new_lr = initial_lr * math.pow(drop, math.floor((1+epoch)/epoch_to_drop))\n",
    "    print('INFO LR Schedule: {}'.format(new_lr))\n",
    "    return new_lr"
   ]
  },
  {
   "cell_type": "code",
   "execution_count": null,
   "metadata": {
    "id": "dCfR17epREaE"
   },
   "outputs": [],
   "source": [
    "auc_scores = []\n",
    "auc_targets = []\n",
    "acc_per_fold = []\n",
    "loss_per_fold = []\n",
    "results = []\n",
    "model_history = []\n",
    "fitfull_history = []\n",
    "callbacks = []"
   ]
  },
  {
   "cell_type": "code",
   "execution_count": null,
   "metadata": {
    "id": "ELfGhxFkjpIA"
   },
   "outputs": [],
   "source": [
    " # training   \n",
    "    def fit_func2(n_classes, input_features_scale, targets, n_epochs = 400, batch_size = 2000, num_folds = 10) :\n",
    "        # Define the K-fold Cross Validator\n",
    "        kfold = GroupKFold(n_splits=2)\n",
    "       # kfold = StratifiedKFold(n_splits=2)\n",
    "        # Define per-fold score containers\n",
    "        acc_per_fold = []\n",
    "        loss_per_fold = []\n",
    "        number = int((targets.size)/2)\n",
    "        #group = [0,1]*number\n",
    "        group = asd=evtnum % 2 ==0\n",
    "        targets_encoded = keras.utils.to_categorical(targets, num_classes = n_classes)\n",
    "        # K-fold Cross Validation model evaluation\n",
    "        fold_no = 1\n",
    "        for train, test in kfold.split(input_features_scale, targets_encoded,group):\n",
    "            print(\"TRAIN:\", train, \"TEST:\", test)\n",
    "            layer_opts = dict( activation = 'relu', kernel_initializer = tf.keras.initializers.TruncatedNormal(mean=0.0, stddev=0.05, seed=seed))\n",
    "            input_layer = Kl.Input( name = \"InputLayer\", shape = (len(inp_nonsc[1]),) )\n",
    "            x = Kl.Dense( 22, **layer_opts ) (input_layer)\n",
    "            x = Kl.Dropout(0.2)(x)\n",
    "            x = Kl.Dense( 22, **layer_opts ) (x)\n",
    "            # x = Kl.Dropout(0.2)(x)\n",
    "            predictions = Kl.Dense( n_classes, activation = 'softmax', name = \"OutputLayer\" )(x)\n",
    "            model = Km.Model( inputs = input_layer, outputs = predictions )\n",
    "            model_optimizer = Adam(lr=0.0002)\n",
    "            model.compile( loss = 'categorical_crossentropy', optimizer = model_optimizer, metrics = ['categorical_accuracy',] ) \n",
    "            # Generate a print\n",
    "            print('------------------------------------------------------------------------')\n",
    "            print(f'Training for fold {fold_no} ...')\n",
    "              # Fit data to model\n",
    "            # w_train = weights[train]\n",
    "            fit_history = model.fit(input_features_scale[train], targets_encoded[train],\n",
    "              batch_size=batch_size,\n",
    "              epochs=n_epochs, validation_data = (input_features_scale[test], targets_encoded[test]), class_weight=class_weight)\n",
    "              # Generate generalization metrics\n",
    "            scores = model.evaluate(input_features_scale[test], targets_encoded[test], verbose=0)\n",
    "            nn_scores = model.predict(input_features_scale[test],verbose = True)\n",
    "            print(f'Score for fold {fold_no}: {model.metrics_names[0]} of {scores[0]}; {model.metrics_names[1]} of {scores[1]*100}%')\n",
    "            acc_per_fold.append(scores[1] * 100)\n",
    "            loss_per_fold.append(scores[0])\n",
    "            results.append(scores)\n",
    "            model_history.append(model)\n",
    "            fitfull_history.append(fit_history)\n",
    "            auc_scores.append(nn_scores)\n",
    "            auc_targets.append(targets[test])\n",
    "\n",
    "              # Increase fold number\n",
    "            fold_no = fold_no + 1\n",
    "        #fit_history = model1.fit(x_train, y_train, epochs = n_epochs, batch_size = batch_size, shuffle = True, validation_data = (x_val, y_val),callbacks=callback)\n",
    "\n",
    "        #self._fit_history = self._model.fit(x_train, y_train, epochs = n_epochs, batch_size = batch_size, shuffle = True, validation_data = (x_val, y_val), callbacks = callbacks)\n",
    "        return model_history, fitfull_history, results"
   ]
  },
  {
   "cell_type": "code",
   "execution_count": null,
   "metadata": {
    "colab": {
     "base_uri": "https://localhost:8080/"
    },
    "id": "s3ov0FSfkT0N",
    "outputId": "cc97d9a9-478e-4018-a1fb-6d217383aa61"
   },
   "outputs": [
    {
     "name": "stdout",
     "output_type": "stream",
     "text": [
      "TRAIN: [     3      6      8 ... 389788 389789 389791] TEST: [     0      1      2 ... 389786 389787 389790]\n",
      "------------------------------------------------------------------------\n",
      "Training for fold 1 ...\n",
      "Epoch 1/100\n",
      "96/96 [==============================] - 3s 24ms/step - loss: 1.6362 - categorical_accuracy: 0.5068 - val_loss: 1.0793 - val_categorical_accuracy: 0.4834\n",
      "Epoch 2/100\n",
      "96/96 [==============================] - 1s 11ms/step - loss: 1.5863 - categorical_accuracy: 0.4821 - val_loss: 1.0238 - val_categorical_accuracy: 0.4797\n",
      "Epoch 3/100\n",
      "96/96 [==============================] - 1s 13ms/step - loss: 1.4488 - categorical_accuracy: 0.4820 - val_loss: 0.9508 - val_categorical_accuracy: 0.4943\n",
      "Epoch 4/100\n",
      "96/96 [==============================] - 1s 14ms/step - loss: 1.3593 - categorical_accuracy: 0.5006 - val_loss: 0.9169 - val_categorical_accuracy: 0.5059\n",
      "Epoch 5/100\n",
      "96/96 [==============================] - 1s 12ms/step - loss: 1.3219 - categorical_accuracy: 0.5114 - val_loss: 0.9029 - val_categorical_accuracy: 0.5122\n",
      "Epoch 6/100\n",
      "96/96 [==============================] - 1s 12ms/step - loss: 1.3136 - categorical_accuracy: 0.5182 - val_loss: 0.8952 - val_categorical_accuracy: 0.5192\n",
      "Epoch 7/100\n",
      "96/96 [==============================] - 1s 11ms/step - loss: 1.3113 - categorical_accuracy: 0.5242 - val_loss: 0.8841 - val_categorical_accuracy: 0.5284\n",
      "Epoch 8/100\n",
      "96/96 [==============================] - 1s 12ms/step - loss: 1.3130 - categorical_accuracy: 0.5310 - val_loss: 0.8799 - val_categorical_accuracy: 0.5357\n",
      "Epoch 9/100\n",
      "96/96 [==============================] - 1s 11ms/step - loss: 1.3053 - categorical_accuracy: 0.5405 - val_loss: 0.8754 - val_categorical_accuracy: 0.5430\n",
      "Epoch 10/100\n",
      "96/96 [==============================] - 1s 10ms/step - loss: 1.2935 - categorical_accuracy: 0.5493 - val_loss: 0.8747 - val_categorical_accuracy: 0.5465\n",
      "Epoch 11/100\n",
      "96/96 [==============================] - 1s 10ms/step - loss: 1.2954 - categorical_accuracy: 0.5520 - val_loss: 0.8741 - val_categorical_accuracy: 0.5513\n",
      "Epoch 12/100\n",
      "96/96 [==============================] - 1s 10ms/step - loss: 1.2956 - categorical_accuracy: 0.5581 - val_loss: 0.8701 - val_categorical_accuracy: 0.5597\n",
      "Epoch 13/100\n",
      "96/96 [==============================] - 1s 7ms/step - loss: 1.3033 - categorical_accuracy: 0.5644 - val_loss: 0.8702 - val_categorical_accuracy: 0.5636\n",
      "Epoch 14/100\n",
      "96/96 [==============================] - 1s 7ms/step - loss: 1.3000 - categorical_accuracy: 0.5648 - val_loss: 0.8681 - val_categorical_accuracy: 0.5690\n",
      "Epoch 15/100\n",
      "96/96 [==============================] - 1s 6ms/step - loss: 1.2851 - categorical_accuracy: 0.5719 - val_loss: 0.8722 - val_categorical_accuracy: 0.5684\n",
      "Epoch 16/100\n",
      "96/96 [==============================] - 1s 7ms/step - loss: 1.3009 - categorical_accuracy: 0.5709 - val_loss: 0.8657 - val_categorical_accuracy: 0.5774\n",
      "Epoch 17/100\n",
      "96/96 [==============================] - 1s 7ms/step - loss: 1.2899 - categorical_accuracy: 0.5780 - val_loss: 0.8659 - val_categorical_accuracy: 0.5790\n",
      "Epoch 18/100\n",
      "96/96 [==============================] - 1s 7ms/step - loss: 1.2983 - categorical_accuracy: 0.5787 - val_loss: 0.8672 - val_categorical_accuracy: 0.5800\n",
      "Epoch 19/100\n",
      "96/96 [==============================] - 1s 7ms/step - loss: 1.2827 - categorical_accuracy: 0.5842 - val_loss: 0.8700 - val_categorical_accuracy: 0.5795\n",
      "Epoch 20/100\n",
      "96/96 [==============================] - 1s 7ms/step - loss: 1.2800 - categorical_accuracy: 0.5857 - val_loss: 0.8663 - val_categorical_accuracy: 0.5850\n",
      "Epoch 21/100\n",
      "96/96 [==============================] - 1s 7ms/step - loss: 1.2843 - categorical_accuracy: 0.5861 - val_loss: 0.8645 - val_categorical_accuracy: 0.5875\n",
      "Epoch 22/100\n",
      "96/96 [==============================] - 1s 7ms/step - loss: 1.2841 - categorical_accuracy: 0.5859 - val_loss: 0.8622 - val_categorical_accuracy: 0.5904\n",
      "Epoch 23/100\n",
      "96/96 [==============================] - 1s 7ms/step - loss: 1.2897 - categorical_accuracy: 0.5882 - val_loss: 0.8653 - val_categorical_accuracy: 0.5890\n",
      "Epoch 24/100\n",
      "96/96 [==============================] - 1s 7ms/step - loss: 1.2737 - categorical_accuracy: 0.5909 - val_loss: 0.8630 - val_categorical_accuracy: 0.5923\n",
      "Epoch 25/100\n",
      "96/96 [==============================] - 1s 7ms/step - loss: 1.2858 - categorical_accuracy: 0.5914 - val_loss: 0.8634 - val_categorical_accuracy: 0.5919\n",
      "Epoch 26/100\n",
      "96/96 [==============================] - 1s 7ms/step - loss: 1.2792 - categorical_accuracy: 0.5932 - val_loss: 0.8585 - val_categorical_accuracy: 0.5982\n",
      "Epoch 27/100\n",
      "96/96 [==============================] - 1s 6ms/step - loss: 1.2833 - categorical_accuracy: 0.5962 - val_loss: 0.8597 - val_categorical_accuracy: 0.5971\n",
      "Epoch 28/100\n",
      "96/96 [==============================] - 1s 7ms/step - loss: 1.2808 - categorical_accuracy: 0.5979 - val_loss: 0.8577 - val_categorical_accuracy: 0.6010\n",
      "Epoch 29/100\n",
      "96/96 [==============================] - 1s 6ms/step - loss: 1.2764 - categorical_accuracy: 0.6001 - val_loss: 0.8606 - val_categorical_accuracy: 0.6005\n",
      "Epoch 30/100\n",
      "96/96 [==============================] - 1s 6ms/step - loss: 1.2834 - categorical_accuracy: 0.5980 - val_loss: 0.8560 - val_categorical_accuracy: 0.6044\n",
      "Epoch 31/100\n",
      "96/96 [==============================] - 1s 6ms/step - loss: 1.2857 - categorical_accuracy: 0.5998 - val_loss: 0.8556 - val_categorical_accuracy: 0.6065\n",
      "Epoch 32/100\n",
      "96/96 [==============================] - 1s 6ms/step - loss: 1.2875 - categorical_accuracy: 0.6001 - val_loss: 0.8518 - val_categorical_accuracy: 0.6101\n",
      "Epoch 33/100\n",
      "96/96 [==============================] - 1s 7ms/step - loss: 1.2801 - categorical_accuracy: 0.6043 - val_loss: 0.8561 - val_categorical_accuracy: 0.6069\n",
      "Epoch 34/100\n",
      "96/96 [==============================] - 1s 6ms/step - loss: 1.2764 - categorical_accuracy: 0.6034 - val_loss: 0.8602 - val_categorical_accuracy: 0.6026\n",
      "Epoch 35/100\n",
      "96/96 [==============================] - 1s 6ms/step - loss: 1.2755 - categorical_accuracy: 0.6016 - val_loss: 0.8514 - val_categorical_accuracy: 0.6105\n",
      "Epoch 36/100\n",
      "96/96 [==============================] - 1s 6ms/step - loss: 1.2773 - categorical_accuracy: 0.6052 - val_loss: 0.8579 - val_categorical_accuracy: 0.6053\n",
      "Epoch 37/100\n",
      "96/96 [==============================] - 1s 6ms/step - loss: 1.2777 - categorical_accuracy: 0.6018 - val_loss: 0.8556 - val_categorical_accuracy: 0.6074\n",
      "Epoch 38/100\n",
      "96/96 [==============================] - 1s 7ms/step - loss: 1.2817 - categorical_accuracy: 0.6040 - val_loss: 0.8554 - val_categorical_accuracy: 0.6078\n",
      "Epoch 39/100\n",
      "96/96 [==============================] - 1s 6ms/step - loss: 1.2742 - categorical_accuracy: 0.6052 - val_loss: 0.8565 - val_categorical_accuracy: 0.6070\n",
      "Epoch 40/100\n",
      "96/96 [==============================] - 1s 6ms/step - loss: 1.2766 - categorical_accuracy: 0.6042 - val_loss: 0.8564 - val_categorical_accuracy: 0.6075\n",
      "Epoch 41/100\n",
      "96/96 [==============================] - 1s 6ms/step - loss: 1.2730 - categorical_accuracy: 0.6061 - val_loss: 0.8572 - val_categorical_accuracy: 0.6068\n",
      "Epoch 42/100\n",
      "96/96 [==============================] - 1s 6ms/step - loss: 1.2722 - categorical_accuracy: 0.6054 - val_loss: 0.8566 - val_categorical_accuracy: 0.6076\n",
      "Epoch 43/100\n",
      "96/96 [==============================] - 1s 6ms/step - loss: 1.2870 - categorical_accuracy: 0.6035 - val_loss: 0.8515 - val_categorical_accuracy: 0.6122\n",
      "Epoch 44/100\n",
      "96/96 [==============================] - 1s 6ms/step - loss: 1.2738 - categorical_accuracy: 0.6084 - val_loss: 0.8566 - val_categorical_accuracy: 0.6085\n",
      "Epoch 45/100\n",
      "96/96 [==============================] - 1s 6ms/step - loss: 1.2720 - categorical_accuracy: 0.6060 - val_loss: 0.8525 - val_categorical_accuracy: 0.6129\n",
      "Epoch 46/100\n",
      "96/96 [==============================] - 1s 7ms/step - loss: 1.2809 - categorical_accuracy: 0.6077 - val_loss: 0.8526 - val_categorical_accuracy: 0.6114\n",
      "Epoch 47/100\n",
      "96/96 [==============================] - 1s 6ms/step - loss: 1.2772 - categorical_accuracy: 0.6052 - val_loss: 0.8521 - val_categorical_accuracy: 0.6128\n",
      "Epoch 48/100\n",
      "96/96 [==============================] - 1s 6ms/step - loss: 1.2822 - categorical_accuracy: 0.6054 - val_loss: 0.8512 - val_categorical_accuracy: 0.6152\n",
      "Epoch 49/100\n",
      "96/96 [==============================] - 1s 7ms/step - loss: 1.2737 - categorical_accuracy: 0.6079 - val_loss: 0.8538 - val_categorical_accuracy: 0.6114\n",
      "Epoch 50/100\n",
      "96/96 [==============================] - 1s 6ms/step - loss: 1.2773 - categorical_accuracy: 0.6082 - val_loss: 0.8508 - val_categorical_accuracy: 0.6141\n",
      "Epoch 51/100\n",
      "96/96 [==============================] - 1s 6ms/step - loss: 1.2751 - categorical_accuracy: 0.6076 - val_loss: 0.8521 - val_categorical_accuracy: 0.6149\n",
      "Epoch 52/100\n",
      "96/96 [==============================] - 1s 7ms/step - loss: 1.2703 - categorical_accuracy: 0.6096 - val_loss: 0.8544 - val_categorical_accuracy: 0.6136\n",
      "Epoch 53/100\n",
      "96/96 [==============================] - 1s 7ms/step - loss: 1.2761 - categorical_accuracy: 0.6087 - val_loss: 0.8573 - val_categorical_accuracy: 0.6090\n",
      "Epoch 54/100\n",
      "96/96 [==============================] - 1s 6ms/step - loss: 1.2731 - categorical_accuracy: 0.6072 - val_loss: 0.8534 - val_categorical_accuracy: 0.6132\n",
      "Epoch 55/100\n",
      "96/96 [==============================] - 1s 16ms/step - loss: 1.2739 - categorical_accuracy: 0.6094 - val_loss: 0.8503 - val_categorical_accuracy: 0.6156\n",
      "Epoch 56/100\n",
      "96/96 [==============================] - 1s 9ms/step - loss: 1.2706 - categorical_accuracy: 0.6125 - val_loss: 0.8497 - val_categorical_accuracy: 0.6172\n",
      "Epoch 57/100\n",
      "96/96 [==============================] - 1s 6ms/step - loss: 1.2757 - categorical_accuracy: 0.6097 - val_loss: 0.8483 - val_categorical_accuracy: 0.6183\n",
      "Epoch 58/100\n",
      "96/96 [==============================] - 1s 6ms/step - loss: 1.2714 - categorical_accuracy: 0.6115 - val_loss: 0.8506 - val_categorical_accuracy: 0.6161\n",
      "Epoch 59/100\n",
      "96/96 [==============================] - 1s 6ms/step - loss: 1.2701 - categorical_accuracy: 0.6100 - val_loss: 0.8479 - val_categorical_accuracy: 0.6187\n",
      "Epoch 60/100\n",
      "96/96 [==============================] - 1s 6ms/step - loss: 1.2744 - categorical_accuracy: 0.6107 - val_loss: 0.8540 - val_categorical_accuracy: 0.6137\n",
      "Epoch 61/100\n",
      "96/96 [==============================] - 1s 6ms/step - loss: 1.2639 - categorical_accuracy: 0.6127 - val_loss: 0.8562 - val_categorical_accuracy: 0.6126\n",
      "Epoch 62/100\n",
      "96/96 [==============================] - 1s 6ms/step - loss: 1.2765 - categorical_accuracy: 0.6073 - val_loss: 0.8487 - val_categorical_accuracy: 0.6179\n",
      "Epoch 63/100\n",
      "96/96 [==============================] - 1s 7ms/step - loss: 1.2687 - categorical_accuracy: 0.6095 - val_loss: 0.8473 - val_categorical_accuracy: 0.6202\n",
      "Epoch 64/100\n",
      "96/96 [==============================] - 1s 6ms/step - loss: 1.2722 - categorical_accuracy: 0.6120 - val_loss: 0.8521 - val_categorical_accuracy: 0.6161\n",
      "Epoch 65/100\n",
      "96/96 [==============================] - 1s 6ms/step - loss: 1.2783 - categorical_accuracy: 0.6111 - val_loss: 0.8496 - val_categorical_accuracy: 0.6174\n",
      "Epoch 66/100\n",
      "96/96 [==============================] - 1s 6ms/step - loss: 1.2696 - categorical_accuracy: 0.6125 - val_loss: 0.8556 - val_categorical_accuracy: 0.6123\n",
      "Epoch 67/100\n",
      "96/96 [==============================] - 1s 6ms/step - loss: 1.2675 - categorical_accuracy: 0.6099 - val_loss: 0.8507 - val_categorical_accuracy: 0.6166\n",
      "Epoch 68/100\n",
      "96/96 [==============================] - 1s 6ms/step - loss: 1.2718 - categorical_accuracy: 0.6126 - val_loss: 0.8512 - val_categorical_accuracy: 0.6148\n",
      "Epoch 69/100\n",
      "96/96 [==============================] - 1s 6ms/step - loss: 1.2713 - categorical_accuracy: 0.6098 - val_loss: 0.8464 - val_categorical_accuracy: 0.6207\n",
      "Epoch 70/100\n",
      "96/96 [==============================] - 1s 6ms/step - loss: 1.2691 - categorical_accuracy: 0.6114 - val_loss: 0.8414 - val_categorical_accuracy: 0.6246\n",
      "Epoch 71/100\n",
      "96/96 [==============================] - 1s 7ms/step - loss: 1.2748 - categorical_accuracy: 0.6133 - val_loss: 0.8489 - val_categorical_accuracy: 0.6188\n",
      "Epoch 72/100\n",
      "96/96 [==============================] - 1s 6ms/step - loss: 1.2670 - categorical_accuracy: 0.6127 - val_loss: 0.8467 - val_categorical_accuracy: 0.6213\n",
      "Epoch 73/100\n",
      "96/96 [==============================] - 1s 6ms/step - loss: 1.2680 - categorical_accuracy: 0.6116 - val_loss: 0.8483 - val_categorical_accuracy: 0.6211\n",
      "Epoch 74/100\n",
      "96/96 [==============================] - 1s 6ms/step - loss: 1.2704 - categorical_accuracy: 0.6116 - val_loss: 0.8462 - val_categorical_accuracy: 0.6221\n",
      "Epoch 75/100\n",
      "96/96 [==============================] - 1s 6ms/step - loss: 1.2690 - categorical_accuracy: 0.6120 - val_loss: 0.8497 - val_categorical_accuracy: 0.6167\n",
      "Epoch 76/100\n",
      "96/96 [==============================] - 1s 6ms/step - loss: 1.2740 - categorical_accuracy: 0.6099 - val_loss: 0.8510 - val_categorical_accuracy: 0.6150\n",
      "Epoch 77/100\n",
      "96/96 [==============================] - 1s 6ms/step - loss: 1.2710 - categorical_accuracy: 0.6068 - val_loss: 0.8492 - val_categorical_accuracy: 0.6186\n",
      "Epoch 78/100\n",
      "96/96 [==============================] - 1s 6ms/step - loss: 1.2755 - categorical_accuracy: 0.6105 - val_loss: 0.8507 - val_categorical_accuracy: 0.6168\n",
      "Epoch 79/100\n",
      "96/96 [==============================] - 1s 7ms/step - loss: 1.2713 - categorical_accuracy: 0.6098 - val_loss: 0.8532 - val_categorical_accuracy: 0.6142\n",
      "Epoch 80/100\n",
      "96/96 [==============================] - 1s 6ms/step - loss: 1.2748 - categorical_accuracy: 0.6107 - val_loss: 0.8479 - val_categorical_accuracy: 0.6190\n",
      "Epoch 81/100\n",
      "96/96 [==============================] - 1s 6ms/step - loss: 1.2753 - categorical_accuracy: 0.6089 - val_loss: 0.8398 - val_categorical_accuracy: 0.6266\n",
      "Epoch 82/100\n",
      "96/96 [==============================] - 1s 7ms/step - loss: 1.2768 - categorical_accuracy: 0.6114 - val_loss: 0.8455 - val_categorical_accuracy: 0.6211\n",
      "Epoch 83/100\n",
      "96/96 [==============================] - 1s 7ms/step - loss: 1.2688 - categorical_accuracy: 0.6132 - val_loss: 0.8451 - val_categorical_accuracy: 0.6207\n",
      "Epoch 84/100\n",
      "96/96 [==============================] - 1s 6ms/step - loss: 1.2688 - categorical_accuracy: 0.6137 - val_loss: 0.8451 - val_categorical_accuracy: 0.6217\n",
      "Epoch 85/100\n",
      "96/96 [==============================] - 1s 6ms/step - loss: 1.2623 - categorical_accuracy: 0.6121 - val_loss: 0.8458 - val_categorical_accuracy: 0.6203\n",
      "Epoch 86/100\n",
      "96/96 [==============================] - 1s 6ms/step - loss: 1.2689 - categorical_accuracy: 0.6085 - val_loss: 0.8505 - val_categorical_accuracy: 0.6161\n",
      "Epoch 87/100\n",
      "96/96 [==============================] - 1s 7ms/step - loss: 1.2719 - categorical_accuracy: 0.6108 - val_loss: 0.8451 - val_categorical_accuracy: 0.6206\n",
      "Epoch 88/100\n",
      "96/96 [==============================] - 1s 6ms/step - loss: 1.2620 - categorical_accuracy: 0.6119 - val_loss: 0.8466 - val_categorical_accuracy: 0.6204\n",
      "Epoch 89/100\n",
      "96/96 [==============================] - 1s 6ms/step - loss: 1.2701 - categorical_accuracy: 0.6121 - val_loss: 0.8492 - val_categorical_accuracy: 0.6176\n",
      "Epoch 90/100\n",
      "96/96 [==============================] - 1s 6ms/step - loss: 1.2669 - categorical_accuracy: 0.6110 - val_loss: 0.8480 - val_categorical_accuracy: 0.6200\n",
      "Epoch 91/100\n",
      "96/96 [==============================] - 1s 6ms/step - loss: 1.2679 - categorical_accuracy: 0.6087 - val_loss: 0.8457 - val_categorical_accuracy: 0.6221\n",
      "Epoch 92/100\n",
      "96/96 [==============================] - 1s 6ms/step - loss: 1.2690 - categorical_accuracy: 0.6104 - val_loss: 0.8437 - val_categorical_accuracy: 0.6241\n",
      "Epoch 93/100\n",
      "96/96 [==============================] - 1s 6ms/step - loss: 1.2673 - categorical_accuracy: 0.6110 - val_loss: 0.8450 - val_categorical_accuracy: 0.6215\n",
      "Epoch 94/100\n",
      "96/96 [==============================] - 1s 6ms/step - loss: 1.2642 - categorical_accuracy: 0.6089 - val_loss: 0.8466 - val_categorical_accuracy: 0.6205\n",
      "Epoch 95/100\n",
      "96/96 [==============================] - 1s 6ms/step - loss: 1.2701 - categorical_accuracy: 0.6082 - val_loss: 0.8468 - val_categorical_accuracy: 0.6194\n",
      "Epoch 96/100\n",
      "96/96 [==============================] - 1s 7ms/step - loss: 1.2620 - categorical_accuracy: 0.6082 - val_loss: 0.8463 - val_categorical_accuracy: 0.6215\n",
      "Epoch 97/100\n",
      "96/96 [==============================] - 1s 6ms/step - loss: 1.2648 - categorical_accuracy: 0.6100 - val_loss: 0.8487 - val_categorical_accuracy: 0.6176\n",
      "Epoch 98/100\n",
      "96/96 [==============================] - 1s 6ms/step - loss: 1.2676 - categorical_accuracy: 0.6081 - val_loss: 0.8432 - val_categorical_accuracy: 0.6222\n",
      "Epoch 99/100\n",
      "96/96 [==============================] - 1s 7ms/step - loss: 1.2760 - categorical_accuracy: 0.6098 - val_loss: 0.8430 - val_categorical_accuracy: 0.6227\n",
      "Epoch 100/100\n",
      "96/96 [==============================] - 1s 6ms/step - loss: 1.2708 - categorical_accuracy: 0.6106 - val_loss: 0.8385 - val_categorical_accuracy: 0.6266\n",
      "6222/6222 [==============================] - 5s 823us/step\n",
      "Score for fold 1: loss of 0.8384979367256165; categorical_accuracy of 62.65760064125061%\n",
      "TRAIN: [     0      1      2 ... 389786 389787 389790] TEST: [     3      6      8 ... 389788 389789 389791]\n",
      "------------------------------------------------------------------------\n",
      "Training for fold 2 ...\n",
      "Epoch 1/100\n",
      "100/100 [==============================] - 1s 8ms/step - loss: 1.6377 - categorical_accuracy: 0.4983 - val_loss: 1.0752 - val_categorical_accuracy: 0.5006\n",
      "Epoch 2/100\n",
      "100/100 [==============================] - 1s 6ms/step - loss: 1.5954 - categorical_accuracy: 0.4890 - val_loss: 1.0006 - val_categorical_accuracy: 0.4941\n",
      "Epoch 3/100\n",
      "100/100 [==============================] - 1s 6ms/step - loss: 1.4513 - categorical_accuracy: 0.4935 - val_loss: 0.9364 - val_categorical_accuracy: 0.5065\n",
      "Epoch 4/100\n",
      "100/100 [==============================] - 1s 6ms/step - loss: 1.3674 - categorical_accuracy: 0.5081 - val_loss: 0.9031 - val_categorical_accuracy: 0.5220\n",
      "Epoch 5/100\n",
      "100/100 [==============================] - 1s 6ms/step - loss: 1.3262 - categorical_accuracy: 0.5215 - val_loss: 0.8930 - val_categorical_accuracy: 0.5257\n",
      "Epoch 6/100\n",
      "100/100 [==============================] - 1s 6ms/step - loss: 1.3205 - categorical_accuracy: 0.5246 - val_loss: 0.8850 - val_categorical_accuracy: 0.5312\n",
      "Epoch 7/100\n",
      "100/100 [==============================] - 1s 6ms/step - loss: 1.3127 - categorical_accuracy: 0.5297 - val_loss: 0.8808 - val_categorical_accuracy: 0.5373\n",
      "Epoch 8/100\n",
      "100/100 [==============================] - 1s 6ms/step - loss: 1.3029 - categorical_accuracy: 0.5406 - val_loss: 0.8846 - val_categorical_accuracy: 0.5379\n",
      "Epoch 9/100\n",
      "100/100 [==============================] - 1s 6ms/step - loss: 1.3079 - categorical_accuracy: 0.5456 - val_loss: 0.8717 - val_categorical_accuracy: 0.5515\n",
      "Epoch 10/100\n",
      "100/100 [==============================] - 1s 6ms/step - loss: 1.3087 - categorical_accuracy: 0.5533 - val_loss: 0.8697 - val_categorical_accuracy: 0.5559\n",
      "Epoch 11/100\n",
      "100/100 [==============================] - 1s 6ms/step - loss: 1.2970 - categorical_accuracy: 0.5566 - val_loss: 0.8690 - val_categorical_accuracy: 0.5608\n",
      "Epoch 12/100\n",
      "100/100 [==============================] - 1s 6ms/step - loss: 1.2986 - categorical_accuracy: 0.5586 - val_loss: 0.8648 - val_categorical_accuracy: 0.5684\n",
      "Epoch 13/100\n",
      "100/100 [==============================] - 1s 6ms/step - loss: 1.2995 - categorical_accuracy: 0.5687 - val_loss: 0.8682 - val_categorical_accuracy: 0.5671\n",
      "Epoch 14/100\n",
      "100/100 [==============================] - 1s 6ms/step - loss: 1.2974 - categorical_accuracy: 0.5669 - val_loss: 0.8713 - val_categorical_accuracy: 0.5677\n",
      "Epoch 15/100\n",
      "100/100 [==============================] - 1s 6ms/step - loss: 1.2916 - categorical_accuracy: 0.5708 - val_loss: 0.8675 - val_categorical_accuracy: 0.5732\n",
      "Epoch 16/100\n",
      "100/100 [==============================] - 1s 6ms/step - loss: 1.2982 - categorical_accuracy: 0.5741 - val_loss: 0.8651 - val_categorical_accuracy: 0.5781\n",
      "Epoch 17/100\n",
      "100/100 [==============================] - 1s 6ms/step - loss: 1.2984 - categorical_accuracy: 0.5746 - val_loss: 0.8598 - val_categorical_accuracy: 0.5869\n",
      "Epoch 18/100\n",
      "100/100 [==============================] - 1s 6ms/step - loss: 1.2912 - categorical_accuracy: 0.5810 - val_loss: 0.8653 - val_categorical_accuracy: 0.5831\n",
      "Epoch 19/100\n",
      "100/100 [==============================] - 1s 6ms/step - loss: 1.2915 - categorical_accuracy: 0.5801 - val_loss: 0.8639 - val_categorical_accuracy: 0.5856\n",
      "Epoch 20/100\n",
      "100/100 [==============================] - 1s 6ms/step - loss: 1.3002 - categorical_accuracy: 0.5813 - val_loss: 0.8651 - val_categorical_accuracy: 0.5846\n",
      "Epoch 21/100\n",
      "100/100 [==============================] - 1s 7ms/step - loss: 1.2932 - categorical_accuracy: 0.5816 - val_loss: 0.8625 - val_categorical_accuracy: 0.5892\n",
      "Epoch 22/100\n",
      "100/100 [==============================] - 1s 6ms/step - loss: 1.2959 - categorical_accuracy: 0.5841 - val_loss: 0.8596 - val_categorical_accuracy: 0.5920\n",
      "Epoch 23/100\n",
      "100/100 [==============================] - 1s 6ms/step - loss: 1.2903 - categorical_accuracy: 0.5862 - val_loss: 0.8582 - val_categorical_accuracy: 0.5957\n",
      "Epoch 24/100\n",
      "100/100 [==============================] - 1s 8ms/step - loss: 1.2926 - categorical_accuracy: 0.5882 - val_loss: 0.8601 - val_categorical_accuracy: 0.5947\n",
      "Epoch 25/100\n",
      "100/100 [==============================] - 1s 14ms/step - loss: 1.2908 - categorical_accuracy: 0.5912 - val_loss: 0.8567 - val_categorical_accuracy: 0.5973\n",
      "Epoch 26/100\n",
      "100/100 [==============================] - 1s 6ms/step - loss: 1.2828 - categorical_accuracy: 0.5875 - val_loss: 0.8600 - val_categorical_accuracy: 0.5956\n",
      "Epoch 27/100\n",
      "100/100 [==============================] - 1s 6ms/step - loss: 1.2952 - categorical_accuracy: 0.5889 - val_loss: 0.8611 - val_categorical_accuracy: 0.5949\n",
      "Epoch 28/100\n",
      "100/100 [==============================] - 1s 6ms/step - loss: 1.2810 - categorical_accuracy: 0.5917 - val_loss: 0.8604 - val_categorical_accuracy: 0.5966\n",
      "Epoch 29/100\n",
      "100/100 [==============================] - 1s 6ms/step - loss: 1.2898 - categorical_accuracy: 0.5923 - val_loss: 0.8625 - val_categorical_accuracy: 0.5946\n",
      "Epoch 30/100\n",
      "100/100 [==============================] - 1s 6ms/step - loss: 1.2934 - categorical_accuracy: 0.5909 - val_loss: 0.8561 - val_categorical_accuracy: 0.6009\n",
      "Epoch 31/100\n",
      "100/100 [==============================] - 1s 6ms/step - loss: 1.2865 - categorical_accuracy: 0.5966 - val_loss: 0.8603 - val_categorical_accuracy: 0.5995\n",
      "Epoch 32/100\n",
      "100/100 [==============================] - 1s 6ms/step - loss: 1.2882 - categorical_accuracy: 0.5962 - val_loss: 0.8612 - val_categorical_accuracy: 0.5988\n",
      "Epoch 33/100\n",
      "100/100 [==============================] - 1s 6ms/step - loss: 1.2789 - categorical_accuracy: 0.5961 - val_loss: 0.8551 - val_categorical_accuracy: 0.6069\n",
      "Epoch 34/100\n",
      "100/100 [==============================] - 1s 6ms/step - loss: 1.2913 - categorical_accuracy: 0.5991 - val_loss: 0.8512 - val_categorical_accuracy: 0.6109\n",
      "Epoch 35/100\n",
      "100/100 [==============================] - 1s 6ms/step - loss: 1.2853 - categorical_accuracy: 0.6013 - val_loss: 0.8555 - val_categorical_accuracy: 0.6069\n",
      "Epoch 36/100\n",
      "100/100 [==============================] - 1s 6ms/step - loss: 1.2858 - categorical_accuracy: 0.6010 - val_loss: 0.8559 - val_categorical_accuracy: 0.6076\n",
      "Epoch 37/100\n",
      "100/100 [==============================] - 1s 6ms/step - loss: 1.2807 - categorical_accuracy: 0.5995 - val_loss: 0.8518 - val_categorical_accuracy: 0.6108\n",
      "Epoch 38/100\n",
      "100/100 [==============================] - 1s 6ms/step - loss: 1.2887 - categorical_accuracy: 0.6019 - val_loss: 0.8553 - val_categorical_accuracy: 0.6072\n",
      "Epoch 39/100\n",
      "100/100 [==============================] - 1s 6ms/step - loss: 1.2794 - categorical_accuracy: 0.6008 - val_loss: 0.8621 - val_categorical_accuracy: 0.6028\n",
      "Epoch 40/100\n",
      "100/100 [==============================] - 1s 6ms/step - loss: 1.2830 - categorical_accuracy: 0.6000 - val_loss: 0.8548 - val_categorical_accuracy: 0.6110\n",
      "Epoch 41/100\n",
      "100/100 [==============================] - 1s 6ms/step - loss: 1.2829 - categorical_accuracy: 0.6020 - val_loss: 0.8509 - val_categorical_accuracy: 0.6136\n",
      "Epoch 42/100\n",
      "100/100 [==============================] - 1s 6ms/step - loss: 1.2934 - categorical_accuracy: 0.6037 - val_loss: 0.8531 - val_categorical_accuracy: 0.6102\n",
      "Epoch 43/100\n",
      "100/100 [==============================] - 1s 6ms/step - loss: 1.2826 - categorical_accuracy: 0.6034 - val_loss: 0.8499 - val_categorical_accuracy: 0.6131\n",
      "Epoch 44/100\n",
      "100/100 [==============================] - 1s 6ms/step - loss: 1.2758 - categorical_accuracy: 0.6060 - val_loss: 0.8530 - val_categorical_accuracy: 0.6105\n",
      "Epoch 45/100\n",
      "100/100 [==============================] - 1s 6ms/step - loss: 1.2777 - categorical_accuracy: 0.6026 - val_loss: 0.8500 - val_categorical_accuracy: 0.6155\n",
      "Epoch 46/100\n",
      "100/100 [==============================] - 1s 6ms/step - loss: 1.2803 - categorical_accuracy: 0.6050 - val_loss: 0.8575 - val_categorical_accuracy: 0.6075\n",
      "Epoch 47/100\n",
      "100/100 [==============================] - 1s 6ms/step - loss: 1.2839 - categorical_accuracy: 0.6030 - val_loss: 0.8545 - val_categorical_accuracy: 0.6105\n",
      "Epoch 48/100\n",
      "100/100 [==============================] - 1s 6ms/step - loss: 1.2784 - categorical_accuracy: 0.6040 - val_loss: 0.8532 - val_categorical_accuracy: 0.6127\n",
      "Epoch 49/100\n",
      "100/100 [==============================] - 1s 6ms/step - loss: 1.2801 - categorical_accuracy: 0.6050 - val_loss: 0.8569 - val_categorical_accuracy: 0.6092\n",
      "Epoch 50/100\n",
      "100/100 [==============================] - 1s 6ms/step - loss: 1.2804 - categorical_accuracy: 0.6040 - val_loss: 0.8502 - val_categorical_accuracy: 0.6141\n",
      "Epoch 51/100\n",
      "100/100 [==============================] - 1s 6ms/step - loss: 1.2853 - categorical_accuracy: 0.6056 - val_loss: 0.8528 - val_categorical_accuracy: 0.6131\n",
      "Epoch 52/100\n",
      "100/100 [==============================] - 1s 6ms/step - loss: 1.2841 - categorical_accuracy: 0.6049 - val_loss: 0.8524 - val_categorical_accuracy: 0.6129\n",
      "Epoch 53/100\n",
      "100/100 [==============================] - 1s 6ms/step - loss: 1.2783 - categorical_accuracy: 0.6072 - val_loss: 0.8546 - val_categorical_accuracy: 0.6116\n",
      "Epoch 54/100\n",
      "100/100 [==============================] - 1s 6ms/step - loss: 1.2815 - categorical_accuracy: 0.6021 - val_loss: 0.8546 - val_categorical_accuracy: 0.6112\n",
      "Epoch 55/100\n",
      "100/100 [==============================] - 1s 6ms/step - loss: 1.2831 - categorical_accuracy: 0.6022 - val_loss: 0.8493 - val_categorical_accuracy: 0.6152\n",
      "Epoch 56/100\n",
      "100/100 [==============================] - 1s 6ms/step - loss: 1.2838 - categorical_accuracy: 0.6051 - val_loss: 0.8513 - val_categorical_accuracy: 0.6132\n",
      "Epoch 57/100\n",
      "100/100 [==============================] - 1s 6ms/step - loss: 1.2875 - categorical_accuracy: 0.6030 - val_loss: 0.8511 - val_categorical_accuracy: 0.6140\n",
      "Epoch 58/100\n",
      "100/100 [==============================] - 1s 6ms/step - loss: 1.2812 - categorical_accuracy: 0.6049 - val_loss: 0.8547 - val_categorical_accuracy: 0.6104\n",
      "Epoch 59/100\n",
      "100/100 [==============================] - 1s 6ms/step - loss: 1.2784 - categorical_accuracy: 0.6065 - val_loss: 0.8550 - val_categorical_accuracy: 0.6099\n",
      "Epoch 60/100\n",
      "100/100 [==============================] - 1s 6ms/step - loss: 1.2884 - categorical_accuracy: 0.6041 - val_loss: 0.8530 - val_categorical_accuracy: 0.6125\n",
      "Epoch 61/100\n",
      "100/100 [==============================] - 1s 6ms/step - loss: 1.2830 - categorical_accuracy: 0.6045 - val_loss: 0.8492 - val_categorical_accuracy: 0.6148\n",
      "Epoch 62/100\n",
      "100/100 [==============================] - 1s 6ms/step - loss: 1.2708 - categorical_accuracy: 0.6069 - val_loss: 0.8519 - val_categorical_accuracy: 0.6140\n",
      "Epoch 63/100\n",
      "100/100 [==============================] - 1s 6ms/step - loss: 1.2779 - categorical_accuracy: 0.6047 - val_loss: 0.8528 - val_categorical_accuracy: 0.6143\n",
      "Epoch 64/100\n",
      "100/100 [==============================] - 1s 6ms/step - loss: 1.2788 - categorical_accuracy: 0.6059 - val_loss: 0.8496 - val_categorical_accuracy: 0.6170\n",
      "Epoch 65/100\n",
      "100/100 [==============================] - 1s 6ms/step - loss: 1.2828 - categorical_accuracy: 0.6101 - val_loss: 0.8572 - val_categorical_accuracy: 0.6087\n",
      "Epoch 66/100\n",
      "100/100 [==============================] - 1s 6ms/step - loss: 1.2824 - categorical_accuracy: 0.6048 - val_loss: 0.8573 - val_categorical_accuracy: 0.6079\n",
      "Epoch 67/100\n",
      "100/100 [==============================] - 1s 6ms/step - loss: 1.2704 - categorical_accuracy: 0.6034 - val_loss: 0.8522 - val_categorical_accuracy: 0.6141\n",
      "Epoch 68/100\n",
      "100/100 [==============================] - 1s 6ms/step - loss: 1.2787 - categorical_accuracy: 0.6040 - val_loss: 0.8488 - val_categorical_accuracy: 0.6179\n",
      "Epoch 69/100\n",
      "100/100 [==============================] - 1s 6ms/step - loss: 1.2781 - categorical_accuracy: 0.6076 - val_loss: 0.8536 - val_categorical_accuracy: 0.6121\n",
      "Epoch 70/100\n",
      "100/100 [==============================] - 1s 6ms/step - loss: 1.2734 - categorical_accuracy: 0.6061 - val_loss: 0.8515 - val_categorical_accuracy: 0.6138\n",
      "Epoch 71/100\n",
      "100/100 [==============================] - 1s 6ms/step - loss: 1.2769 - categorical_accuracy: 0.6032 - val_loss: 0.8525 - val_categorical_accuracy: 0.6116\n",
      "Epoch 72/100\n",
      "100/100 [==============================] - 1s 6ms/step - loss: 1.2769 - categorical_accuracy: 0.6061 - val_loss: 0.8540 - val_categorical_accuracy: 0.6114\n",
      "Epoch 73/100\n",
      "100/100 [==============================] - 1s 6ms/step - loss: 1.2777 - categorical_accuracy: 0.6038 - val_loss: 0.8516 - val_categorical_accuracy: 0.6134\n",
      "Epoch 74/100\n",
      "100/100 [==============================] - 1s 6ms/step - loss: 1.2753 - categorical_accuracy: 0.6053 - val_loss: 0.8500 - val_categorical_accuracy: 0.6150\n",
      "Epoch 75/100\n",
      "100/100 [==============================] - 1s 6ms/step - loss: 1.2735 - categorical_accuracy: 0.6069 - val_loss: 0.8513 - val_categorical_accuracy: 0.6153\n",
      "Epoch 76/100\n",
      "100/100 [==============================] - 1s 6ms/step - loss: 1.2750 - categorical_accuracy: 0.6059 - val_loss: 0.8539 - val_categorical_accuracy: 0.6122\n",
      "Epoch 77/100\n",
      "100/100 [==============================] - 1s 6ms/step - loss: 1.2738 - categorical_accuracy: 0.6058 - val_loss: 0.8550 - val_categorical_accuracy: 0.6097\n",
      "Epoch 78/100\n",
      "100/100 [==============================] - 1s 6ms/step - loss: 1.2834 - categorical_accuracy: 0.6017 - val_loss: 0.8519 - val_categorical_accuracy: 0.6115\n",
      "Epoch 79/100\n",
      "100/100 [==============================] - 1s 6ms/step - loss: 1.2748 - categorical_accuracy: 0.6045 - val_loss: 0.8483 - val_categorical_accuracy: 0.6147\n",
      "Epoch 80/100\n",
      "100/100 [==============================] - 1s 6ms/step - loss: 1.2770 - categorical_accuracy: 0.6035 - val_loss: 0.8483 - val_categorical_accuracy: 0.6152\n",
      "Epoch 81/100\n",
      "100/100 [==============================] - 1s 6ms/step - loss: 1.2827 - categorical_accuracy: 0.6058 - val_loss: 0.8492 - val_categorical_accuracy: 0.6145\n",
      "Epoch 82/100\n",
      "100/100 [==============================] - 1s 6ms/step - loss: 1.2823 - categorical_accuracy: 0.6062 - val_loss: 0.8517 - val_categorical_accuracy: 0.6118\n",
      "Epoch 83/100\n",
      "100/100 [==============================] - 1s 6ms/step - loss: 1.2679 - categorical_accuracy: 0.6070 - val_loss: 0.8520 - val_categorical_accuracy: 0.6115\n",
      "Epoch 84/100\n",
      "100/100 [==============================] - 1s 6ms/step - loss: 1.2787 - categorical_accuracy: 0.6048 - val_loss: 0.8499 - val_categorical_accuracy: 0.6132\n",
      "Epoch 85/100\n",
      "100/100 [==============================] - 1s 6ms/step - loss: 1.2740 - categorical_accuracy: 0.6055 - val_loss: 0.8511 - val_categorical_accuracy: 0.6123\n",
      "Epoch 86/100\n",
      "100/100 [==============================] - 1s 6ms/step - loss: 1.2769 - categorical_accuracy: 0.6040 - val_loss: 0.8500 - val_categorical_accuracy: 0.6113\n",
      "Epoch 87/100\n",
      "100/100 [==============================] - 1s 6ms/step - loss: 1.2818 - categorical_accuracy: 0.6031 - val_loss: 0.8518 - val_categorical_accuracy: 0.6107\n",
      "Epoch 88/100\n",
      "100/100 [==============================] - 1s 6ms/step - loss: 1.2737 - categorical_accuracy: 0.6044 - val_loss: 0.8486 - val_categorical_accuracy: 0.6147\n",
      "Epoch 89/100\n",
      "100/100 [==============================] - 1s 6ms/step - loss: 1.2803 - categorical_accuracy: 0.6045 - val_loss: 0.8496 - val_categorical_accuracy: 0.6136\n",
      "Epoch 90/100\n",
      "100/100 [==============================] - 1s 6ms/step - loss: 1.2793 - categorical_accuracy: 0.6053 - val_loss: 0.8484 - val_categorical_accuracy: 0.6159\n",
      "Epoch 91/100\n",
      "100/100 [==============================] - 1s 6ms/step - loss: 1.2716 - categorical_accuracy: 0.6081 - val_loss: 0.8487 - val_categorical_accuracy: 0.6156\n",
      "Epoch 92/100\n",
      "100/100 [==============================] - 1s 6ms/step - loss: 1.2773 - categorical_accuracy: 0.6047 - val_loss: 0.8476 - val_categorical_accuracy: 0.6164\n",
      "Epoch 93/100\n",
      "100/100 [==============================] - 1s 13ms/step - loss: 1.2747 - categorical_accuracy: 0.6074 - val_loss: 0.8529 - val_categorical_accuracy: 0.6112\n",
      "Epoch 94/100\n",
      "100/100 [==============================] - 1s 8ms/step - loss: 1.2773 - categorical_accuracy: 0.6054 - val_loss: 0.8533 - val_categorical_accuracy: 0.6096\n",
      "Epoch 95/100\n",
      "100/100 [==============================] - 1s 6ms/step - loss: 1.2751 - categorical_accuracy: 0.6037 - val_loss: 0.8524 - val_categorical_accuracy: 0.6095\n",
      "Epoch 96/100\n",
      "100/100 [==============================] - 1s 6ms/step - loss: 1.2724 - categorical_accuracy: 0.6054 - val_loss: 0.8476 - val_categorical_accuracy: 0.6158\n",
      "Epoch 97/100\n",
      "100/100 [==============================] - 1s 6ms/step - loss: 1.2806 - categorical_accuracy: 0.6046 - val_loss: 0.8509 - val_categorical_accuracy: 0.6110\n",
      "Epoch 98/100\n",
      "100/100 [==============================] - 1s 6ms/step - loss: 1.2735 - categorical_accuracy: 0.6037 - val_loss: 0.8461 - val_categorical_accuracy: 0.6158\n",
      "Epoch 99/100\n",
      "100/100 [==============================] - 1s 6ms/step - loss: 1.2822 - categorical_accuracy: 0.6035 - val_loss: 0.8464 - val_categorical_accuracy: 0.6179\n",
      "Epoch 100/100\n",
      "100/100 [==============================] - 1s 6ms/step - loss: 1.2684 - categorical_accuracy: 0.6087 - val_loss: 0.8504 - val_categorical_accuracy: 0.6123\n",
      "5960/5960 [==============================] - 6s 1ms/step\n",
      "Score for fold 2: loss of 0.8504065275192261; categorical_accuracy of 61.225420236587524%\n"
     ]
    }
   ],
   "source": [
    "#run training\n",
    "my_model_fin_func, fit_history_func, res = fit_func2( len(training_samples), inp_nonsc, targets, n_epochs = 100, batch_size = 2000, num_folds = 2)\n"
   ]
  },
  {
   "cell_type": "code",
   "execution_count": null,
   "metadata": {
    "colab": {
     "base_uri": "https://localhost:8080/",
     "height": 297
    },
    "id": "T-20FxuymeZj",
    "outputId": "a77635f0-bb36-4781-c713-22a9024c7cef"
   },
   "outputs": [
    {
     "data": {
      "image/png": "[encoded data removed]",
      "text/plain": [
       "<Figure size 432x288 with 1 Axes>"
      ]
     },
     "metadata": {
      "needs_background": "light"
     },
     "output_type": "display_data"
    }
   ],
   "source": [
    "#plot loss\n",
    "for x in range(0,2):\n",
    "    plt.plot(fit_history_func[x].history['loss'], label='Train. fold-'+str(x))\n",
    "    plt.plot(fit_history_func[x].history['val_loss'], label='Val. fold-'+str(x))\n",
    "    plt.title('DNN ($D_{in}$=7, $D_{hidden}$=2, 0.2Drop)')\n",
    "    plt.xlabel('epoch')\n",
    "    plt.ylabel('loss')\n",
    "    plt.legend(loc='upper right')\n",
    "\n",
    "saveit = \"{}/{}\".format(path_tosave, \"dnn_lossepo.png\") \n",
    "plt.savefig(saveit)\n",
    "plt.show()"
   ]
  },
  {
   "cell_type": "code",
   "execution_count": null,
   "metadata": {
    "colab": {
     "base_uri": "https://localhost:8080/",
     "height": 297
    },
    "id": "nrUmodWPsH_J",
    "outputId": "414bf966-260a-44fc-9931-635a5fdec1f3"
   },
   "outputs": [
    {
     "data": {
      "image/png": "[encoded data removed]",
      "text/plain": [
       "<Figure size 432x288 with 1 Axes>"
      ]
     },
     "metadata": {
      "needs_background": "light"
     },
     "output_type": "display_data"
    }
   ],
   "source": [
    "#plot accuracy\n",
    "for x in range(0,2):\n",
    "    plt.plot(fit_history_func[x].history['categorical_accuracy'], label='Train. fold-'+str(x))\n",
    "    plt.plot(fit_history_func[x].history['val_categorical_accuracy'], label='Val. fold-'+str(x))\n",
    "    plt.title('DNN ($D_{in}$=7, $D_{hidden}$=2, 0.2Drop)')\n",
    "    plt.xlabel('epoch')\n",
    "    plt.ylabel('accuracy')\n",
    "    plt.legend(loc='lower right')\n",
    "\n",
    "saveit = \"{}/{}\".format(path_tosave, \"dnn_accepo.png\") \n",
    "plt.savefig(saveit)\n",
    "plt.show()"
   ]
  },
  {
   "cell_type": "code",
   "execution_count": null,
   "metadata": {
    "colab": {
     "base_uri": "https://localhost:8080/"
    },
    "id": "fZoElcyiKvl3",
    "outputId": "7b846833-4169-4891-825d-2a6b2c5c42ba"
   },
   "outputs": [
    {
     "name": "stdout",
     "output_type": "stream",
     "text": [
      "Saving architecture to: /content/gdrive/MyDrive/vll_2LOS_cat3_lessvariable2methtjetsmtlep/architecture_cift_2hdm.json\n",
      "Saving weights to     : /content/gdrive/MyDrive/vll_2LOS_cat3_lessvariable2methtjetsmtlep/weights_cift_2hdm.h5\n"
     ]
    }
   ],
   "source": [
    "#save the training for even\n",
    "output_dir = path_tosave\n",
    "file_name = \"2hdm\"\n",
    "job_suff = \"_{}\".format(file_name)\n",
    "arch_name = \"architecture_cift{}.json\".format(job_suff)\n",
    "weights_name = \"weights_cift{}.h5\".format(job_suff)\n",
    "\n",
    "mkdir_p(output_dir)\n",
    "arch_name = \"{}/{}\".format(output_dir, arch_name)\n",
    "weights_name = \"{}/{}\".format(output_dir, weights_name)\n",
    "\n",
    "print(\"Saving architecture to: {}\".format(os.path.abspath(arch_name)))\n",
    "print(\"Saving weights to     : {}\".format(os.path.abspath(weights_name)))\n",
    "with open(arch_name, 'w') as arch_file :\n",
    "    arch_file.write(my_model_fin_func[0].to_json())\n",
    "my_model_fin_func[0].save_weights(weights_name)"
   ]
  },
  {
   "cell_type": "code",
   "execution_count": null,
   "metadata": {
    "colab": {
     "base_uri": "https://localhost:8080/"
    },
    "id": "6pHSmDQU3kfe",
    "outputId": "afa85847-94cd-454c-b810-ec0b33cf3c4a"
   },
   "outputs": [
    {
     "name": "stdout",
     "output_type": "stream",
     "text": [
      "Saving architecture to: /content/gdrive/MyDrive/vll_2LOS_cat3_lessvariable2methtjetsmtlep/architecture_tek_2hdm.json\n",
      "Saving weights to     : /content/gdrive/MyDrive/vll_2LOS_cat3_lessvariable2methtjetsmtlep/weights_tek_2hdm.h5\n"
     ]
    }
   ],
   "source": [
    "#save the training for odd\n",
    "output_dir = path_tosave\n",
    "file_name = \"2hdm\"\n",
    "job_suff = \"_{}\".format(file_name)\n",
    "arch_name = \"architecture_tek{}.json\".format(job_suff)\n",
    "weights_name = \"weights_tek{}.h5\".format(job_suff)\n",
    "\n",
    "mkdir_p(output_dir)\n",
    "arch_name = \"{}/{}\".format(output_dir, arch_name)\n",
    "weights_name = \"{}/{}\".format(output_dir, weights_name)\n",
    "\n",
    "print(\"Saving architecture to: {}\".format(os.path.abspath(arch_name)))\n",
    "print(\"Saving weights to     : {}\".format(os.path.abspath(weights_name)))\n",
    "with open(arch_name, 'w') as arch_file :\n",
    "    arch_file.write(my_model_fin_func[1].to_json())\n",
    "my_model_fin_func[1].save_weights(weights_name)"
   ]
  },
  {
   "cell_type": "code",
   "execution_count": null,
   "metadata": {
    "id": "gTC9ohuKKyId"
   },
   "outputs": [],
   "source": [
    "#load the model\n",
    "def load_model(arch_path, weights_path) :\n",
    "    #arch_name = \"/home/jovyan/test2/architecture_test2.json\"\n",
    "    #weights_name = \"/home/jovyan/test2/weights_test2.h5\"\n",
    "    print(os.path.abspath(arch_path))\n",
    "    print(\"Loading model architecture and weights (%, %)\".format(os.path.abspath(arch_path), os.path.abspath(weights_path)))\n",
    "    from tensorflow.keras.models import model_from_json\n",
    "    json_file = open(os.path.abspath(arch_path), 'r')\n",
    "    loaded_model = json_file.read()\n",
    "    json_file.close()\n",
    "    loaded_model = model_from_json(loaded_model)\n",
    "    loaded_model.load_weights(os.path.abspath(weights_path))\n",
    "    return loaded_model"
   ]
  },
  {
   "cell_type": "code",
   "execution_count": null,
   "metadata": {
    "colab": {
     "base_uri": "https://localhost:8080/"
    },
    "id": "DM1fYymh4Cap",
    "outputId": "c02fb5bb-7925-446d-ea65-d694e89af49b"
   },
   "outputs": [
    {
     "name": "stdout",
     "output_type": "stream",
     "text": [
      "/content/gdrive/MyDrive/vll_2LOS_cat3_lessvariable2methtjetsmtlep/architecture_cift_2hdm.json\n",
      "Loading model architecture and weights (%, %)\n"
     ]
    }
   ],
   "source": [
    "#load the even model\n",
    "arch_path = \"{}/architecture_cift_2hdm.json\".format(path_tosave)\n",
    "weights_path = \"{}/weights_cift_2hdm.h5\".format(path_tosave)\n",
    "my_model_loaded_cift = load_model(arch_path, weights_path)"
   ]
  },
  {
   "cell_type": "code",
   "execution_count": null,
   "metadata": {
    "colab": {
     "base_uri": "https://localhost:8080/"
    },
    "id": "LlDtNWcw4JHD",
    "outputId": "efed9903-db20-4182-ff17-e5808d858e06"
   },
   "outputs": [
    {
     "name": "stdout",
     "output_type": "stream",
     "text": [
      "/content/gdrive/MyDrive/vll_2LOS_cat3_lessvariable2methtjetsmtlep/architecture_tek_2hdm.json\n",
      "Loading model architecture and weights (%, %)\n"
     ]
    }
   ],
   "source": [
    "#load the odd model\n",
    "arch_path = \"{}/architecture_tek_2hdm.json\".format(path_tosave)\n",
    "weights_path = \"{}/weights_tek_2hdm.h5\".format(path_tosave)\n",
    "my_model_loaded_tek = load_model(arch_path, weights_path)"
   ]
  },
  {
   "cell_type": "code",
   "execution_count": null,
   "metadata": {
    "colab": {
     "base_uri": "https://localhost:8080/",
     "height": 990
    },
    "id": "NrDU1skr5HrE",
    "outputId": "a4bc698c-9083-4f44-d0c3-c458b9138166"
   },
   "outputs": [
    {
     "name": "stdout",
     "output_type": "stream",
     "text": [
      "6222/6222 [==============================] - 5s 831us/step\n",
      "5960/5960 [==============================] - 5s 824us/step\n",
      "[0.70893961 0.2275179  0.68039048 ... 0.32271549 0.35543424 0.06138942]\n",
      "[0.52945405 0.74895275 0.49606958 ... 0.25235799 0.22144151 0.40251288]\n",
      "[0.13938127 0.44707945 0.04740565 ... 0.06147441 0.07168212 0.75230289]\n",
      "[0.23389491 0.62276477 0.29755387 ... 0.61109596 0.59347725 0.2215893 ]\n",
      "[0.43361208 0.22620301 0.46049857 ... 0.37735274 0.3219851  0.54126024]\n",
      "[0.39290443 0.49265662 0.21510912 ... 0.21557327 0.21350604 0.16665931]\n",
      "[0.05716548 0.14971726 0.02205561 ... 0.06618849 0.05108846 0.71702123]\n",
      "[0.03693378 0.02484416 0.04343187 ... 0.37028927 0.45657343 0.05622685]\n",
      "[0.46771434 0.06026391 0.73748517 ... 0.72295231 0.7148118  0.08103784]\n"
     ]
    },
    {
     "data": {
      "image/png": "[encoded data removed]",
      "text/plain": [
       "<Figure size 432x288 with 1 Axes>"
      ]
     },
     "metadata": {
      "needs_background": "light"
     },
     "output_type": "display_data"
    },
    {
     "data": {
      "image/png": "[encoded data removed]",
      "text/plain": [
       "<Figure size 432x288 with 1 Axes>"
      ]
     },
     "metadata": {
      "needs_background": "light"
     },
     "output_type": "display_data"
    },
    {
     "data": {
      "image/png": "[encoded data removed]",
      "text/plain": [
       "<Figure size 432x288 with 1 Axes>"
      ]
     },
     "metadata": {
      "needs_background": "light"
     },
     "output_type": "display_data"
    }
   ],
   "source": [
    "#evaluate the model\n",
    "nn_scores_2 = make_nn_output_plots_tekcift( path_tosave, [my_model_loaded_cift,my_model_loaded_tek], inputs = inp_nonsc, samples = training_samples,  targets = targets, events=evtnum)"
   ]
  },
  {
   "cell_type": "code",
   "execution_count": null,
   "metadata": {
    "id": "7RQsLYiYLHdY"
   },
   "outputs": [],
   "source": [
    "#Confusion matrix\n",
    "import itertools\n",
    "from sklearn.metrics import confusion_matrix\n",
    "\n",
    "def plot_confusion_matrix(cm, classes,\n",
    "                          normalize=False,\n",
    "                          title='Confusion matrix',\n",
    "                          cmap=plt.cm.Blues):\n",
    "    \"\"\"\n",
    "    This function prints and plots the confusion matrix.\n",
    "    Normalization can be applied by setting `normalize=True`.\n",
    "    \"\"\"\n",
    "    if normalize:\n",
    "        cm = cm.astype('float') / cm.sum(axis=1)[:, np.newaxis]\n",
    "        print(\"Normalized confusion matrix\")\n",
    "    else:\n",
    "        print('Confusion matrix, without normalization')\n",
    "\n",
    "    print(cm)\n",
    "\n",
    "    plt.imshow(cm, interpolation='nearest', cmap=cmap)\n",
    "    plt.title(title)\n",
    "    plt.colorbar()\n",
    "    tick_marks = np.arange(len(classes))\n",
    "    plt.xticks(tick_marks, classes, rotation=45)\n",
    "    plt.yticks(tick_marks, classes)\n",
    "\n",
    "    fmt = '.2f' if normalize else 'd'\n",
    "    thresh = cm.max() / 2.\n",
    "    for i, j in itertools.product(range(cm.shape[0]), range(cm.shape[1])):\n",
    "        plt.text(j, i, format(cm[i, j], fmt),\n",
    "                 horizontalalignment=\"center\",\n",
    "                 color=\"white\" if cm[i, j] > thresh else \"black\")\n",
    "    bottom, top = plt.ylim()\n",
    "    #plt.ylim(bottom + 0.5, top - 0.5)\n",
    "    plt.tight_layout()\n",
    "    plt.ylabel('True label')\n",
    "    plt.xlabel('Predicted label')\n",
    "            \n",
    "    savename = \"conf_mat_tr.pdf\"\n",
    "\n",
    "    savename = \"{}/{}\".format(path_tosave, savename) \n",
    "    plt.savefig(savename, bbox_inches = 'tight', dpi = 200)"
   ]
  },
  {
   "cell_type": "code",
   "execution_count": null,
   "metadata": {
    "id": "A9MKV1YIWe3W"
   },
   "outputs": [],
   "source": [
    "mass = np.where(mass==501713., 200, mass)\n",
    "mass = np.where(mass==501714., 600, mass)\n",
    "mass = np.where(mass==501715., 1000, mass)\n",
    "# mass = np.where(mass==312443., 700, mass)\n",
    "# mass = np.where(mass==312444., 800, mass)\n",
    "# mass = np.where(mass==312445., 900, mass)\n",
    "# mass = np.where(mass==312446., 1000, mass)\n",
    "# mass = np.where(mass==501816., 300, mass)\n",
    "# mass = np.where(mass==501817., 400, mass)\n",
    "# mass = np.where(mass==501818., 500, mass)\n",
    "# mass = np.where(mass==501819., 600, mass)\n",
    "# mass = np.where(mass==501809., 400, mass)\n",
    "# mass = np.where(mass==501810., 500, mass)\n",
    "# mass = np.where(mass==501811., 600, mass)\n",
    "# mass = np.where(mass==501820., 400, mass)\n",
    "# mass = np.where(mass==501821., 500, mass)\n",
    "# mass = np.where(mass==501822., 600, mass)\n",
    "# mass = np.where(mass==501805., 300, mass)\n",
    "# mass = np.where(mass==501806., 400, mass)\n",
    "# mass = np.where(mass==501807., 500, mass)\n",
    "# mass = np.where(mass==501808., 600, mass)\n",
    "# mass = np.where(mass==501812., 300, mass)\n",
    "# mass = np.where(mass==501813., 400, mass)\n",
    "# mass = np.where(mass==501814., 500, mass)\n",
    "# mass = np.where(mass==501815., 600, mass)\n",
    "# mass = np.where(mass==501801., 300, mass)\n",
    "# mass = np.where(mass==501802., 400, mass)\n",
    "# mass = np.where(mass==501803., 500, mass)\n",
    "# mass = np.where(mass==501804., 600, mass)"
   ]
  },
  {
   "cell_type": "code",
   "execution_count": null,
   "metadata": {
    "id": "CL5i0FlOLLPS"
   },
   "outputs": [],
   "source": [
    "cnf_matrix = confusion_matrix(targets, nn_scores_2_cls)\n",
    "np.set_printoptions(precision=4)"
   ]
  },
  {
   "cell_type": "code",
   "execution_count": null,
   "metadata": {
    "colab": {
     "base_uri": "https://localhost:8080/"
    },
    "id": "7Sajq38UeZ4m",
    "outputId": "39fc262a-ce07-4034-ad5e-3ad93ccaa2bd"
   },
   "outputs": [
    {
     "data": {
      "text/plain": [
       "array([[ 10779,   5203,   2453],\n",
       "       [ 41313,  74611,  60537],\n",
       "       [  8792,  31391, 154713]])"
      ]
     },
     "execution_count": 41,
     "metadata": {},
     "output_type": "execute_result"
    }
   ],
   "source": [
    "cnf_matrix"
   ]
  },
  {
   "cell_type": "code",
   "execution_count": null,
   "metadata": {
    "colab": {
     "base_uri": "https://localhost:8080/",
     "height": 379
    },
    "id": "PTjJU5oSLMcm",
    "outputId": "57057543-abad-4ebc-f616-20b6a10a165e"
   },
   "outputs": [
    {
     "name": "stdout",
     "output_type": "stream",
     "text": [
      "Normalized confusion matrix\n",
      "[[0.5774 0.2889 0.1337]\n",
      " [0.2256 0.431  0.3434]\n",
      " [0.0452 0.1606 0.7943]]\n"
     ]
    },
    {
     "data": {
      "image/png": "[encoded data removed]",
      "text/plain": [
       "<Figure size 432x288 with 2 Axes>"
      ]
     },
     "metadata": {
      "needs_background": "light"
     },
     "output_type": "display_data"
    }
   ],
   "source": [
    "\n",
    "plot_confusion_matrix(cnf_matrix, classes=['hh','hv','vv'],\n",
    "                      normalize=True,\n",
    "                      title='Normalized confusion matrix')\n",
    "#'sstt','ttq','ttt','tttq','tttt'\n",
    "#classes=['hh','hz','wh','ww','wz','zz']"
   ]
  }
 ],
 "metadata": {
  "colab": {
   "authorship_tag": "ABX9TyOe+hENq+uFwlN9dp5V2A4J",
   "collapsed_sections": [],
   "include_colab_link": true,
   "name": "signalNN_vll_clean.ipynb",
   "provenance": []
  },
  "kernelspec": {
   "display_name": "Python 3",
   "language": "python",
   "name": "python3"
  }
 },
 "nbformat": 4,
 "nbformat_minor": 1
}
