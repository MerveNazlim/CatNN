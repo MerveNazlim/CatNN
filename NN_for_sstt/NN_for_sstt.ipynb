{
 "cells": [
  {
   "cell_type": "code",
   "execution_count": 1,
   "metadata": {},
   "outputs": [],
   "source": [
    "import tensorflow as tf\n",
    "from util import *\n",
    "from load_data import load_input_file, build_combined_input\n",
    "from NN_train import *\n",
    "path_tosave = 'sstt'"
   ]
  },
  {
   "cell_type": "code",
   "execution_count": 2,
   "metadata": {
    "scrolled": true
   },
   "outputs": [
    {
     "name": "stdout",
     "output_type": "stream",
     "text": [
      "Found 9 features on the dataset 9 features were loaded: \n",
      "\n",
      "nJets_OR\n",
      "jet_pseudoscore_DL1r0\n",
      "jet_pseudoscore_DL1r1\n",
      "jet_pseudoscore_DL1r2\n",
      "Mll01\n",
      "sumPsbtag\n",
      "HT_jets\n",
      "met_met\n",
      "HT_lep\n",
      " \n",
      "Dataset contains 270849 Signal events and 983568 Background events.\n"
     ]
    }
   ],
   "source": [
    "samples, feature_names = load_input_file('data/sstt_w.h5')\n",
    "input_features, targets, weights = build_combined_input(samples)"
   ]
  },
  {
   "cell_type": "code",
   "execution_count": 3,
   "metadata": {
    "scrolled": false
   },
   "outputs": [
    {
     "name": "stdout",
     "output_type": "stream",
     "text": [
      "\n",
      "======Weight Statistic========================================\n",
      "Weights::        W(1)=1229.8, W(0)=1850.77\n",
      "Scaled weights:: W(1)=627209, W(0)=627208\n",
      "==============================================================\n"
     ]
    }
   ],
   "source": [
    "ScaleWeights(targets,weights)\n",
    "#scale the input between 0-1\n",
    "scaler = StandardScaler().fit(input_features)\n",
    "input_scaled = scaler.transform(input_features)"
   ]
  },
  {
   "cell_type": "code",
   "execution_count": 4,
   "metadata": {},
   "outputs": [],
   "source": [
    "train, val, test = Train_Val_Test_Split(input_scaled, targets, weights)\n",
    "n_epochs = 100\n",
    "batch_size = 2000"
   ]
  },
  {
   "cell_type": "code",
   "execution_count": 5,
   "metadata": {
    "collapsed": true
   },
   "outputs": [
    {
     "name": "stdout",
     "output_type": "stream",
     "text": [
      "Model: \"model\"\n",
      "_________________________________________________________________\n",
      "Layer (type)                 Output Shape              Param #   \n",
      "=================================================================\n",
      "input_1 (InputLayer)         [(None, 9)]               0         \n",
      "_________________________________________________________________\n",
      "dense (Dense)                (None, 36)                360       \n",
      "_________________________________________________________________\n",
      "dropout (Dropout)            (None, 36)                0         \n",
      "_________________________________________________________________\n",
      "dense_1 (Dense)              (None, 48)                1776      \n",
      "_________________________________________________________________\n",
      "OutputLayer (Dense)          (None, 1)                 49        \n",
      "=================================================================\n",
      "Total params: 2,185\n",
      "Trainable params: 2,185\n",
      "Non-trainable params: 0\n",
      "_________________________________________________________________\n",
      "------------------------------------------------------------------------\n",
      "Training for fold 1 ...\n",
      "Train on 514311 samples, validate on 514311 samples\n",
      "INFO LR Schedule: 0.01\n",
      "Epoch 1/100\n",
      "510000/514311 [============================>.] - ETA: 0s - loss: 0.3405 - accuracy: 0.8722"
     ]
    },
    {
     "name": "stderr",
     "output_type": "stream",
     "text": [
      "/home/avdgraaf/.local/anaconda3/lib/python3.7/site-packages/tensorflow/python/keras/engine/training.py:2325: UserWarning: `Model.state_updates` will be removed in a future version. This property should not be used in TensorFlow 2.0, as `updates` are applied automatically.\n",
      "  warnings.warn('`Model.state_updates` will be removed in a future version. '\n"
     ]
    },
    {
     "name": "stdout",
     "output_type": "stream",
     "text": [
      "514311/514311 [==============================] - 1s 2us/sample - loss: 0.3403 - accuracy: 0.8724 - val_loss: 0.2541 - val_accuracy: 0.8986\n",
      "INFO LR Schedule: 0.01\n",
      "Epoch 2/100\n",
      "514311/514311 [==============================] - 1s 2us/sample - loss: 0.3010 - accuracy: 0.8934 - val_loss: 0.2624 - val_accuracy: 0.8954\n",
      "INFO LR Schedule: 0.009\n",
      "Epoch 3/100\n",
      "514311/514311 [==============================] - 1s 2us/sample - loss: 0.2944 - accuracy: 0.8959 - val_loss: 0.2404 - val_accuracy: 0.9037\n",
      "INFO LR Schedule: 0.009\n",
      "Epoch 4/100\n",
      "514311/514311 [==============================] - 1s 1us/sample - loss: 0.2911 - accuracy: 0.8963 - val_loss: 0.2430 - val_accuracy: 0.9029\n",
      "INFO LR Schedule: 0.009\n",
      "Epoch 5/100\n",
      "514311/514311 [==============================] - 1s 2us/sample - loss: 0.2889 - accuracy: 0.8971 - val_loss: 0.2278 - val_accuracy: 0.9087\n",
      "INFO LR Schedule: 0.0081\n",
      "Epoch 6/100\n",
      "514311/514311 [==============================] - 1s 2us/sample - loss: 0.2876 - accuracy: 0.8979 - val_loss: 0.2442 - val_accuracy: 0.9023\n",
      "INFO LR Schedule: 0.0081\n",
      "Epoch 7/100\n",
      "514311/514311 [==============================] - 1s 1us/sample - loss: 0.2857 - accuracy: 0.8982 - val_loss: 0.2504 - val_accuracy: 0.8990\n",
      "INFO LR Schedule: 0.0081\n",
      "Epoch 8/100\n",
      "514311/514311 [==============================] - 1s 1us/sample - loss: 0.2853 - accuracy: 0.8981 - val_loss: 0.2367 - val_accuracy: 0.9053\n",
      "INFO LR Schedule: 0.0073\n",
      "Epoch 9/100\n",
      "514311/514311 [==============================] - 1s 1us/sample - loss: 0.2846 - accuracy: 0.8984 - val_loss: 0.2614 - val_accuracy: 0.8941\n",
      "INFO LR Schedule: 0.0073\n",
      "Epoch 10/100\n",
      "514311/514311 [==============================] - 1s 1us/sample - loss: 0.2836 - accuracy: 0.8986 - val_loss: 0.2324 - val_accuracy: 0.9073\n",
      "INFO LR Schedule: 0.0073\n",
      "Epoch 11/100\n",
      "514311/514311 [==============================] - 1s 1us/sample - loss: 0.2831 - accuracy: 0.8990 - val_loss: 0.2337 - val_accuracy: 0.9075\n",
      "INFO LR Schedule: 0.0066\n",
      "Epoch 12/100\n",
      "514311/514311 [==============================] - 1s 1us/sample - loss: 0.2824 - accuracy: 0.8999 - val_loss: 0.2375 - val_accuracy: 0.9045\n",
      "INFO LR Schedule: 0.0066\n",
      "Epoch 13/100\n",
      "514311/514311 [==============================] - 1s 1us/sample - loss: 0.2822 - accuracy: 0.8990 - val_loss: 0.2348 - val_accuracy: 0.9067\n",
      "INFO LR Schedule: 0.0066\n",
      "Epoch 14/100\n",
      "514311/514311 [==============================] - 1s 1us/sample - loss: 0.2818 - accuracy: 0.8994 - val_loss: 0.2375 - val_accuracy: 0.9055\n",
      "INFO LR Schedule: 0.0059\n",
      "Epoch 15/100\n",
      "514311/514311 [==============================] - 1s 1us/sample - loss: 0.2812 - accuracy: 0.8996 - val_loss: 0.2496 - val_accuracy: 0.9011\n",
      "INFO LR Schedule: 0.0059\n",
      "Epoch 16/100\n",
      "514311/514311 [==============================] - 1s 1us/sample - loss: 0.2813 - accuracy: 0.9001 - val_loss: 0.2508 - val_accuracy: 0.8988\n",
      "INFO LR Schedule: 0.0059\n",
      "Epoch 17/100\n",
      "514311/514311 [==============================] - 1s 1us/sample - loss: 0.2806 - accuracy: 0.8998 - val_loss: 0.2454 - val_accuracy: 0.9005\n",
      "INFO LR Schedule: 0.0053\n",
      "Epoch 18/100\n",
      "514311/514311 [==============================] - 1s 1us/sample - loss: 0.2802 - accuracy: 0.8994 - val_loss: 0.2408 - val_accuracy: 0.9030\n",
      "INFO LR Schedule: 0.0053\n",
      "Epoch 19/100\n",
      "514311/514311 [==============================] - 1s 2us/sample - loss: 0.2802 - accuracy: 0.9000 - val_loss: 0.2403 - val_accuracy: 0.9035\n",
      "INFO LR Schedule: 0.0053\n",
      "Epoch 20/100\n",
      "514311/514311 [==============================] - 1s 1us/sample - loss: 0.2801 - accuracy: 0.9000 - val_loss: 0.2257 - val_accuracy: 0.9105\n",
      "INFO LR Schedule: 0.0048\n",
      "Epoch 21/100\n",
      "514311/514311 [==============================] - 1s 1us/sample - loss: 0.2798 - accuracy: 0.8998 - val_loss: 0.2370 - val_accuracy: 0.9080\n",
      "INFO LR Schedule: 0.0048\n",
      "Epoch 22/100\n",
      "514311/514311 [==============================] - 1s 2us/sample - loss: 0.2797 - accuracy: 0.9001 - val_loss: 0.2386 - val_accuracy: 0.9037\n",
      "INFO LR Schedule: 0.0048\n",
      "Epoch 23/100\n",
      "514311/514311 [==============================] - 1s 1us/sample - loss: 0.2794 - accuracy: 0.8999 - val_loss: 0.2431 - val_accuracy: 0.9042\n",
      "INFO LR Schedule: 0.0043\n",
      "Epoch 24/100\n",
      "514311/514311 [==============================] - 1s 2us/sample - loss: 0.2797 - accuracy: 0.9000 - val_loss: 0.2392 - val_accuracy: 0.9035\n",
      "INFO LR Schedule: 0.0043\n",
      "Epoch 25/100\n",
      "514311/514311 [==============================] - 1s 1us/sample - loss: 0.2791 - accuracy: 0.9003 - val_loss: 0.2460 - val_accuracy: 0.9027\n",
      "INFO Setting learning rate back to initial LR (=0.01)\n",
      "INFO LR Schedule: 0.01\n",
      "Epoch 26/100\n",
      "514311/514311 [==============================] - 1s 1us/sample - loss: 0.2800 - accuracy: 0.9001 - val_loss: 0.2292 - val_accuracy: 0.9102\n",
      "INFO Setting learning rate back to initial LR (=0.01)\n",
      "INFO LR Schedule: 0.01\n",
      "Epoch 27/100\n",
      "514311/514311 [==============================] - 1s 2us/sample - loss: 0.2796 - accuracy: 0.9002 - val_loss: 0.2372 - val_accuracy: 0.9047\n",
      "INFO Setting learning rate back to initial LR (=0.01)\n",
      "INFO LR Schedule: 0.009\n",
      "Epoch 28/100\n",
      "514311/514311 [==============================] - 1s 1us/sample - loss: 0.2791 - accuracy: 0.9001 - val_loss: 0.2329 - val_accuracy: 0.9084\n",
      "INFO Setting learning rate back to initial LR (=0.01)\n",
      "INFO LR Schedule: 0.009\n",
      "Epoch 29/100\n",
      "514311/514311 [==============================] - 1s 1us/sample - loss: 0.2791 - accuracy: 0.8998 - val_loss: 0.2486 - val_accuracy: 0.9009\n",
      "INFO Setting learning rate back to initial LR (=0.01)\n",
      "INFO LR Schedule: 0.009\n",
      "Epoch 30/100\n",
      "514311/514311 [==============================] - 1s 1us/sample - loss: 0.2789 - accuracy: 0.9004 - val_loss: 0.2403 - val_accuracy: 0.9050\n",
      "INFO Setting learning rate back to initial LR (=0.01)\n",
      "INFO LR Schedule: 0.0081\n",
      "Epoch 31/100\n",
      "514311/514311 [==============================] - 1s 1us/sample - loss: 0.2783 - accuracy: 0.9003 - val_loss: 0.2446 - val_accuracy: 0.9010\n",
      "INFO Setting learning rate back to initial LR (=0.01)\n",
      "INFO LR Schedule: 0.0081\n",
      "Epoch 32/100\n",
      "514311/514311 [==============================] - 1s 1us/sample - loss: 0.2783 - accuracy: 0.9007 - val_loss: 0.2485 - val_accuracy: 0.8998\n",
      "INFO Setting learning rate back to initial LR (=0.01)\n",
      "INFO LR Schedule: 0.0081\n",
      "Epoch 33/100\n",
      "514311/514311 [==============================] - 1s 1us/sample - loss: 0.2785 - accuracy: 0.9006 - val_loss: 0.2409 - val_accuracy: 0.9054\n",
      "INFO Setting learning rate back to initial LR (=0.01)\n",
      "INFO LR Schedule: 0.0073\n",
      "Epoch 34/100\n",
      "514311/514311 [==============================] - 1s 1us/sample - loss: 0.2778 - accuracy: 0.9005 - val_loss: 0.2456 - val_accuracy: 0.9023\n",
      "INFO Setting learning rate back to initial LR (=0.01)\n",
      "INFO LR Schedule: 0.0073\n",
      "Epoch 35/100\n",
      "514311/514311 [==============================] - 1s 2us/sample - loss: 0.2783 - accuracy: 0.9005 - val_loss: 0.2409 - val_accuracy: 0.9056\n",
      "INFO Setting learning rate back to initial LR (=0.01)\n",
      "INFO LR Schedule: 0.0073\n",
      "Epoch 36/100\n",
      "514311/514311 [==============================] - 1s 1us/sample - loss: 0.2778 - accuracy: 0.9005 - val_loss: 0.2489 - val_accuracy: 0.9025\n",
      "INFO Setting learning rate back to initial LR (=0.01)\n",
      "INFO LR Schedule: 0.0066\n",
      "Epoch 37/100\n",
      "514311/514311 [==============================] - 1s 1us/sample - loss: 0.2779 - accuracy: 0.9008 - val_loss: 0.2478 - val_accuracy: 0.9018\n",
      "INFO Setting learning rate back to initial LR (=0.01)\n",
      "INFO LR Schedule: 0.0066\n",
      "Epoch 38/100\n",
      "514311/514311 [==============================] - 1s 1us/sample - loss: 0.2775 - accuracy: 0.9006 - val_loss: 0.2275 - val_accuracy: 0.9098\n",
      "INFO Setting learning rate back to initial LR (=0.01)\n",
      "INFO LR Schedule: 0.0066\n",
      "Epoch 39/100\n",
      "514311/514311 [==============================] - 1s 1us/sample - loss: 0.2772 - accuracy: 0.9006 - val_loss: 0.2564 - val_accuracy: 0.8976\n",
      "INFO Setting learning rate back to initial LR (=0.01)\n",
      "INFO LR Schedule: 0.0059\n",
      "Epoch 40/100\n",
      "514311/514311 [==============================] - 1s 1us/sample - loss: 0.2769 - accuracy: 0.9006 - val_loss: 0.2491 - val_accuracy: 0.9024\n",
      "Epoch 00040: early stopping\n",
      "Score for fold 1: loss of 0.2490556860008117; accuracy of 90.24325609207153%\n",
      "Model: \"model_1\"\n",
      "_________________________________________________________________\n",
      "Layer (type)                 Output Shape              Param #   \n",
      "=================================================================\n",
      "input_2 (InputLayer)         [(None, 9)]               0         \n",
      "_________________________________________________________________\n",
      "dense_2 (Dense)              (None, 36)                360       \n",
      "_________________________________________________________________\n",
      "dropout_1 (Dropout)          (None, 36)                0         \n",
      "_________________________________________________________________\n",
      "dense_3 (Dense)              (None, 48)                1776      \n",
      "_________________________________________________________________\n",
      "OutputLayer (Dense)          (None, 1)                 49        \n",
      "=================================================================\n",
      "Total params: 2,185\n",
      "Trainable params: 2,185\n",
      "Non-trainable params: 0\n",
      "_________________________________________________________________\n",
      "------------------------------------------------------------------------\n",
      "Training for fold 2 ...\n"
     ]
    },
    {
     "name": "stdout",
     "output_type": "stream",
     "text": [
      "Train on 514311 samples, validate on 514311 samples\n",
      "INFO LR Schedule: 0.01\n",
      "Epoch 1/100\n",
      "514311/514311 [==============================] - 1s 2us/sample - loss: 0.3395 - accuracy: 0.8757 - val_loss: 0.2554 - val_accuracy: 0.8979\n",
      "INFO LR Schedule: 0.01\n",
      "Epoch 2/100\n",
      "514311/514311 [==============================] - 1s 2us/sample - loss: 0.3016 - accuracy: 0.8936 - val_loss: 0.2570 - val_accuracy: 0.8972\n",
      "INFO LR Schedule: 0.009\n",
      "Epoch 3/100\n",
      "514311/514311 [==============================] - 1s 1us/sample - loss: 0.2946 - accuracy: 0.8967 - val_loss: 0.2524 - val_accuracy: 0.8995\n",
      "INFO LR Schedule: 0.009\n",
      "Epoch 4/100\n",
      "514311/514311 [==============================] - 1s 2us/sample - loss: 0.2910 - accuracy: 0.8972 - val_loss: 0.2436 - val_accuracy: 0.9020\n",
      "INFO LR Schedule: 0.009\n",
      "Epoch 5/100\n",
      "514311/514311 [==============================] - 1s 1us/sample - loss: 0.2888 - accuracy: 0.8981 - val_loss: 0.2442 - val_accuracy: 0.9010\n",
      "INFO LR Schedule: 0.0081\n",
      "Epoch 6/100\n",
      "514311/514311 [==============================] - 1s 1us/sample - loss: 0.2870 - accuracy: 0.8983 - val_loss: 0.2339 - val_accuracy: 0.9058\n",
      "INFO LR Schedule: 0.0081\n",
      "Epoch 7/100\n",
      "514311/514311 [==============================] - 1s 1us/sample - loss: 0.2856 - accuracy: 0.8986 - val_loss: 0.2428 - val_accuracy: 0.9007\n",
      "INFO LR Schedule: 0.0081\n",
      "Epoch 8/100\n",
      "514311/514311 [==============================] - 1s 1us/sample - loss: 0.2846 - accuracy: 0.8986 - val_loss: 0.2414 - val_accuracy: 0.9022\n",
      "INFO LR Schedule: 0.0073\n",
      "Epoch 9/100\n",
      "514311/514311 [==============================] - 1s 1us/sample - loss: 0.2838 - accuracy: 0.8987 - val_loss: 0.2375 - val_accuracy: 0.9052\n",
      "INFO LR Schedule: 0.0073\n",
      "Epoch 10/100\n",
      "514311/514311 [==============================] - 1s 1us/sample - loss: 0.2837 - accuracy: 0.8990 - val_loss: 0.2402 - val_accuracy: 0.9046\n",
      "INFO LR Schedule: 0.0073\n",
      "Epoch 11/100\n",
      "514311/514311 [==============================] - 1s 1us/sample - loss: 0.2829 - accuracy: 0.8996 - val_loss: 0.2394 - val_accuracy: 0.9023\n",
      "INFO LR Schedule: 0.0066\n",
      "Epoch 12/100\n",
      "514311/514311 [==============================] - 1s 1us/sample - loss: 0.2822 - accuracy: 0.8997 - val_loss: 0.2310 - val_accuracy: 0.9082\n",
      "INFO LR Schedule: 0.0066\n",
      "Epoch 13/100\n",
      "514311/514311 [==============================] - 1s 1us/sample - loss: 0.2815 - accuracy: 0.8996 - val_loss: 0.2315 - val_accuracy: 0.9064\n",
      "INFO LR Schedule: 0.0066\n",
      "Epoch 14/100\n",
      "514311/514311 [==============================] - 1s 1us/sample - loss: 0.2813 - accuracy: 0.8997 - val_loss: 0.2440 - val_accuracy: 0.9015\n",
      "INFO LR Schedule: 0.0059\n",
      "Epoch 15/100\n",
      "514311/514311 [==============================] - 1s 1us/sample - loss: 0.2811 - accuracy: 0.8997 - val_loss: 0.2444 - val_accuracy: 0.9010\n",
      "INFO LR Schedule: 0.0059\n",
      "Epoch 16/100\n",
      "514311/514311 [==============================] - 1s 2us/sample - loss: 0.2806 - accuracy: 0.8999 - val_loss: 0.2426 - val_accuracy: 0.9031\n",
      "INFO LR Schedule: 0.0059\n",
      "Epoch 17/100\n",
      "514311/514311 [==============================] - 1s 1us/sample - loss: 0.2799 - accuracy: 0.9001 - val_loss: 0.2456 - val_accuracy: 0.9018\n",
      "INFO LR Schedule: 0.0053\n",
      "Epoch 18/100\n",
      "514311/514311 [==============================] - 1s 1us/sample - loss: 0.2799 - accuracy: 0.9001 - val_loss: 0.2396 - val_accuracy: 0.9033\n",
      "INFO LR Schedule: 0.0053\n",
      "Epoch 19/100\n",
      "514311/514311 [==============================] - 1s 1us/sample - loss: 0.2801 - accuracy: 0.9003 - val_loss: 0.2414 - val_accuracy: 0.9028\n",
      "INFO LR Schedule: 0.0053\n",
      "Epoch 20/100\n",
      "514311/514311 [==============================] - 1s 2us/sample - loss: 0.2798 - accuracy: 0.9001 - val_loss: 0.2497 - val_accuracy: 0.8999\n",
      "INFO LR Schedule: 0.0048\n",
      "Epoch 21/100\n",
      "514311/514311 [==============================] - 1s 2us/sample - loss: 0.2789 - accuracy: 0.9004 - val_loss: 0.2388 - val_accuracy: 0.9033\n",
      "INFO LR Schedule: 0.0048\n",
      "Epoch 22/100\n",
      "514311/514311 [==============================] - 1s 1us/sample - loss: 0.2792 - accuracy: 0.9007 - val_loss: 0.2404 - val_accuracy: 0.9036\n",
      "INFO LR Schedule: 0.0048\n",
      "Epoch 23/100\n",
      "514311/514311 [==============================] - 1s 1us/sample - loss: 0.2786 - accuracy: 0.9009 - val_loss: 0.2433 - val_accuracy: 0.9015\n",
      "INFO LR Schedule: 0.0043\n",
      "Epoch 24/100\n",
      "514311/514311 [==============================] - 1s 2us/sample - loss: 0.2788 - accuracy: 0.9005 - val_loss: 0.2349 - val_accuracy: 0.9064\n",
      "INFO LR Schedule: 0.0043\n",
      "Epoch 25/100\n",
      "514311/514311 [==============================] - 1s 2us/sample - loss: 0.2786 - accuracy: 0.9007 - val_loss: 0.2342 - val_accuracy: 0.9054\n",
      "INFO Setting learning rate back to initial LR (=0.01)\n",
      "INFO LR Schedule: 0.01\n",
      "Epoch 26/100\n",
      "514311/514311 [==============================] - 1s 2us/sample - loss: 0.2789 - accuracy: 0.9005 - val_loss: 0.2396 - val_accuracy: 0.9022\n",
      "INFO Setting learning rate back to initial LR (=0.01)\n",
      "INFO LR Schedule: 0.01\n",
      "Epoch 27/100\n",
      "514311/514311 [==============================] - 1s 2us/sample - loss: 0.2788 - accuracy: 0.9004 - val_loss: 0.2357 - val_accuracy: 0.9064\n",
      "INFO Setting learning rate back to initial LR (=0.01)\n",
      "INFO LR Schedule: 0.009\n",
      "Epoch 28/100\n",
      "514311/514311 [==============================] - 1s 2us/sample - loss: 0.2787 - accuracy: 0.9006 - val_loss: 0.2417 - val_accuracy: 0.9042\n",
      "INFO Setting learning rate back to initial LR (=0.01)\n",
      "INFO LR Schedule: 0.009\n",
      "Epoch 29/100\n",
      "514311/514311 [==============================] - 1s 2us/sample - loss: 0.2781 - accuracy: 0.9008 - val_loss: 0.2393 - val_accuracy: 0.9029\n",
      "INFO Setting learning rate back to initial LR (=0.01)\n",
      "INFO LR Schedule: 0.009\n",
      "Epoch 30/100\n",
      "514311/514311 [==============================] - 1s 2us/sample - loss: 0.2783 - accuracy: 0.9001 - val_loss: 0.2463 - val_accuracy: 0.9007\n",
      "INFO Setting learning rate back to initial LR (=0.01)\n",
      "INFO LR Schedule: 0.0081\n",
      "Epoch 31/100\n",
      "514311/514311 [==============================] - 1s 2us/sample - loss: 0.2783 - accuracy: 0.9008 - val_loss: 0.2333 - val_accuracy: 0.9066\n",
      "INFO Setting learning rate back to initial LR (=0.01)\n",
      "INFO LR Schedule: 0.0081\n",
      "Epoch 32/100\n",
      "514311/514311 [==============================] - 1s 2us/sample - loss: 0.2778 - accuracy: 0.9006 - val_loss: 0.2492 - val_accuracy: 0.8988\n",
      "Epoch 00032: early stopping\n",
      "Score for fold 2: loss of 0.24920115962001543; accuracy of 89.87616300582886%\n"
     ]
    }
   ],
   "source": [
    "# Function for Kfold Crossvalidation Training, it returns a list of the history and a list of the the models\n",
    "#num_folds = 2\n",
    "#history_list, model_list = Train_NN_Kfold(train, val, n_epochs, batch_size, num_folds)"
   ]
  },
  {
   "cell_type": "code",
   "execution_count": 6,
   "metadata": {},
   "outputs": [
    {
     "name": "stdout",
     "output_type": "stream",
     "text": [
      "Model: \"model_2\"\n",
      "_________________________________________________________________\n",
      "Layer (type)                 Output Shape              Param #   \n",
      "=================================================================\n",
      "input_3 (InputLayer)         [(None, 9)]               0         \n",
      "_________________________________________________________________\n",
      "dense_4 (Dense)              (None, 36)                360       \n",
      "_________________________________________________________________\n",
      "dropout_2 (Dropout)          (None, 36)                0         \n",
      "_________________________________________________________________\n",
      "dense_5 (Dense)              (None, 48)                1776      \n",
      "_________________________________________________________________\n",
      "OutputLayer (Dense)          (None, 1)                 49        \n",
      "=================================================================\n",
      "Total params: 2,185\n",
      "Trainable params: 2,185\n",
      "Non-trainable params: 0\n",
      "_________________________________________________________________\n"
     ]
    }
   ],
   "source": [
    "input_shape = train[0].shape[1]\n",
    "model = Create_Model_basic(input_shape)"
   ]
  },
  {
   "cell_type": "code",
   "execution_count": 7,
   "metadata": {},
   "outputs": [],
   "source": [
    "#fit_history = Train_NN(model, train, val, n_epochs, batch_size)\n",
    "#Plot_Metrics(fit_history, path_tosave)\n",
    "#Save_Model(model, \"sstt_1\", path_tosave)"
   ]
  },
  {
   "cell_type": "code",
   "execution_count": 8,
   "metadata": {
    "scrolled": true
   },
   "outputs": [
    {
     "name": "stdout",
     "output_type": "stream",
     "text": [
      "Loading model architecture and weights (/mnt/c/Users/aaron/Desktop/CatNN/NN_for_sstt/sstt/architecture_sstt_1.json, /mnt/c/Users/aaron/Desktop/CatNN/NN_for_sstt/sstt/weights_sstt_1.h5)\n"
     ]
    },
    {
     "data": {
      "image/png": "[encoded data removed]",
      "text/plain": [
       "<Figure size 432x288 with 1 Axes>"
      ]
     },
     "metadata": {
      "needs_background": "light"
     },
     "output_type": "display_data"
    }
   ],
   "source": [
    "model=Load_Model(\"sstt_1\", path_tosave)\n",
    "Plot_NN_Output(model, train, test, False)"
   ]
  },
  {
   "cell_type": "code",
   "execution_count": 9,
   "metadata": {},
   "outputs": [
    {
     "data": {
      "image/png": "[encoded data removed]",
      "text/plain": [
       "<Figure size 432x288 with 1 Axes>"
      ]
     },
     "metadata": {
      "needs_background": "light"
     },
     "output_type": "display_data"
    }
   ],
   "source": [
    "plot_roc_curve(model, test, path_tosave=path_tosave)"
   ]
  }
 ],
 "metadata": {
  "kernelspec": {
   "display_name": "Python 3",
   "language": "python",
   "name": "python3"
  },
  "language_info": {
   "codemirror_mode": {
    "name": "ipython",
    "version": 3
   },
   "file_extension": ".py",
   "mimetype": "text/x-python",
   "name": "python",
   "nbconvert_exporter": "python",
   "pygments_lexer": "ipython3",
   "version": "3.7.6"
  }
 },
 "nbformat": 4,
 "nbformat_minor": 4
}
