{
 "cells": [
  {
   "cell_type": "code",
   "execution_count": 1,
   "metadata": {},
   "outputs": [],
   "source": [
    "import tensorflow as tf\n",
    "import pickle\n",
    "import uncertainties.unumpy as unp\n",
    "from util import *\n",
    "from load_data import load_input_file, build_combined_input\n",
    "from NN_train import *\n",
    "path_tosave = 'Models/TopWorkshop22'\n",
    "features_to_ignore = []\n",
    "#features_to_ignore = [\"DPhill_SS\"]\n",
    "features_to_ignore = [\"DRll01\",\"Mll01\",\"DEtall_SS\",\"jet_pseudoscore_DL1r0\",\"jet_pseudoscore_DL1r1\",\"jet_pseudoscore_DL1r2\",\"nJets_OR_DL1r_77\",\"sumPsbtag77\"]"
   ]
  },
  {
   "cell_type": "code",
   "execution_count": 2,
   "metadata": {},
   "outputs": [
    {
     "name": "stdout",
     "output_type": "stream",
     "text": [
      "Ignoring feature:  DRll01\n",
      "Ignoring feature:  Mll01\n",
      "Ignoring feature:  DEtall_SS\n",
      "Ignoring feature:  jet_pseudoscore_DL1r0\n",
      "Ignoring feature:  jet_pseudoscore_DL1r1\n",
      "Ignoring feature:  jet_pseudoscore_DL1r2\n",
      "Ignoring feature:  nJets_OR_DL1r_77\n",
      "Ignoring feature:  sumPsbtag77\n",
      "Found 16 features on the dataset 8 features were loaded: \n",
      "\n",
      "DPhill_SS\n",
      "HT_jets\n",
      "HT_lep\n",
      "MtLepMet\n",
      "jet_pt0_nofwd\n",
      "met_met\n",
      "nJets_OR\n",
      "sumPsbtag\n",
      " \n",
      "Dataset contains extra labels for different backgrounds!\n",
      "Class 0  :  253953\n",
      "Class 1  :  231587\n",
      "Class 2  :  3249\n",
      "Class 3  :  310859\n",
      "Class 4  :  190589\n",
      "Class 5  :  223033\n",
      "Class 6  :  355647\n",
      "Class 7  :  109991\n",
      "Class 8  :  1039\n",
      "Dataset contains 253953 Signal events and 1425994 Background events.\n"
     ]
    }
   ],
   "source": [
    "samples, feature_names, class_names, class_no = load_input_file('data/sstt_multiclass_background_final.h5', features_to_ignore)\n",
    "input_features, targets, class_labels, weights = build_combined_input(samples)"
   ]
  },
  {
   "cell_type": "code",
   "execution_count": 3,
   "metadata": {},
   "outputs": [
    {
     "name": "stdout",
     "output_type": "stream",
     "text": [
      "['signal' 'ttZ' 'tty' 'ttW' 'tttt' 'ttH' 'Other' 'Diboson' 'Fakes']\n",
      "[0 1 2 3 4 5 6 7 8]\n"
     ]
    }
   ],
   "source": [
    "index_sort = np.argsort(class_no)\n",
    "class_names = (np.array(class_names)[index_sort])\n",
    "class_no = np.sort(class_no)\n",
    "print(class_names)\n",
    "print(class_no)\n",
    "No_Classes = class_no.max()+1"
   ]
  },
  {
   "cell_type": "code",
   "execution_count": 4,
   "metadata": {},
   "outputs": [],
   "source": [
    "Phi = input_features[:,0]\n",
    "Phi_background = Phi[class_labels!=0]\n",
    "input_features = input_features[:,1:8]"
   ]
  },
  {
   "cell_type": "code",
   "execution_count": 5,
   "metadata": {
    "scrolled": true
   },
   "outputs": [],
   "source": [
    "input_features = input_features[class_labels!=0]"
   ]
  },
  {
   "cell_type": "code",
   "execution_count": 6,
   "metadata": {},
   "outputs": [
    {
     "name": "stdout",
     "output_type": "stream",
     "text": [
      "\n",
      "======Weight Statistic========================================\n",
      "Weights::        W(1)=1152.66, W(0)=2983.69\n",
      "Scaled weights:: W(1)=839974, W(0)=839974\n",
      "==============================================================\n"
     ]
    }
   ],
   "source": [
    "scaler = pickle.load(open(path_tosave + '/scaler.pkl','rb'))\n",
    "ScaleWeights(targets,weights)\n",
    "input_scaled = scaler.transform(input_features)"
   ]
  },
  {
   "cell_type": "code",
   "execution_count": 7,
   "metadata": {
    "scrolled": false
   },
   "outputs": [
    {
     "name": "stdout",
     "output_type": "stream",
     "text": [
      "Loading model architecture and weights (/mnt/c/Users/aaron/Desktop/SSTT/CatNN/NN_for_sstt/Models/TopWorkshop22/architecture.json, /mnt/c/Users/aaron/Desktop/SSTT/CatNN/NN_for_sstt/Models/TopWorkshop22/weights.h5)\n"
     ]
    }
   ],
   "source": [
    "model=Load_Model(path_tosave)"
   ]
  },
  {
   "cell_type": "code",
   "execution_count": 8,
   "metadata": {
    "scrolled": true
   },
   "outputs": [],
   "source": [
    "inp_bck_Phi_larger2 = input_scaled[Phi_background >= 2.0]\n",
    "inp_bck_Phi_smaller2 = input_scaled[Phi_background < 2.0]"
   ]
  },
  {
   "cell_type": "code",
   "execution_count": 9,
   "metadata": {},
   "outputs": [
    {
     "name": "stderr",
     "output_type": "stream",
     "text": [
      "/home/avdgraaf/.local/anaconda3/lib/python3.7/site-packages/tensorflow/python/keras/engine/training.py:2325: UserWarning: `Model.state_updates` will be removed in a future version. This property should not be used in TensorFlow 2.0, as `updates` are applied automatically.\n",
      "  warnings.warn('`Model.state_updates` will be removed in a future version. '\n"
     ]
    }
   ],
   "source": [
    "NN_Out = model.predict(input_scaled)\n",
    "NN_Out_larger2 = model.predict(inp_bck_Phi_larger2)\n",
    "NN_Out_smaller2 = model.predict(inp_bck_Phi_smaller2)"
   ]
  },
  {
   "cell_type": "code",
   "execution_count": 10,
   "metadata": {},
   "outputs": [],
   "source": [
    "def Calc_Bin_Center(bins):\n",
    "    bin_centers = np.zeros([bins.size-1])\n",
    "    for i in range(bins.size-1):\n",
    "        bin_centers[i] = (bins[i] + bins[i+1])/2\n",
    "    return bin_centers"
   ]
  },
  {
   "cell_type": "code",
   "execution_count": 15,
   "metadata": {
    "scrolled": false
   },
   "outputs": [
    {
     "data": {
      "image/png": "[encoded data removed]",
      "text/plain": [
       "<Figure size 648x432 with 2 Axes>"
      ]
     },
     "metadata": {
      "needs_background": "light"
     },
     "output_type": "display_data"
    }
   ],
   "source": [
    "fig, axs = plt.subplots(nrows=2, sharex=True, figsize=(9,6), gridspec_kw={'height_ratios': [3, 1]})\n",
    "histargs = {\"bins\":10, \"range\":(0,1.), \"density\":True, \"histtype\":'step'}\n",
    "list0 = axs[0].hist(NN_Out_larger2, label=r\"Background for $\\Delta \\phi \\leq 2.0$\", **histargs)\n",
    "list1 = axs[0].hist(NN_Out_smaller2, label=r\"Background for $\\Delta \\phi < 2.0$\", **histargs)\n",
    "axs[0].hist(NN_Out, label=r\"Full Background\", **histargs)\n",
    "bin_centers = Calc_Bin_Center(list0[1])\n",
    "##Errorbars\n",
    "bin_entries_n, _ = np.histogram(NN_Out_larger2, bins=10, range=(0,1), density=True)\n",
    "bin_entries, _ = np.histogram(NN_Out_larger2, bins=10, range=(0,1))\n",
    "scale_factor = np.mean(bin_entries / bin_entries_n)\n",
    "error = np.sqrt(bin_entries) / scale_factor\n",
    "L2 = unp.uarray(bin_entries_n, error)\n",
    "bin_entries_n, _ = np.histogram(NN_Out_smaller2, bins=10, range=(0,1), density=True)\n",
    "bin_entries, _ = np.histogram(NN_Out_smaller2, bins=10, range=(0,1))\n",
    "scale_factor = np.mean(bin_entries / bin_entries_n)\n",
    "error = np.sqrt(bin_entries) / scale_factor\n",
    "S2 = unp.uarray(bin_entries_n, error)\n",
    "Ratio_errors = unp.std_devs(L2/S2)\n",
    "#axs[0].set_yscale('log')\n",
    "axs[0].set_ylabel(\"Density\")\n",
    "#axs[0].set_xlabel(r\"NN Output\")\n",
    "axs[0].legend(frameon=False)\n",
    "Frac = list1[0]/list0[0]\n",
    "axs[1].scatter(bin_centers, Frac, marker='.', linewidth=2, color='black', alpha=0.7)\n",
    "axs[1].set_ylabel(r\"Ratio\")\n",
    "axs[1].set_ylim(0.3,1.7)\n",
    "axs[1].hlines(1, -0.1, 1.1, alpha=0.5, linestyle='--', color='red', linewidth=0.6)\n",
    "axs[1].fill_between(bin_centers, 1-Ratio_errors, 1+Ratio_errors)\n",
    "#axs[1].grid()\n",
    "plt.subplots_adjust(hspace=0)\n",
    "plt.xlim(0,1)\n",
    "plt.xlabel(r\"NN Output\")\n",
    "plt.savefig('Background_compare.pdf')"
   ]
  },
  {
   "cell_type": "code",
   "execution_count": 12,
   "metadata": {
    "scrolled": false
   },
   "outputs": [
    {
     "data": {
      "image/png": "[encoded data removed]",
      "text/plain": [
       "<Figure size 648x432 with 2 Axes>"
      ]
     },
     "metadata": {
      "needs_background": "light"
     },
     "output_type": "display_data"
    }
   ],
   "source": [
    "fig, axs = plt.subplots(nrows=2, sharex=True, figsize=(9,6), gridspec_kw={'height_ratios': [3, 1]})\n",
    "histargs = {\"bins\":40, \"range\":(0,1.), \"density\":True, \"histtype\":'step'}\n",
    "list0 = axs[0].hist(NN_Out_larger2, label=r\"Background for $\\Delta \\phi \\leq 2.0$\", **histargs)\n",
    "list1 = axs[0].hist(NN_Out_smaller2, label=r\"Background for $\\Delta \\phi < 2.0$\", **histargs)\n",
    "axs[0].hist(NN_Out, label=r\"Full Background\", **histargs)\n",
    "#axs[0].set_yscale('log')\n",
    "axs[0].set_ylabel(\"Density\")\n",
    "#axs[0].set_xlabel(r\"NN Output\")\n",
    "axs[0].legend(frameon=False)\n",
    "bin_centers = Calc_Bin_Center(list0[1])\n",
    "Frac = list0[0]/list1[0]\n",
    "axs[1].scatter(bin_centers, Frac, marker='.', linewidth=2, color='black', alpha=0.7)\n",
    "axs[1].set_ylabel(r\"Ratio\")\n",
    "axs[1].set_ylim(0,3.9)\n",
    "axs[1].hlines(1, -0.1, 1.1, alpha=0.5, linestyle='--', color='red', linewidth=0.6)\n",
    "#axs[1].grid()\n",
    "plt.subplots_adjust(hspace=0)\n",
    "plt.xlim(0,1)\n",
    "plt.xlabel(r\"NN Output\")\n",
    "plt.savefig('Background_Linear_compare.pdf')"
   ]
  }
 ],
 "metadata": {
  "kernelspec": {
   "display_name": "Python 3",
   "language": "python",
   "name": "python3"
  },
  "language_info": {
   "codemirror_mode": {
    "name": "ipython",
    "version": 3
   },
   "file_extension": ".py",
   "mimetype": "text/x-python",
   "name": "python",
   "nbconvert_exporter": "python",
   "pygments_lexer": "ipython3",
   "version": "3.7.6"
  }
 },
 "nbformat": 4,
 "nbformat_minor": 4
}
